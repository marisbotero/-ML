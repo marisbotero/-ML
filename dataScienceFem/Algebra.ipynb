{
  "nbformat": 4,
  "nbformat_minor": 0,
  "metadata": {
    "colab": {
      "name": "Algebra.ipynb",
      "provenance": [],
      "authorship_tag": "ABX9TyMSkHFVVr75SJzSrIfai4w8",
      "include_colab_link": true
    },
    "kernelspec": {
      "name": "python3",
      "display_name": "Python 3"
    }
  },
  "cells": [
    {
      "cell_type": "markdown",
      "metadata": {
        "id": "view-in-github",
        "colab_type": "text"
      },
      "source": [
        "<a href=\"https://colab.research.google.com/github/marisbotero/ML/blob/master/Algebra.ipynb\" target=\"_parent\"><img src=\"https://colab.research.google.com/assets/colab-badge.svg\" alt=\"Open In Colab\"/></a>"
      ]
    },
    {
      "cell_type": "code",
      "metadata": {
        "id": "4lyStEh9vJAE",
        "colab_type": "code",
        "colab": {}
      },
      "source": [
        "import numpy as np"
      ],
      "execution_count": 0,
      "outputs": []
    },
    {
      "cell_type": "markdown",
      "metadata": {
        "id": "v7LuaCR1ApUd",
        "colab_type": "text"
      },
      "source": [
        "# Question 1.\n",
        "\n",
        "* Print the sum of matrixes A and B\n",
        "\n",
        "$$ A =\n",
        "\\left(\\begin{array}{cc} \n",
        "1 & 2\\\\\n",
        "3 & 4\\\\\n",
        "5 & 6\n",
        "\\end{array}\\right) + B =\n",
        "\\left(\\begin{array}{cc} \n",
        "6 & 5\\\\\n",
        "4 & 3\\\\\n",
        "2 & 1 \n",
        "\\end{array}\\right)\n",
        "$$ "
      ]
    },
    {
      "cell_type": "code",
      "metadata": {
        "id": "jDuBCQ2LQa6L",
        "colab_type": "code",
        "outputId": "d7265dc9-61f6-49c6-b167-b82322b39058",
        "colab": {
          "base_uri": "https://localhost:8080/",
          "height": 69
        }
      },
      "source": [
        "\n",
        "a=np.array([[1,2],[3,4],[5,6]])\n",
        "b=np.array([[6,5],[4,3],[2,1]])\n",
        "print(a+b)"
      ],
      "execution_count": 0,
      "outputs": [
        {
          "output_type": "stream",
          "text": [
            "[[7 7]\n",
            " [7 7]\n",
            " [7 7]]\n"
          ],
          "name": "stdout"
        }
      ]
    },
    {
      "cell_type": "markdown",
      "metadata": {
        "id": "vNBQj3bhAr4U",
        "colab_type": "text"
      },
      "source": [
        ""
      ]
    },
    {
      "cell_type": "markdown",
      "metadata": {
        "id": "hIBNMOMmB4F8",
        "colab_type": "text"
      },
      "source": [
        "# Question 2\n",
        "\n",
        "* Print the sum of matrix + scalar.\n",
        "\n",
        "$$ M =\n",
        "\\left(\\begin{array}{cc} \n",
        "6 & 3\\\\\n",
        "9 & 5\\\\\n",
        "4 & 8\n",
        "\\end{array}\\right) + N =\n",
        "\\left(\\begin{array}{cc} \n",
        "2.5 \\\\ \n",
        "\\end{array}\\right)\n",
        "$$ "
      ]
    },
    {
      "cell_type": "code",
      "metadata": {
        "id": "2_-3UKlcmlwz",
        "colab_type": "code",
        "outputId": "ffedcf0b-d997-4a82-a396-eb0ec23fca95",
        "colab": {
          "base_uri": "https://localhost:8080/",
          "height": 69
        }
      },
      "source": [
        "\n",
        "m=np.array([[6,3],[9,5],[4,8]])\n",
        "n=2.5\n",
        "print(m+n)"
      ],
      "execution_count": 0,
      "outputs": [
        {
          "output_type": "stream",
          "text": [
            "[[ 8.5  5.5]\n",
            " [11.5  7.5]\n",
            " [ 6.5 10.5]]\n"
          ],
          "name": "stdout"
        }
      ]
    },
    {
      "cell_type": "markdown",
      "metadata": {
        "id": "954x0NPSB-zq",
        "colab_type": "text"
      },
      "source": [
        "# Question 3.\n",
        "\n",
        "* Print the transposed matrix of  $J$  -->  $J^t$. \n",
        "\n",
        "$$ J =\n",
        "\\left(\\begin{array}{cc} \n",
        "9 & 2 & 3\\\\\n",
        "3 & 7 & 4 \\\\\n",
        "5 & 6 & 9\n",
        "\\end{array}\\right) \n",
        "$$ "
      ]
    },
    {
      "cell_type": "code",
      "metadata": {
        "id": "Y3fS1dHzSmic",
        "colab_type": "code",
        "outputId": "880176f3-e8e1-4477-f889-320bce923bc6",
        "colab": {
          "base_uri": "https://localhost:8080/",
          "height": 69
        }
      },
      "source": [
        "\n",
        "j=np.array([[9,2,3],[3,7,4],[5,6,9]])\n",
        "jt=j.T\n",
        "print(jt)"
      ],
      "execution_count": 0,
      "outputs": [
        {
          "output_type": "stream",
          "text": [
            "[[9 3 5]\n",
            " [2 7 6]\n",
            " [3 4 9]]\n"
          ],
          "name": "stdout"
        }
      ]
    },
    {
      "cell_type": "markdown",
      "metadata": {
        "id": "xUlQDJlqCJKS",
        "colab_type": "text"
      },
      "source": [
        "# Question 4.\n",
        "\n",
        "* For the $ J ^ t $ matrix, calculate your transpose to obtain the original matrix J. \n",
        "\n",
        "$$ J =\n",
        "\\left(\\begin{array}{cc} \n",
        "9 & 2 & 3\\\\\n",
        "3 & 7 & 4 \\\\\n",
        "5 & 6 & 9\n",
        "\\end{array}\\right) \n",
        "$$ "
      ]
    },
    {
      "cell_type": "code",
      "metadata": {
        "id": "ku0zlNNO80hf",
        "colab_type": "code",
        "outputId": "57b7a9d1-4488-49eb-f201-4c487f03076c",
        "colab": {
          "base_uri": "https://localhost:8080/",
          "height": 69
        }
      },
      "source": [
        "\n",
        "(jt.T)"
      ],
      "execution_count": 0,
      "outputs": [
        {
          "output_type": "execute_result",
          "data": {
            "text/plain": [
              "array([[9, 2, 3],\n",
              "       [3, 7, 4],\n",
              "       [5, 6, 9]])"
            ]
          },
          "metadata": {
            "tags": []
          },
          "execution_count": 10
        }
      ]
    },
    {
      "cell_type": "markdown",
      "metadata": {
        "id": "8qCz5CLmBWSF",
        "colab_type": "text"
      },
      "source": [
        ""
      ]
    },
    {
      "cell_type": "markdown",
      "metadata": {
        "id": "wsv2ra4IDj2U",
        "colab_type": "text"
      },
      "source": [
        "# Question 5.\n",
        "\n",
        "* \n",
        "What are the missing values? \n",
        "\n",
        "$$\n",
        "\\left(\\begin{array}{cc} \n",
        "? & 2\\\\\n",
        "0 & 2\n",
        "\\end{array}\\right)\n",
        "\\left(\\begin{array}{cc} \n",
        "1 & 0 \\\\ \n",
        "1 & ? \n",
        "\\end{array}\\right)\n",
        "$$ \n",
        "\n",
        " * so that the answer is like this:\n",
        "$\n",
        "\\left(\n",
        " \\begin {array}{ll} \n",
        "1 & 0 \\\\\n",
        "0   & 0\n",
        "\\end{array}\n",
        "\\right)\n",
        "$\n",
        "\n",
        "- [ A ] = 1 y 1\n",
        "- [ B ] = 0 y 1\n",
        "- [ C ] = 1 y 0\n",
        "- [ D ] = 0 y 0\n",
        "\n",
        "*  Print the result and the answer."
      ]
    },
    {
      "cell_type": "code",
      "metadata": {
        "id": "e9Htv_5LBTt2",
        "colab_type": "code",
        "colab": {}
      },
      "source": [
        "A = np.array([[1,2],[0,2]])\n",
        "d = np.array([[1,0],[1,0]])\n",
        "\n",
        "\n",
        "C = A * d\n"
      ],
      "execution_count": 0,
      "outputs": []
    },
    {
      "cell_type": "code",
      "metadata": {
        "id": "Yw_G7odVCCpv",
        "colab_type": "code",
        "outputId": "b3881c05-0ab3-4390-d538-dbef1705bb03",
        "colab": {
          "base_uri": "https://localhost:8080/",
          "height": 52
        }
      },
      "source": [
        "C"
      ],
      "execution_count": 0,
      "outputs": [
        {
          "output_type": "execute_result",
          "data": {
            "text/plain": [
              "array([[1, 0],\n",
              "       [0, 0]])"
            ]
          },
          "metadata": {
            "tags": []
          },
          "execution_count": 12
        }
      ]
    },
    {
      "cell_type": "markdown",
      "metadata": {
        "id": "EKH7mTRPCcU8",
        "colab_type": "text"
      },
      "source": [
        "# Question 6.\n",
        "* ¿ What is the dot product matrixes  $L$ y $K$ = : ?\n",
        "\n",
        "$$ L =\n",
        "\\left(\\begin{array}{cc} \n",
        "3 & 5 \\\\\n",
        "7 & 1 \\\\\n",
        "\\end{array}\\right) K =\n",
        "\\left(\\begin{array}{cc} \n",
        "3 & 12  \\\\\n",
        "6 & 4  \\\\\n",
        "\\end{array}\\right)\n",
        "$$ "
      ]
    },
    {
      "cell_type": "code",
      "metadata": {
        "id": "1sqofY1xCrF6",
        "colab_type": "code",
        "colab": {}
      },
      "source": [
        "L=np.array([[3,5],[7,1]])\n",
        "K=np.array([[3,12],[6,4]])\n",
        "respuesta =(L.dot(K))"
      ],
      "execution_count": 0,
      "outputs": []
    },
    {
      "cell_type": "code",
      "metadata": {
        "id": "RhLMYt70C4Pc",
        "colab_type": "code",
        "outputId": "db6d38e3-7dfe-43f8-fad7-05728ab658b1",
        "colab": {
          "base_uri": "https://localhost:8080/",
          "height": 52
        }
      },
      "source": [
        "respuesta"
      ],
      "execution_count": 0,
      "outputs": [
        {
          "output_type": "execute_result",
          "data": {
            "text/plain": [
              "array([[39, 56],\n",
              "       [27, 88]])"
            ]
          },
          "metadata": {
            "tags": []
          },
          "execution_count": 16
        }
      ]
    },
    {
      "cell_type": "markdown",
      "metadata": {
        "id": "4RZbgHvnCgxQ",
        "colab_type": "text"
      },
      "source": [
        "# Question 7.\n",
        "\n",
        "* ¿ What is the determinant of the following matrix  ? (Print the answer)\n",
        "\n",
        "$\n",
        "\\left(\n",
        "\\begin {array}{ll} \n",
        "1 & 2 & 0 \\\\\n",
        "1 & 2 & 0 \\\\\n",
        "0 & 1 & 1 \\\\\n",
        "\\end{array}\n",
        "\\right)\n",
        "$\n",
        "\n",
        "- [ A ] = 1 \n",
        "- [ B ] = 0 \n",
        "- [ C ] = 5\n",
        "- [ D ] = -5"
      ]
    },
    {
      "cell_type": "code",
      "metadata": {
        "id": "p6QCqH2RDAns",
        "colab_type": "code",
        "outputId": "86e8b1ac-7602-47b2-9fc7-2fd1a3c5a1fa",
        "colab": {
          "base_uri": "https://localhost:8080/",
          "height": 35
        }
      },
      "source": [
        "D = np.array([[1,2,0],[1,2,0], [0,1,1] ])\n",
        "\n",
        "dte= np.linalg.det(D)\n",
        "dte"
      ],
      "execution_count": 0,
      "outputs": [
        {
          "output_type": "execute_result",
          "data": {
            "text/plain": [
              "0.0"
            ]
          },
          "metadata": {
            "tags": []
          },
          "execution_count": 18
        }
      ]
    },
    {
      "cell_type": "markdown",
      "metadata": {
        "id": "UwQJCzoYCkZY",
        "colab_type": "text"
      },
      "source": [
        "# Question 8.\n",
        "\n",
        "* ¿ What is the determinant of the following matrix ? (Print the answer)\n",
        "\n",
        "$\n",
        "\\left(\n",
        "\\begin {array}{ll} \n",
        "0 & 1 & 1 \\\\\n",
        "1 & 0 & 0 \\\\\n",
        "0 & 0 & 1 \\\\\n",
        "\\end{array}\n",
        "\\right)\n",
        "$\n",
        "\n",
        "- [ A ] = 0 \n",
        "- [ B ] = -1 \n",
        "- [ C ] = 3\n",
        "- [ D ] = 1"
      ]
    },
    {
      "cell_type": "code",
      "metadata": {
        "id": "IkqB-mZoDIp2",
        "colab_type": "code",
        "outputId": "59823602-f299-4d57-ea86-7e3d8c48d739",
        "colab": {
          "base_uri": "https://localhost:8080/",
          "height": 35
        }
      },
      "source": [
        "F = np.array([[0,1,1],[1,0,0], [0,0,1] ])\n",
        "\n",
        "det2 = np.linalg.det(F)\n",
        "\n",
        "det2"
      ],
      "execution_count": 0,
      "outputs": [
        {
          "output_type": "execute_result",
          "data": {
            "text/plain": [
              "-1.0"
            ]
          },
          "metadata": {
            "tags": []
          },
          "execution_count": 19
        }
      ]
    },
    {
      "cell_type": "markdown",
      "metadata": {
        "id": "TattUEAoCoaK",
        "colab_type": "text"
      },
      "source": [
        "# Question 9\n",
        "\n",
        "* ¿What is the missing value?\n",
        "$$ \n",
        "\\left(\\begin{array}{cc} \n",
        "1 & 2 & 3\\\\\n",
        "4 & 5 & 6\\\\\n",
        "7 & 8 & 9\n",
        "\\end{array}\\right) \n",
        "\\left(\\begin{array}{cc} \n",
        "0 \\\\ \n",
        "? \\\\\n",
        "16 \\\\\n",
        "\\end{array}\\right) =\n",
        "\\left(\\begin{array}{cc} \n",
        "4 \\\\ \n",
        "10 \\\\\n",
        "16 \\\\\n",
        "\\end{array}\\right)\n",
        "$$ "
      ]
    },
    {
      "cell_type": "code",
      "metadata": {
        "id": "inFEMm9hDP9Y",
        "colab_type": "code",
        "outputId": "84b9a667-5f50-4599-f594-9ef9d670adb9",
        "colab": {
          "base_uri": "https://localhost:8080/",
          "height": 69
        }
      },
      "source": [
        "m_1 = np.array([[1,2,3],[4,5,6],[7,8,9]])\n",
        "m_2 = np.array([0,2,0])\n",
        "\n",
        "\n",
        "resu= m_1 * m_2\n",
        "resu"
      ],
      "execution_count": 0,
      "outputs": [
        {
          "output_type": "execute_result",
          "data": {
            "text/plain": [
              "array([[ 0,  4,  0],\n",
              "       [ 0, 10,  0],\n",
              "       [ 0, 16,  0]])"
            ]
          },
          "metadata": {
            "tags": []
          },
          "execution_count": 20
        }
      ]
    }
  ]
}