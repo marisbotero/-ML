{
  "nbformat": 4,
  "nbformat_minor": 0,
  "metadata": {
    "colab": {
      "name": "Titanic.ipynb",
      "provenance": [],
      "authorship_tag": "ABX9TyP5SVA6Si2G/Xs75DE8adoQ",
      "include_colab_link": true
    },
    "kernelspec": {
      "name": "python3",
      "display_name": "Python 3"
    }
  },
  "cells": [
    {
      "cell_type": "markdown",
      "metadata": {
        "id": "view-in-github",
        "colab_type": "text"
      },
      "source": [
        "<a href=\"https://colab.research.google.com/github/marisbotero/ML/blob/master/Titanic.ipynb\" target=\"_parent\"><img src=\"https://colab.research.google.com/assets/colab-badge.svg\" alt=\"Open In Colab\"/></a>"
      ]
    },
    {
      "cell_type": "markdown",
      "metadata": {
        "id": "f4_6PkTsz2Lx",
        "colab_type": "text"
      },
      "source": [
        "## Titanic\n",
        "\n",
        "1. Leer y explorar los datos\n",
        "2. Análisis de los datos\n",
        "3. Visualización de datos\n",
        "4. Datos de limpieza\n",
        "5. Elegir el mejor modelo"
      ]
    },
    {
      "cell_type": "markdown",
      "metadata": {
        "id": "MJIlGe_Y255P",
        "colab_type": "text"
      },
      "source": [
        "![texto alternativo](data:image/jpeg;base64,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)"
      ]
    },
    {
      "cell_type": "code",
      "metadata": {
        "id": "GBF0OtUxxhyM",
        "colab_type": "code",
        "colab": {}
      },
      "source": [
        "#librerias para limpieza y análisis númerico\n",
        "import pandas as pd\n",
        "import numpy as np"
      ],
      "execution_count": 0,
      "outputs": []
    },
    {
      "cell_type": "code",
      "metadata": {
        "id": "HKjBITavxx4h",
        "colab_type": "code",
        "colab": {}
      },
      "source": [
        "df_train = pd.read_csv('train.csv')"
      ],
      "execution_count": 0,
      "outputs": []
    },
    {
      "cell_type": "code",
      "metadata": {
        "id": "ppuGFUrUy5X3",
        "colab_type": "code",
        "outputId": "e1625861-52d9-40ab-af89-335578ba9ce1",
        "colab": {
          "base_uri": "https://localhost:8080/",
          "height": 202
        }
      },
      "source": [
        "df_train.head()"
      ],
      "execution_count": 0,
      "outputs": [
        {
          "output_type": "execute_result",
          "data": {
            "text/html": [
              "<div>\n",
              "<style scoped>\n",
              "    .dataframe tbody tr th:only-of-type {\n",
              "        vertical-align: middle;\n",
              "    }\n",
              "\n",
              "    .dataframe tbody tr th {\n",
              "        vertical-align: top;\n",
              "    }\n",
              "\n",
              "    .dataframe thead th {\n",
              "        text-align: right;\n",
              "    }\n",
              "</style>\n",
              "<table border=\"1\" class=\"dataframe\">\n",
              "  <thead>\n",
              "    <tr style=\"text-align: right;\">\n",
              "      <th></th>\n",
              "      <th>PassengerId</th>\n",
              "      <th>Survived</th>\n",
              "      <th>Pclass</th>\n",
              "      <th>Name</th>\n",
              "      <th>Sex</th>\n",
              "      <th>Age</th>\n",
              "      <th>SibSp</th>\n",
              "      <th>Parch</th>\n",
              "      <th>Ticket</th>\n",
              "      <th>Fare</th>\n",
              "      <th>Cabin</th>\n",
              "      <th>Embarked</th>\n",
              "    </tr>\n",
              "  </thead>\n",
              "  <tbody>\n",
              "    <tr>\n",
              "      <th>0</th>\n",
              "      <td>1</td>\n",
              "      <td>0</td>\n",
              "      <td>3</td>\n",
              "      <td>Braund, Mr. Owen Harris</td>\n",
              "      <td>male</td>\n",
              "      <td>22.0</td>\n",
              "      <td>1</td>\n",
              "      <td>0</td>\n",
              "      <td>A/5 21171</td>\n",
              "      <td>7.2500</td>\n",
              "      <td>NaN</td>\n",
              "      <td>S</td>\n",
              "    </tr>\n",
              "    <tr>\n",
              "      <th>1</th>\n",
              "      <td>2</td>\n",
              "      <td>1</td>\n",
              "      <td>1</td>\n",
              "      <td>Cumings, Mrs. John Bradley (Florence Briggs Th...</td>\n",
              "      <td>female</td>\n",
              "      <td>38.0</td>\n",
              "      <td>1</td>\n",
              "      <td>0</td>\n",
              "      <td>PC 17599</td>\n",
              "      <td>71.2833</td>\n",
              "      <td>C85</td>\n",
              "      <td>C</td>\n",
              "    </tr>\n",
              "    <tr>\n",
              "      <th>2</th>\n",
              "      <td>3</td>\n",
              "      <td>1</td>\n",
              "      <td>3</td>\n",
              "      <td>Heikkinen, Miss. Laina</td>\n",
              "      <td>female</td>\n",
              "      <td>26.0</td>\n",
              "      <td>0</td>\n",
              "      <td>0</td>\n",
              "      <td>STON/O2. 3101282</td>\n",
              "      <td>7.9250</td>\n",
              "      <td>NaN</td>\n",
              "      <td>S</td>\n",
              "    </tr>\n",
              "    <tr>\n",
              "      <th>3</th>\n",
              "      <td>4</td>\n",
              "      <td>1</td>\n",
              "      <td>1</td>\n",
              "      <td>Futrelle, Mrs. Jacques Heath (Lily May Peel)</td>\n",
              "      <td>female</td>\n",
              "      <td>35.0</td>\n",
              "      <td>1</td>\n",
              "      <td>0</td>\n",
              "      <td>113803</td>\n",
              "      <td>53.1000</td>\n",
              "      <td>C123</td>\n",
              "      <td>S</td>\n",
              "    </tr>\n",
              "    <tr>\n",
              "      <th>4</th>\n",
              "      <td>5</td>\n",
              "      <td>0</td>\n",
              "      <td>3</td>\n",
              "      <td>Allen, Mr. William Henry</td>\n",
              "      <td>male</td>\n",
              "      <td>35.0</td>\n",
              "      <td>0</td>\n",
              "      <td>0</td>\n",
              "      <td>373450</td>\n",
              "      <td>8.0500</td>\n",
              "      <td>NaN</td>\n",
              "      <td>S</td>\n",
              "    </tr>\n",
              "  </tbody>\n",
              "</table>\n",
              "</div>"
            ],
            "text/plain": [
              "   PassengerId  Survived  Pclass  ...     Fare Cabin  Embarked\n",
              "0            1         0       3  ...   7.2500   NaN         S\n",
              "1            2         1       1  ...  71.2833   C85         C\n",
              "2            3         1       3  ...   7.9250   NaN         S\n",
              "3            4         1       1  ...  53.1000  C123         S\n",
              "4            5         0       3  ...   8.0500   NaN         S\n",
              "\n",
              "[5 rows x 12 columns]"
            ]
          },
          "metadata": {
            "tags": []
          },
          "execution_count": 33
        }
      ]
    },
    {
      "cell_type": "code",
      "metadata": {
        "id": "dNqdNVhuzWlH",
        "colab_type": "code",
        "outputId": "26fc6591-ea44-49f0-9fc5-ed6cbb419e4d",
        "colab": {
          "base_uri": "https://localhost:8080/",
          "height": 294
        }
      },
      "source": [
        "df_train.describe()"
      ],
      "execution_count": 0,
      "outputs": [
        {
          "output_type": "execute_result",
          "data": {
            "text/html": [
              "<div>\n",
              "<style scoped>\n",
              "    .dataframe tbody tr th:only-of-type {\n",
              "        vertical-align: middle;\n",
              "    }\n",
              "\n",
              "    .dataframe tbody tr th {\n",
              "        vertical-align: top;\n",
              "    }\n",
              "\n",
              "    .dataframe thead th {\n",
              "        text-align: right;\n",
              "    }\n",
              "</style>\n",
              "<table border=\"1\" class=\"dataframe\">\n",
              "  <thead>\n",
              "    <tr style=\"text-align: right;\">\n",
              "      <th></th>\n",
              "      <th>PassengerId</th>\n",
              "      <th>Survived</th>\n",
              "      <th>Pclass</th>\n",
              "      <th>Age</th>\n",
              "      <th>SibSp</th>\n",
              "      <th>Parch</th>\n",
              "      <th>Fare</th>\n",
              "    </tr>\n",
              "  </thead>\n",
              "  <tbody>\n",
              "    <tr>\n",
              "      <th>count</th>\n",
              "      <td>891.000000</td>\n",
              "      <td>891.000000</td>\n",
              "      <td>891.000000</td>\n",
              "      <td>714.000000</td>\n",
              "      <td>891.000000</td>\n",
              "      <td>891.000000</td>\n",
              "      <td>891.000000</td>\n",
              "    </tr>\n",
              "    <tr>\n",
              "      <th>mean</th>\n",
              "      <td>446.000000</td>\n",
              "      <td>0.383838</td>\n",
              "      <td>2.308642</td>\n",
              "      <td>29.699118</td>\n",
              "      <td>0.523008</td>\n",
              "      <td>0.381594</td>\n",
              "      <td>32.204208</td>\n",
              "    </tr>\n",
              "    <tr>\n",
              "      <th>std</th>\n",
              "      <td>257.353842</td>\n",
              "      <td>0.486592</td>\n",
              "      <td>0.836071</td>\n",
              "      <td>14.526497</td>\n",
              "      <td>1.102743</td>\n",
              "      <td>0.806057</td>\n",
              "      <td>49.693429</td>\n",
              "    </tr>\n",
              "    <tr>\n",
              "      <th>min</th>\n",
              "      <td>1.000000</td>\n",
              "      <td>0.000000</td>\n",
              "      <td>1.000000</td>\n",
              "      <td>0.420000</td>\n",
              "      <td>0.000000</td>\n",
              "      <td>0.000000</td>\n",
              "      <td>0.000000</td>\n",
              "    </tr>\n",
              "    <tr>\n",
              "      <th>25%</th>\n",
              "      <td>223.500000</td>\n",
              "      <td>0.000000</td>\n",
              "      <td>2.000000</td>\n",
              "      <td>20.125000</td>\n",
              "      <td>0.000000</td>\n",
              "      <td>0.000000</td>\n",
              "      <td>7.910400</td>\n",
              "    </tr>\n",
              "    <tr>\n",
              "      <th>50%</th>\n",
              "      <td>446.000000</td>\n",
              "      <td>0.000000</td>\n",
              "      <td>3.000000</td>\n",
              "      <td>28.000000</td>\n",
              "      <td>0.000000</td>\n",
              "      <td>0.000000</td>\n",
              "      <td>14.454200</td>\n",
              "    </tr>\n",
              "    <tr>\n",
              "      <th>75%</th>\n",
              "      <td>668.500000</td>\n",
              "      <td>1.000000</td>\n",
              "      <td>3.000000</td>\n",
              "      <td>38.000000</td>\n",
              "      <td>1.000000</td>\n",
              "      <td>0.000000</td>\n",
              "      <td>31.000000</td>\n",
              "    </tr>\n",
              "    <tr>\n",
              "      <th>max</th>\n",
              "      <td>891.000000</td>\n",
              "      <td>1.000000</td>\n",
              "      <td>3.000000</td>\n",
              "      <td>80.000000</td>\n",
              "      <td>8.000000</td>\n",
              "      <td>6.000000</td>\n",
              "      <td>512.329200</td>\n",
              "    </tr>\n",
              "  </tbody>\n",
              "</table>\n",
              "</div>"
            ],
            "text/plain": [
              "       PassengerId    Survived      Pclass  ...       SibSp       Parch        Fare\n",
              "count   891.000000  891.000000  891.000000  ...  891.000000  891.000000  891.000000\n",
              "mean    446.000000    0.383838    2.308642  ...    0.523008    0.381594   32.204208\n",
              "std     257.353842    0.486592    0.836071  ...    1.102743    0.806057   49.693429\n",
              "min       1.000000    0.000000    1.000000  ...    0.000000    0.000000    0.000000\n",
              "25%     223.500000    0.000000    2.000000  ...    0.000000    0.000000    7.910400\n",
              "50%     446.000000    0.000000    3.000000  ...    0.000000    0.000000   14.454200\n",
              "75%     668.500000    1.000000    3.000000  ...    1.000000    0.000000   31.000000\n",
              "max     891.000000    1.000000    3.000000  ...    8.000000    6.000000  512.329200\n",
              "\n",
              "[8 rows x 7 columns]"
            ]
          },
          "metadata": {
            "tags": []
          },
          "execution_count": 34
        }
      ]
    },
    {
      "cell_type": "markdown",
      "metadata": {
        "id": "4GI9Ivjd0N37",
        "colab_type": "text"
      },
      "source": [
        "## *¿Le hacemos preguntas a los datos?*\n",
        "- ¿El género importa?\n",
        "- Los que sobreviven que edad tienes?\n",
        "- Que clase social tienen?"
      ]
    },
    {
      "cell_type": "code",
      "metadata": {
        "id": "wP2DNLyoz9Eo",
        "colab_type": "code",
        "outputId": "67f45faf-e6a0-4dd4-910d-dfa02fb9bb5f",
        "colab": {
          "base_uri": "https://localhost:8080/",
          "height": 69
        }
      },
      "source": [
        "(df[\"Survived\"][df[\"Sex\"]=='male'].value_counts(normalize = True))"
      ],
      "execution_count": 0,
      "outputs": [
        {
          "output_type": "execute_result",
          "data": {
            "text/plain": [
              "0    0.811092\n",
              "1    0.188908\n",
              "Name: Survived, dtype: float64"
            ]
          },
          "metadata": {
            "tags": []
          },
          "execution_count": 35
        }
      ]
    },
    {
      "cell_type": "code",
      "metadata": {
        "colab_type": "code",
        "outputId": "9f93f1da-ba1c-42ee-fe65-dcb43841a53a",
        "id": "eFJEhreE06o3",
        "colab": {
          "base_uri": "https://localhost:8080/",
          "height": 69
        }
      },
      "source": [
        "(df[\"Survived\"][df[\"Sex\"]=='female'].value_counts(normalize = True))"
      ],
      "execution_count": 0,
      "outputs": [
        {
          "output_type": "execute_result",
          "data": {
            "text/plain": [
              "1    0.742038\n",
              "0    0.257962\n",
              "Name: Survived, dtype: float64"
            ]
          },
          "metadata": {
            "tags": []
          },
          "execution_count": 36
        }
      ]
    },
    {
      "cell_type": "code",
      "metadata": {
        "id": "JZfWdcwb1qFp",
        "colab_type": "code",
        "outputId": "06542d1f-1384-45b9-8df4-51b55b01ae77",
        "colab": {
          "base_uri": "https://localhost:8080/",
          "height": 297
        }
      },
      "source": [
        "import seaborn as sns\n",
        "sns.barplot(x=\"Sex\", y=\"Survived\", data=df_train)"
      ],
      "execution_count": 0,
      "outputs": [
        {
          "output_type": "execute_result",
          "data": {
            "text/plain": [
              "<matplotlib.axes._subplots.AxesSubplot at 0x7f3b13e9e1d0>"
            ]
          },
          "metadata": {
            "tags": []
          },
          "execution_count": 37
        },
        {
          "output_type": "display_data",
          "data": {
            "image/png": "[encoded data removed]",
            "text/plain": [
              "<Figure size 432x288 with 1 Axes>"
            ]
          },
          "metadata": {
            "tags": []
          }
        }
      ]
    },
    {
      "cell_type": "code",
      "metadata": {
        "id": "YUWya7c32CUL",
        "colab_type": "code",
        "outputId": "3b459994-6b79-4ab3-a30b-c21468be09c1",
        "colab": {
          "base_uri": "https://localhost:8080/",
          "height": 297
        }
      },
      "source": [
        "sns.barplot(x=\"Pclass\", y=\"Survived\", data=df_train)"
      ],
      "execution_count": 0,
      "outputs": [
        {
          "output_type": "execute_result",
          "data": {
            "text/plain": [
              "<matplotlib.axes._subplots.AxesSubplot at 0x7f3b13f0be80>"
            ]
          },
          "metadata": {
            "tags": []
          },
          "execution_count": 38
        },
        {
          "output_type": "display_data",
          "data": {
            "image/png": "[encoded data removed]",
            "text/plain": [
              "<Figure size 432x288 with 1 Axes>"
            ]
          },
          "metadata": {
            "tags": []
          }
        }
      ]
    },
    {
      "cell_type": "code",
      "metadata": {
        "id": "CWH1LPGd2KcQ",
        "colab_type": "code",
        "outputId": "160fa567-2980-4632-f2b0-d30b62db046c",
        "colab": {
          "base_uri": "https://localhost:8080/",
          "height": 297
        }
      },
      "source": [
        "sns.barplot(x=\"SibSp\", y=\"Survived\", data=df_train)"
      ],
      "execution_count": 0,
      "outputs": [
        {
          "output_type": "execute_result",
          "data": {
            "text/plain": [
              "<matplotlib.axes._subplots.AxesSubplot at 0x7f3b13dc45c0>"
            ]
          },
          "metadata": {
            "tags": []
          },
          "execution_count": 39
        },
        {
          "output_type": "display_data",
          "data": {
            "image/png": "[encoded data removed]",
            "text/plain": [
              "<Figure size 432x288 with 1 Axes>"
            ]
          },
          "metadata": {
            "tags": []
          }
        }
      ]
    },
    {
      "cell_type": "code",
      "metadata": {
        "id": "5WCEvOLE2TOb",
        "colab_type": "code",
        "outputId": "b9918fff-9f55-439b-fbbb-bf4584b28fca",
        "colab": {
          "base_uri": "https://localhost:8080/",
          "height": 297
        }
      },
      "source": [
        "sns.barplot(x=\"Parch\", y=\"Survived\", data=df_train)"
      ],
      "execution_count": 0,
      "outputs": [
        {
          "output_type": "execute_result",
          "data": {
            "text/plain": [
              "<matplotlib.axes._subplots.AxesSubplot at 0x7f3b13d467f0>"
            ]
          },
          "metadata": {
            "tags": []
          },
          "execution_count": 40
        },
        {
          "output_type": "display_data",
          "data": {
            "image/png": "[encoded data removed]",
            "text/plain": [
              "<Figure size 432x288 with 1 Axes>"
            ]
          },
          "metadata": {
            "tags": []
          }
        }
      ]
    },
    {
      "cell_type": "markdown",
      "metadata": {
        "id": "ef_jj3Z05axT",
        "colab_type": "text"
      },
      "source": [
        "- Características numéricas: edad (continua), tarifa (continua), SibSp (discreta), parch (discreta)\n",
        "- Características categóricas: sobrevivido, sexo, embarcado, clase\n",
        "- Características alfanuméricas: boleto, cabina"
      ]
    },
    {
      "cell_type": "code",
      "metadata": {
        "id": "Lq1lGMrl5vrQ",
        "colab_type": "code",
        "outputId": "254a69f8-ef19-4cc9-f0b7-2505138cb510",
        "colab": {
          "base_uri": "https://localhost:8080/",
          "height": 312
        }
      },
      "source": [
        "df_train.info()"
      ],
      "execution_count": 0,
      "outputs": [
        {
          "output_type": "stream",
          "text": [
            "<class 'pandas.core.frame.DataFrame'>\n",
            "RangeIndex: 891 entries, 0 to 890\n",
            "Data columns (total 12 columns):\n",
            "PassengerId    891 non-null int64\n",
            "Survived       891 non-null int64\n",
            "Pclass         891 non-null int64\n",
            "Name           891 non-null object\n",
            "Sex            891 non-null object\n",
            "Age            714 non-null float64\n",
            "SibSp          891 non-null int64\n",
            "Parch          891 non-null int64\n",
            "Ticket         891 non-null object\n",
            "Fare           891 non-null float64\n",
            "Cabin          204 non-null object\n",
            "Embarked       889 non-null object\n",
            "dtypes: float64(2), int64(5), object(5)\n",
            "memory usage: 83.7+ KB\n"
          ],
          "name": "stdout"
        }
      ]
    },
    {
      "cell_type": "code",
      "metadata": {
        "id": "XF69Tcuz54F-",
        "colab_type": "code",
        "outputId": "4dfc2141-fd80-4ec1-fc5e-07902ece5a46",
        "colab": {
          "base_uri": "https://localhost:8080/",
          "height": 403
        }
      },
      "source": [
        "df_train.describe(include = \"all\")"
      ],
      "execution_count": 0,
      "outputs": [
        {
          "output_type": "execute_result",
          "data": {
            "text/html": [
              "<div>\n",
              "<style scoped>\n",
              "    .dataframe tbody tr th:only-of-type {\n",
              "        vertical-align: middle;\n",
              "    }\n",
              "\n",
              "    .dataframe tbody tr th {\n",
              "        vertical-align: top;\n",
              "    }\n",
              "\n",
              "    .dataframe thead th {\n",
              "        text-align: right;\n",
              "    }\n",
              "</style>\n",
              "<table border=\"1\" class=\"dataframe\">\n",
              "  <thead>\n",
              "    <tr style=\"text-align: right;\">\n",
              "      <th></th>\n",
              "      <th>PassengerId</th>\n",
              "      <th>Survived</th>\n",
              "      <th>Pclass</th>\n",
              "      <th>Name</th>\n",
              "      <th>Sex</th>\n",
              "      <th>Age</th>\n",
              "      <th>SibSp</th>\n",
              "      <th>Parch</th>\n",
              "      <th>Ticket</th>\n",
              "      <th>Fare</th>\n",
              "      <th>Cabin</th>\n",
              "      <th>Embarked</th>\n",
              "    </tr>\n",
              "  </thead>\n",
              "  <tbody>\n",
              "    <tr>\n",
              "      <th>count</th>\n",
              "      <td>891.000000</td>\n",
              "      <td>891.000000</td>\n",
              "      <td>891.000000</td>\n",
              "      <td>891</td>\n",
              "      <td>891</td>\n",
              "      <td>714.000000</td>\n",
              "      <td>891.000000</td>\n",
              "      <td>891.000000</td>\n",
              "      <td>891</td>\n",
              "      <td>891.000000</td>\n",
              "      <td>204</td>\n",
              "      <td>889</td>\n",
              "    </tr>\n",
              "    <tr>\n",
              "      <th>unique</th>\n",
              "      <td>NaN</td>\n",
              "      <td>NaN</td>\n",
              "      <td>NaN</td>\n",
              "      <td>891</td>\n",
              "      <td>2</td>\n",
              "      <td>NaN</td>\n",
              "      <td>NaN</td>\n",
              "      <td>NaN</td>\n",
              "      <td>681</td>\n",
              "      <td>NaN</td>\n",
              "      <td>147</td>\n",
              "      <td>3</td>\n",
              "    </tr>\n",
              "    <tr>\n",
              "      <th>top</th>\n",
              "      <td>NaN</td>\n",
              "      <td>NaN</td>\n",
              "      <td>NaN</td>\n",
              "      <td>Barkworth, Mr. Algernon Henry Wilson</td>\n",
              "      <td>male</td>\n",
              "      <td>NaN</td>\n",
              "      <td>NaN</td>\n",
              "      <td>NaN</td>\n",
              "      <td>347082</td>\n",
              "      <td>NaN</td>\n",
              "      <td>B96 B98</td>\n",
              "      <td>S</td>\n",
              "    </tr>\n",
              "    <tr>\n",
              "      <th>freq</th>\n",
              "      <td>NaN</td>\n",
              "      <td>NaN</td>\n",
              "      <td>NaN</td>\n",
              "      <td>1</td>\n",
              "      <td>577</td>\n",
              "      <td>NaN</td>\n",
              "      <td>NaN</td>\n",
              "      <td>NaN</td>\n",
              "      <td>7</td>\n",
              "      <td>NaN</td>\n",
              "      <td>4</td>\n",
              "      <td>644</td>\n",
              "    </tr>\n",
              "    <tr>\n",
              "      <th>mean</th>\n",
              "      <td>446.000000</td>\n",
              "      <td>0.383838</td>\n",
              "      <td>2.308642</td>\n",
              "      <td>NaN</td>\n",
              "      <td>NaN</td>\n",
              "      <td>29.699118</td>\n",
              "      <td>0.523008</td>\n",
              "      <td>0.381594</td>\n",
              "      <td>NaN</td>\n",
              "      <td>32.204208</td>\n",
              "      <td>NaN</td>\n",
              "      <td>NaN</td>\n",
              "    </tr>\n",
              "    <tr>\n",
              "      <th>std</th>\n",
              "      <td>257.353842</td>\n",
              "      <td>0.486592</td>\n",
              "      <td>0.836071</td>\n",
              "      <td>NaN</td>\n",
              "      <td>NaN</td>\n",
              "      <td>14.526497</td>\n",
              "      <td>1.102743</td>\n",
              "      <td>0.806057</td>\n",
              "      <td>NaN</td>\n",
              "      <td>49.693429</td>\n",
              "      <td>NaN</td>\n",
              "      <td>NaN</td>\n",
              "    </tr>\n",
              "    <tr>\n",
              "      <th>min</th>\n",
              "      <td>1.000000</td>\n",
              "      <td>0.000000</td>\n",
              "      <td>1.000000</td>\n",
              "      <td>NaN</td>\n",
              "      <td>NaN</td>\n",
              "      <td>0.420000</td>\n",
              "      <td>0.000000</td>\n",
              "      <td>0.000000</td>\n",
              "      <td>NaN</td>\n",
              "      <td>0.000000</td>\n",
              "      <td>NaN</td>\n",
              "      <td>NaN</td>\n",
              "    </tr>\n",
              "    <tr>\n",
              "      <th>25%</th>\n",
              "      <td>223.500000</td>\n",
              "      <td>0.000000</td>\n",
              "      <td>2.000000</td>\n",
              "      <td>NaN</td>\n",
              "      <td>NaN</td>\n",
              "      <td>20.125000</td>\n",
              "      <td>0.000000</td>\n",
              "      <td>0.000000</td>\n",
              "      <td>NaN</td>\n",
              "      <td>7.910400</td>\n",
              "      <td>NaN</td>\n",
              "      <td>NaN</td>\n",
              "    </tr>\n",
              "    <tr>\n",
              "      <th>50%</th>\n",
              "      <td>446.000000</td>\n",
              "      <td>0.000000</td>\n",
              "      <td>3.000000</td>\n",
              "      <td>NaN</td>\n",
              "      <td>NaN</td>\n",
              "      <td>28.000000</td>\n",
              "      <td>0.000000</td>\n",
              "      <td>0.000000</td>\n",
              "      <td>NaN</td>\n",
              "      <td>14.454200</td>\n",
              "      <td>NaN</td>\n",
              "      <td>NaN</td>\n",
              "    </tr>\n",
              "    <tr>\n",
              "      <th>75%</th>\n",
              "      <td>668.500000</td>\n",
              "      <td>1.000000</td>\n",
              "      <td>3.000000</td>\n",
              "      <td>NaN</td>\n",
              "      <td>NaN</td>\n",
              "      <td>38.000000</td>\n",
              "      <td>1.000000</td>\n",
              "      <td>0.000000</td>\n",
              "      <td>NaN</td>\n",
              "      <td>31.000000</td>\n",
              "      <td>NaN</td>\n",
              "      <td>NaN</td>\n",
              "    </tr>\n",
              "    <tr>\n",
              "      <th>max</th>\n",
              "      <td>891.000000</td>\n",
              "      <td>1.000000</td>\n",
              "      <td>3.000000</td>\n",
              "      <td>NaN</td>\n",
              "      <td>NaN</td>\n",
              "      <td>80.000000</td>\n",
              "      <td>8.000000</td>\n",
              "      <td>6.000000</td>\n",
              "      <td>NaN</td>\n",
              "      <td>512.329200</td>\n",
              "      <td>NaN</td>\n",
              "      <td>NaN</td>\n",
              "    </tr>\n",
              "  </tbody>\n",
              "</table>\n",
              "</div>"
            ],
            "text/plain": [
              "        PassengerId    Survived      Pclass  ...        Fare    Cabin  Embarked\n",
              "count    891.000000  891.000000  891.000000  ...  891.000000      204       889\n",
              "unique          NaN         NaN         NaN  ...         NaN      147         3\n",
              "top             NaN         NaN         NaN  ...         NaN  B96 B98         S\n",
              "freq            NaN         NaN         NaN  ...         NaN        4       644\n",
              "mean     446.000000    0.383838    2.308642  ...   32.204208      NaN       NaN\n",
              "std      257.353842    0.486592    0.836071  ...   49.693429      NaN       NaN\n",
              "min        1.000000    0.000000    1.000000  ...    0.000000      NaN       NaN\n",
              "25%      223.500000    0.000000    2.000000  ...    7.910400      NaN       NaN\n",
              "50%      446.000000    0.000000    3.000000  ...   14.454200      NaN       NaN\n",
              "75%      668.500000    1.000000    3.000000  ...   31.000000      NaN       NaN\n",
              "max      891.000000    1.000000    3.000000  ...  512.329200      NaN       NaN\n",
              "\n",
              "[11 rows x 12 columns]"
            ]
          },
          "metadata": {
            "tags": []
          },
          "execution_count": 42
        }
      ]
    },
    {
      "cell_type": "code",
      "metadata": {
        "id": "bcFb41bB53cG",
        "colab_type": "code",
        "colab": {}
      },
      "source": [
        "df_train = df_train.drop(['Cabin'], axis = 1)"
      ],
      "execution_count": 0,
      "outputs": []
    },
    {
      "cell_type": "code",
      "metadata": {
        "id": "dHNYaBCj7lau",
        "colab_type": "code",
        "colab": {}
      },
      "source": [
        "df_train = df_train.drop(['Ticket'], axis = 1)"
      ],
      "execution_count": 0,
      "outputs": []
    },
    {
      "cell_type": "code",
      "metadata": {
        "id": "kuWvfXDz7sNF",
        "colab_type": "code",
        "outputId": "43e1879c-58f5-4b85-9823-3605c89d95a2",
        "colab": {
          "base_uri": "https://localhost:8080/",
          "height": 121
        }
      },
      "source": [
        "print(\"Number of people embarking in Southampton (S):\")\n",
        "southampton = df_train[df_train[\"Embarked\"] == \"S\"].shape[0]\n",
        "print(southampton)\n",
        "\n",
        "print(\"Number of people embarking in Cherbourg (C):\")\n",
        "cherbourg = df_train[df_train[\"Embarked\"] == \"C\"].shape[0]\n",
        "print(cherbourg)\n",
        "\n",
        "print(\"Number of people embarking in Queenstown (Q):\")\n",
        "queenstown = df_train[df_train[\"Embarked\"] == \"Q\"].shape[0]\n",
        "print(queenstown)"
      ],
      "execution_count": 0,
      "outputs": [
        {
          "output_type": "stream",
          "text": [
            "Number of people embarking in Southampton (S):\n",
            "644\n",
            "Number of people embarking in Cherbourg (C):\n",
            "168\n",
            "Number of people embarking in Queenstown (Q):\n",
            "77\n"
          ],
          "name": "stdout"
        }
      ]
    },
    {
      "cell_type": "markdown",
      "metadata": {
        "id": "lTeqm36ACgOo",
        "colab_type": "text"
      },
      "source": [
        "## Implementación del Titanic con tensorflow"
      ]
    },
    {
      "cell_type": "code",
      "metadata": {
        "id": "Y2gn9exk1YvY",
        "colab_type": "code",
        "colab": {}
      },
      "source": [
        "# importing libraries\n",
        "\n",
        "import numpy as np\n",
        "import pandas as pd\n",
        "import seaborn as sns\n",
        "import matplotlib.pyplot as plt\n",
        "from matplotlib.pyplot import rcParams\n",
        "import os\n",
        "from sklearn.model_selection import train_test_split\n",
        "from sklearn.model_selection import GridSearchCV, cross_val_score\n",
        "from sklearn.ensemble import RandomForestClassifier\n",
        "from sklearn.metrics import accuracy_score, f1_score, precision_score, recall_score"
      ],
      "execution_count": 0,
      "outputs": []
    },
    {
      "cell_type": "code",
      "metadata": {
        "id": "4PJiIhKoBPm5",
        "colab_type": "code",
        "colab": {}
      },
      "source": [
        "train = pd.read_csv('train.csv')\n",
        "test = pd.read_csv('test.csv')"
      ],
      "execution_count": 0,
      "outputs": []
    },
    {
      "cell_type": "code",
      "metadata": {
        "id": "wznhlMF8BVGw",
        "colab_type": "code",
        "outputId": "4258caba-60f8-422d-8187-e256306aa938",
        "colab": {
          "base_uri": "https://localhost:8080/",
          "height": 69
        }
      },
      "source": [
        "df['Survived'].value_counts()"
      ],
      "execution_count": 0,
      "outputs": [
        {
          "output_type": "execute_result",
          "data": {
            "text/plain": [
              "0    549\n",
              "1    342\n",
              "Name: Survived, dtype: int64"
            ]
          },
          "metadata": {
            "tags": []
          },
          "execution_count": 50
        }
      ]
    },
    {
      "cell_type": "code",
      "metadata": {
        "id": "b5Wl9FAuBYuR",
        "colab_type": "code",
        "outputId": "93c4a5fa-dae3-43e3-bd0d-e18d4f6a9d5a",
        "colab": {
          "base_uri": "https://localhost:8080/",
          "height": 139
        }
      },
      "source": [
        "df['Title'] = df['Name'].str.extract('([A-Za-z]+)\\.', expand=True)\n",
        "\n",
        "# replacing some titles with more common ones\n",
        "mapping = {'Mlle': 'Miss', 'Major': 'Mr', 'Col': 'Mr', 'Sir': 'Mr',\n",
        "           'Don': 'Mr', 'Mme': 'Mrs', 'Jonkheer': 'Mr', 'Lady': 'Mrs',\n",
        "           'Capt': 'Mr', 'Countess': 'Mrs', 'Ms': 'Miss', 'Dona': 'Mrs'}\n",
        "df.replace({'Title': mapping}, inplace=True)\n",
        "\n",
        "df['Title'].value_counts()"
      ],
      "execution_count": 0,
      "outputs": [
        {
          "output_type": "execute_result",
          "data": {
            "text/plain": [
              "Mr        525\n",
              "Miss      185\n",
              "Mrs       128\n",
              "Master     40\n",
              "Dr          7\n",
              "Rev         6\n",
              "Name: Title, dtype: int64"
            ]
          },
          "metadata": {
            "tags": []
          },
          "execution_count": 51
        }
      ]
    },
    {
      "cell_type": "code",
      "metadata": {
        "id": "tn2_QO-GBeXD",
        "colab_type": "code",
        "outputId": "1e2421eb-a1ee-4e11-d72e-8376017b8d5a",
        "colab": {
          "base_uri": "https://localhost:8080/",
          "height": 301
        }
      },
      "source": [
        "# impute missing Age values using median of Title groups\n",
        "title_ages = dict(df.groupby('Title')['Age'].median())\n",
        "\n",
        "# create a column of the average ages\n",
        "df['age_med'] = df['Title'].apply(lambda x: title_ages[x])\n",
        "\n",
        "# replace all missing ages with the value in this column\n",
        "df['Age'].fillna(df['age_med'], inplace=True, )\n",
        "del df['age_med']\n",
        "\n",
        "# viz of survival rates of titles\n",
        "\n",
        "sns.countplot(x='Title', data=df, hue='Survived')\n",
        "plt.xticks(rotation=45)\n",
        "plt.show()"
      ],
      "execution_count": 0,
      "outputs": [
        {
          "output_type": "display_data",
          "data": {
            "image/png": "[encoded data removed]",
            "text/plain": [
              "<Figure size 432x288 with 1 Axes>"
            ]
          },
          "metadata": {
            "tags": []
          }
        }
      ]
    },
    {
      "cell_type": "code",
      "metadata": {
        "id": "jduVVMdFBjGv",
        "colab_type": "code",
        "colab": {}
      },
      "source": [
        "# impute missing Fare values using median of Pclass groups\n",
        "class_fares = dict(df.groupby('Pclass')['Fare'].median())\n",
        "\n",
        "# create a column of the average fares\n",
        "df['fare_med'] = df['Pclass'].apply(lambda x: class_fares[x])\n",
        "\n",
        "# replace all missing fares with the value in this column\n",
        "df['Fare'].fillna(df['fare_med'], inplace=True, )\n",
        "del df['fare_med']"
      ],
      "execution_count": 0,
      "outputs": []
    },
    {
      "cell_type": "code",
      "metadata": {
        "id": "24d-44PCBoKx",
        "colab_type": "code",
        "colab": {}
      },
      "source": [
        "df['Embarked'].fillna(method='backfill', inplace=True)\n",
        "\n",
        "df['Family_Size'] = df['Parch'] + df['SibSp']"
      ],
      "execution_count": 0,
      "outputs": []
    },
    {
      "cell_type": "code",
      "metadata": {
        "id": "Mo3xXGz-BrCl",
        "colab_type": "code",
        "outputId": "23cbeffb-0b78-400e-eb4f-d1ac7b91c077",
        "colab": {
          "base_uri": "https://localhost:8080/",
          "height": 81
        }
      },
      "source": [
        "train = df[pd.notnull(df['Survived'])]\n",
        "test = df[pd.isnull(df['Survived'])]\n",
        "\n",
        "# importing for tensorflow\n",
        "\n",
        "from sklearn.preprocessing import StandardScaler\n",
        "from sklearn.model_selection import train_test_split\n",
        "from sklearn.model_selection import GridSearchCV\n",
        "from keras.wrappers.scikit_learn import KerasClassifier\n",
        "from keras.models import Sequential\n",
        "from keras.layers import Dense, Activation, Dropout\n",
        "\n",
        "from numpy.random import seed"
      ],
      "execution_count": 0,
      "outputs": [
        {
          "output_type": "stream",
          "text": [
            "Using TensorFlow backend.\n"
          ],
          "name": "stderr"
        },
        {
          "output_type": "display_data",
          "data": {
            "text/html": [
              "<p style=\"color: red;\">\n",
              "The default version of TensorFlow in Colab will soon switch to TensorFlow 2.x.<br>\n",
              "We recommend you <a href=\"https://www.tensorflow.org/guide/migrate\" target=\"_blank\">upgrade</a> now \n",
              "or ensure your notebook will continue to use TensorFlow 1.x via the <code>%tensorflow_version 1.x</code> magic:\n",
              "<a href=\"https://colab.research.google.com/notebooks/tensorflow_version.ipynb\" target=\"_blank\">more info</a>.</p>\n"
            ],
            "text/plain": [
              "<IPython.core.display.HTML object>"
            ]
          },
          "metadata": {
            "tags": []
          }
        }
      ]
    },
    {
      "cell_type": "code",
      "metadata": {
        "id": "zQJDjJfFBtyF",
        "colab_type": "code",
        "outputId": "6912d331-1096-4a49-9c8a-4a0995fc6f4c",
        "colab": {
          "base_uri": "https://localhost:8080/",
          "height": 202
        }
      },
      "source": [
        "df.drop(['Cabin', 'Name', 'Ticket', 'PassengerId'], axis=1, inplace=True)\n",
        "\n",
        "continuous = ['Age', 'Fare', 'Parch', 'Pclass', 'SibSp', 'Family_Size']\n",
        "\n",
        "scaler = StandardScaler()\n",
        "\n",
        "for var in continuous:\n",
        "    df[var] = df[var].astype('float64')\n",
        "    df[var] = scaler.fit_transform(df[var].values.reshape(-1, 1))\n",
        "   \n",
        "df.head()"
      ],
      "execution_count": 0,
      "outputs": [
        {
          "output_type": "execute_result",
          "data": {
            "text/html": [
              "<div>\n",
              "<style scoped>\n",
              "    .dataframe tbody tr th:only-of-type {\n",
              "        vertical-align: middle;\n",
              "    }\n",
              "\n",
              "    .dataframe tbody tr th {\n",
              "        vertical-align: top;\n",
              "    }\n",
              "\n",
              "    .dataframe thead th {\n",
              "        text-align: right;\n",
              "    }\n",
              "</style>\n",
              "<table border=\"1\" class=\"dataframe\">\n",
              "  <thead>\n",
              "    <tr style=\"text-align: right;\">\n",
              "      <th></th>\n",
              "      <th>Survived</th>\n",
              "      <th>Pclass</th>\n",
              "      <th>Sex</th>\n",
              "      <th>Age</th>\n",
              "      <th>SibSp</th>\n",
              "      <th>Parch</th>\n",
              "      <th>Fare</th>\n",
              "      <th>Embarked</th>\n",
              "      <th>below18</th>\n",
              "      <th>Title</th>\n",
              "      <th>Family_Size</th>\n",
              "    </tr>\n",
              "  </thead>\n",
              "  <tbody>\n",
              "    <tr>\n",
              "      <th>0</th>\n",
              "      <td>0</td>\n",
              "      <td>0.827377</td>\n",
              "      <td>male</td>\n",
              "      <td>-0.557420</td>\n",
              "      <td>0.432793</td>\n",
              "      <td>-0.473674</td>\n",
              "      <td>-0.502445</td>\n",
              "      <td>S</td>\n",
              "      <td>NaN</td>\n",
              "      <td>Mr</td>\n",
              "      <td>0.059160</td>\n",
              "    </tr>\n",
              "    <tr>\n",
              "      <th>1</th>\n",
              "      <td>1</td>\n",
              "      <td>-1.566107</td>\n",
              "      <td>female</td>\n",
              "      <td>0.649410</td>\n",
              "      <td>0.432793</td>\n",
              "      <td>-0.473674</td>\n",
              "      <td>0.786845</td>\n",
              "      <td>C</td>\n",
              "      <td>NaN</td>\n",
              "      <td>Mrs</td>\n",
              "      <td>0.059160</td>\n",
              "    </tr>\n",
              "    <tr>\n",
              "      <th>2</th>\n",
              "      <td>1</td>\n",
              "      <td>0.827377</td>\n",
              "      <td>female</td>\n",
              "      <td>-0.255712</td>\n",
              "      <td>-0.474545</td>\n",
              "      <td>-0.473674</td>\n",
              "      <td>-0.488854</td>\n",
              "      <td>S</td>\n",
              "      <td>NaN</td>\n",
              "      <td>Miss</td>\n",
              "      <td>-0.560975</td>\n",
              "    </tr>\n",
              "    <tr>\n",
              "      <th>3</th>\n",
              "      <td>1</td>\n",
              "      <td>-1.566107</td>\n",
              "      <td>female</td>\n",
              "      <td>0.423129</td>\n",
              "      <td>0.432793</td>\n",
              "      <td>-0.473674</td>\n",
              "      <td>0.420730</td>\n",
              "      <td>S</td>\n",
              "      <td>NaN</td>\n",
              "      <td>Mrs</td>\n",
              "      <td>0.059160</td>\n",
              "    </tr>\n",
              "    <tr>\n",
              "      <th>4</th>\n",
              "      <td>0</td>\n",
              "      <td>0.827377</td>\n",
              "      <td>male</td>\n",
              "      <td>0.423129</td>\n",
              "      <td>-0.474545</td>\n",
              "      <td>-0.473674</td>\n",
              "      <td>-0.486337</td>\n",
              "      <td>S</td>\n",
              "      <td>NaN</td>\n",
              "      <td>Mr</td>\n",
              "      <td>-0.560975</td>\n",
              "    </tr>\n",
              "  </tbody>\n",
              "</table>\n",
              "</div>"
            ],
            "text/plain": [
              "   Survived    Pclass     Sex       Age  ...  Embarked  below18  Title Family_Size\n",
              "0         0  0.827377    male -0.557420  ...         S      NaN     Mr    0.059160\n",
              "1         1 -1.566107  female  0.649410  ...         C      NaN    Mrs    0.059160\n",
              "2         1  0.827377  female -0.255712  ...         S      NaN   Miss   -0.560975\n",
              "3         1 -1.566107  female  0.423129  ...         S      NaN    Mrs    0.059160\n",
              "4         0  0.827377    male  0.423129  ...         S      NaN     Mr   -0.560975\n",
              "\n",
              "[5 rows x 11 columns]"
            ]
          },
          "metadata": {
            "tags": []
          },
          "execution_count": 56
        }
      ]
    },
    {
      "cell_type": "code",
      "metadata": {
        "id": "2H7nDQazBycf",
        "colab_type": "code",
        "colab": {}
      },
      "source": [
        "\n",
        "X_train = df[pd.notnull(df['Survived'])].drop(['Survived'], axis=1)\n",
        "y_train = df[pd.notnull(df['Survived'])]['Survived']\n",
        "X_test = df[pd.isnull(df['Survived'])].drop(['Survived'], axis=1)"
      ],
      "execution_count": 0,
      "outputs": []
    },
    {
      "cell_type": "code",
      "metadata": {
        "id": "Wu2nd150B3Ji",
        "colab_type": "code",
        "outputId": "3b065fc2-3daf-448b-c179-aec022e9ba4e",
        "colab": {
          "base_uri": "https://localhost:8080/",
          "height": 193
        }
      },
      "source": [
        "import tensorflow as tf\n",
        "\n",
        "Sex = tf.feature_column.categorical_column_with_vocabulary_list(\"Sex\", [\"female\", \"male\"])\n",
        "Embarked = tf.feature_column.categorical_column_with_vocabulary_list(\"Embarked\", [\"S\", \"C\", \"Q\"])\n",
        "Title = tf.feature_column.categorical_column_with_vocabulary_list(\"Title\", ['Mr', 'Mrs', 'Miss', 'Master', 'Rev', 'Dr'])\n",
        "Age = tf.feature_column.numeric_column(\"Age\")\n",
        "Fare = tf.feature_column.numeric_column(\"Fare\")\n",
        "Parch = tf.feature_column.numeric_column(\"Parch\")\n",
        "Pclass = tf.feature_column.numeric_column(\"Pclass\")\n",
        "SibSp = tf.feature_column.numeric_column(\"SibSp\")\n",
        "Family_Size = tf.feature_column.numeric_column(\"Family_Size\")\n",
        "\n",
        "feat_cols = [Sex, Embarked, Title, Age, Fare, Parch, Pclass, SibSp, Family_Size]\n",
        "\n",
        "import tensorflow as tf\n",
        "\n",
        "X_train, X_val, y_train, y_val = train_test_split(X_train, y_train, test_size=0.2, random_state=1)\n",
        "\n",
        "input_func=tf.estimator.inputs.pandas_input_fn(x=X_train,\n",
        "                                               y=y_train,\n",
        "                                               batch_size=100,\n",
        "                                               num_epochs=None,\n",
        "                                               shuffle=True)\n",
        "\n",
        "\n",
        "model = tf.estimator.LinearClassifier(feature_columns = feat_cols)"
      ],
      "execution_count": 0,
      "outputs": [
        {
          "output_type": "stream",
          "text": [
            "INFO:tensorflow:Using default config.\n",
            "WARNING:tensorflow:Using temporary folder as model directory: /tmp/tmpbtw1u49l\n",
            "INFO:tensorflow:Using config: {'_model_dir': '/tmp/tmpbtw1u49l', '_tf_random_seed': None, '_save_summary_steps': 100, '_save_checkpoints_steps': None, '_save_checkpoints_secs': 600, '_session_config': allow_soft_placement: true\n",
            "graph_options {\n",
            "  rewrite_options {\n",
            "    meta_optimizer_iterations: ONE\n",
            "  }\n",
            "}\n",
            ", '_keep_checkpoint_max': 5, '_keep_checkpoint_every_n_hours': 10000, '_log_step_count_steps': 100, '_train_distribute': None, '_device_fn': None, '_protocol': None, '_eval_distribute': None, '_experimental_distribute': None, '_experimental_max_worker_delay_secs': None, '_session_creation_timeout_secs': 7200, '_service': None, '_cluster_spec': <tensorflow.python.training.server_lib.ClusterSpec object at 0x7f3adc5ace10>, '_task_type': 'worker', '_task_id': 0, '_global_id_in_cluster': 0, '_master': '', '_evaluation_master': '', '_is_chief': True, '_num_ps_replicas': 0, '_num_worker_replicas': 1}\n"
          ],
          "name": "stdout"
        }
      ]
    },
    {
      "cell_type": "code",
      "metadata": {
        "id": "EEC7QBuNB5-m",
        "colab_type": "code",
        "outputId": "af4b2cf6-57f1-4c53-daa9-d09ee62b33f7",
        "colab": {
          "base_uri": "https://localhost:8080/",
          "height": 1000
        }
      },
      "source": [
        "model.train(input_fn=input_func, max_steps=10000)\n",
        "\n",
        "pred_fn = tf.estimator.inputs.pandas_input_fn(x=X_val,batch_size=len(X_val),shuffle=False)\n",
        "\n",
        "predictions = list(model.predict(input_fn=pred_fn))\n",
        "final_preds = []\n",
        "for pred in predictions:\n",
        "    final_preds.append(pred['class_ids'][0])\n",
        "    \n",
        "from sklearn.metrics import classification_report\n",
        "print(classification_report(y_val,final_preds))"
      ],
      "execution_count": 0,
      "outputs": [
        {
          "output_type": "stream",
          "text": [
            "WARNING:tensorflow:From /usr/local/lib/python3.6/dist-packages/tensorflow_core/python/training/training_util.py:236: Variable.initialized_value (from tensorflow.python.ops.variables) is deprecated and will be removed in a future version.\n",
            "Instructions for updating:\n",
            "Use Variable.read_value. Variables in 2.X are initialized automatically both in eager and graph (inside tf.defun) contexts.\n",
            "WARNING:tensorflow:From /usr/local/lib/python3.6/dist-packages/tensorflow_estimator/python/estimator/inputs/queues/feeding_queue_runner.py:62: QueueRunner.__init__ (from tensorflow.python.training.queue_runner_impl) is deprecated and will be removed in a future version.\n",
            "Instructions for updating:\n",
            "To construct input pipelines, use the `tf.data` module.\n",
            "WARNING:tensorflow:From /usr/local/lib/python3.6/dist-packages/tensorflow_estimator/python/estimator/inputs/queues/feeding_functions.py:500: add_queue_runner (from tensorflow.python.training.queue_runner_impl) is deprecated and will be removed in a future version.\n",
            "Instructions for updating:\n",
            "To construct input pipelines, use the `tf.data` module.\n",
            "INFO:tensorflow:Calling model_fn.\n",
            "WARNING:tensorflow:From /usr/local/lib/python3.6/dist-packages/tensorflow_core/python/feature_column/feature_column_v2.py:305: Layer.add_variable (from tensorflow.python.keras.engine.base_layer) is deprecated and will be removed in a future version.\n",
            "Instructions for updating:\n",
            "Please use `layer.add_weight` method instead.\n",
            "WARNING:tensorflow:From /usr/local/lib/python3.6/dist-packages/tensorflow_core/python/ops/resource_variable_ops.py:1630: calling BaseResourceVariable.__init__ (from tensorflow.python.ops.resource_variable_ops) with constraint is deprecated and will be removed in a future version.\n",
            "Instructions for updating:\n",
            "If using Keras pass *_constraint arguments to layers.\n",
            "WARNING:tensorflow:From /usr/local/lib/python3.6/dist-packages/tensorflow_core/python/ops/embedding_ops.py:802: where (from tensorflow.python.ops.array_ops) is deprecated and will be removed in a future version.\n",
            "Instructions for updating:\n",
            "Use tf.where in 2.0, which has the same broadcast rule as np.where\n",
            "WARNING:tensorflow:From /usr/local/lib/python3.6/dist-packages/tensorflow_estimator/python/estimator/canned/linear.py:308: to_float (from tensorflow.python.ops.math_ops) is deprecated and will be removed in a future version.\n",
            "Instructions for updating:\n",
            "Use `tf.cast` instead.\n",
            "INFO:tensorflow:Done calling model_fn.\n",
            "INFO:tensorflow:Create CheckpointSaverHook.\n",
            "INFO:tensorflow:Graph was finalized.\n",
            "INFO:tensorflow:Running local_init_op.\n",
            "INFO:tensorflow:Done running local_init_op.\n",
            "WARNING:tensorflow:From /usr/local/lib/python3.6/dist-packages/tensorflow_core/python/training/monitored_session.py:882: start_queue_runners (from tensorflow.python.training.queue_runner_impl) is deprecated and will be removed in a future version.\n",
            "Instructions for updating:\n",
            "To construct input pipelines, use the `tf.data` module.\n",
            "INFO:tensorflow:Saving checkpoints for 0 into /tmp/tmpbtw1u49l/model.ckpt.\n",
            "INFO:tensorflow:loss = 69.31472, step = 1\n",
            "INFO:tensorflow:global_step/sec: 200.72\n",
            "INFO:tensorflow:loss = 41.56797, step = 101 (0.501 sec)\n",
            "INFO:tensorflow:global_step/sec: 273.909\n",
            "INFO:tensorflow:loss = 38.27479, step = 201 (0.372 sec)\n",
            "INFO:tensorflow:global_step/sec: 270.618\n",
            "INFO:tensorflow:loss = 36.7819, step = 301 (0.363 sec)\n",
            "INFO:tensorflow:global_step/sec: 260.599\n",
            "INFO:tensorflow:loss = 48.661484, step = 401 (0.382 sec)\n",
            "INFO:tensorflow:global_step/sec: 271.898\n",
            "INFO:tensorflow:loss = 41.837536, step = 501 (0.371 sec)\n",
            "INFO:tensorflow:global_step/sec: 281.817\n",
            "INFO:tensorflow:loss = 37.705498, step = 601 (0.353 sec)\n",
            "INFO:tensorflow:global_step/sec: 271.588\n",
            "INFO:tensorflow:loss = 41.899014, step = 701 (0.368 sec)\n",
            "INFO:tensorflow:global_step/sec: 283.528\n",
            "INFO:tensorflow:loss = 42.28261, step = 801 (0.355 sec)\n",
            "INFO:tensorflow:global_step/sec: 283.135\n",
            "INFO:tensorflow:loss = 29.26249, step = 901 (0.350 sec)\n",
            "INFO:tensorflow:global_step/sec: 281.687\n",
            "INFO:tensorflow:loss = 38.55975, step = 1001 (0.359 sec)\n",
            "INFO:tensorflow:global_step/sec: 277.648\n",
            "INFO:tensorflow:loss = 30.764126, step = 1101 (0.356 sec)\n",
            "INFO:tensorflow:global_step/sec: 262.159\n",
            "INFO:tensorflow:loss = 33.753056, step = 1201 (0.382 sec)\n",
            "INFO:tensorflow:global_step/sec: 270.977\n",
            "INFO:tensorflow:loss = 33.24636, step = 1301 (0.370 sec)\n",
            "INFO:tensorflow:global_step/sec: 266.074\n",
            "INFO:tensorflow:loss = 34.02669, step = 1401 (0.379 sec)\n",
            "INFO:tensorflow:global_step/sec: 278.839\n",
            "INFO:tensorflow:loss = 36.337654, step = 1501 (0.355 sec)\n",
            "INFO:tensorflow:global_step/sec: 261.314\n",
            "INFO:tensorflow:loss = 36.49507, step = 1601 (0.381 sec)\n",
            "INFO:tensorflow:global_step/sec: 254.748\n",
            "INFO:tensorflow:loss = 30.388086, step = 1701 (0.393 sec)\n",
            "INFO:tensorflow:global_step/sec: 250.298\n",
            "INFO:tensorflow:loss = 35.223083, step = 1801 (0.400 sec)\n",
            "INFO:tensorflow:global_step/sec: 255.358\n",
            "INFO:tensorflow:loss = 30.423697, step = 1901 (0.390 sec)\n",
            "INFO:tensorflow:global_step/sec: 279.634\n",
            "INFO:tensorflow:loss = 39.375668, step = 2001 (0.358 sec)\n",
            "INFO:tensorflow:global_step/sec: 286.63\n",
            "INFO:tensorflow:loss = 34.338608, step = 2101 (0.348 sec)\n",
            "INFO:tensorflow:global_step/sec: 289.935\n",
            "INFO:tensorflow:loss = 38.424236, step = 2201 (0.346 sec)\n",
            "INFO:tensorflow:global_step/sec: 271.59\n",
            "INFO:tensorflow:loss = 39.086994, step = 2301 (0.370 sec)\n",
            "INFO:tensorflow:global_step/sec: 267.929\n",
            "INFO:tensorflow:loss = 47.22144, step = 2401 (0.371 sec)\n",
            "INFO:tensorflow:global_step/sec: 277.308\n",
            "INFO:tensorflow:loss = 37.989826, step = 2501 (0.366 sec)\n",
            "INFO:tensorflow:global_step/sec: 268.633\n",
            "INFO:tensorflow:loss = 48.058365, step = 2601 (0.372 sec)\n",
            "INFO:tensorflow:global_step/sec: 263.988\n",
            "INFO:tensorflow:loss = 42.694824, step = 2701 (0.382 sec)\n",
            "INFO:tensorflow:global_step/sec: 262.255\n",
            "INFO:tensorflow:loss = 41.05954, step = 2801 (0.377 sec)\n",
            "INFO:tensorflow:global_step/sec: 279.636\n",
            "INFO:tensorflow:loss = 37.43724, step = 2901 (0.355 sec)\n",
            "INFO:tensorflow:global_step/sec: 283.115\n",
            "INFO:tensorflow:loss = 42.166874, step = 3001 (0.356 sec)\n",
            "INFO:tensorflow:global_step/sec: 280.682\n",
            "INFO:tensorflow:loss = 47.002174, step = 3101 (0.357 sec)\n",
            "INFO:tensorflow:global_step/sec: 275.659\n",
            "INFO:tensorflow:loss = 45.64251, step = 3201 (0.363 sec)\n",
            "INFO:tensorflow:global_step/sec: 270.436\n",
            "INFO:tensorflow:loss = 37.85286, step = 3301 (0.366 sec)\n",
            "INFO:tensorflow:global_step/sec: 271.876\n",
            "INFO:tensorflow:loss = 43.902206, step = 3401 (0.369 sec)\n",
            "INFO:tensorflow:global_step/sec: 285.45\n",
            "INFO:tensorflow:loss = 35.077415, step = 3501 (0.349 sec)\n",
            "INFO:tensorflow:global_step/sec: 282.259\n",
            "INFO:tensorflow:loss = 38.706577, step = 3601 (0.355 sec)\n",
            "INFO:tensorflow:global_step/sec: 278.587\n",
            "INFO:tensorflow:loss = 47.92484, step = 3701 (0.362 sec)\n",
            "INFO:tensorflow:global_step/sec: 271.08\n",
            "INFO:tensorflow:loss = 37.64902, step = 3801 (0.372 sec)\n",
            "INFO:tensorflow:global_step/sec: 275.461\n",
            "INFO:tensorflow:loss = 40.08569, step = 3901 (0.363 sec)\n",
            "INFO:tensorflow:global_step/sec: 265.218\n",
            "INFO:tensorflow:loss = 34.691097, step = 4001 (0.372 sec)\n",
            "INFO:tensorflow:global_step/sec: 247.259\n",
            "INFO:tensorflow:loss = 29.805885, step = 4101 (0.405 sec)\n",
            "INFO:tensorflow:global_step/sec: 258.084\n",
            "INFO:tensorflow:loss = 34.312378, step = 4201 (0.387 sec)\n",
            "INFO:tensorflow:global_step/sec: 267.545\n",
            "INFO:tensorflow:loss = 44.75381, step = 4301 (0.375 sec)\n",
            "INFO:tensorflow:global_step/sec: 258.664\n",
            "INFO:tensorflow:loss = 38.05417, step = 4401 (0.384 sec)\n",
            "INFO:tensorflow:global_step/sec: 279.471\n",
            "INFO:tensorflow:loss = 41.32346, step = 4501 (0.360 sec)\n",
            "INFO:tensorflow:global_step/sec: 270.147\n",
            "INFO:tensorflow:loss = 34.63035, step = 4601 (0.369 sec)\n",
            "INFO:tensorflow:global_step/sec: 260.209\n",
            "INFO:tensorflow:loss = 32.190723, step = 4701 (0.384 sec)\n",
            "INFO:tensorflow:global_step/sec: 278.828\n",
            "INFO:tensorflow:loss = 48.18558, step = 4801 (0.370 sec)\n",
            "INFO:tensorflow:global_step/sec: 244.995\n",
            "INFO:tensorflow:loss = 37.39488, step = 4901 (0.404 sec)\n",
            "INFO:tensorflow:global_step/sec: 243.533\n",
            "INFO:tensorflow:loss = 45.17859, step = 5001 (0.408 sec)\n",
            "INFO:tensorflow:global_step/sec: 266.795\n",
            "INFO:tensorflow:loss = 40.45925, step = 5101 (0.371 sec)\n",
            "INFO:tensorflow:global_step/sec: 259.521\n",
            "INFO:tensorflow:loss = 49.135975, step = 5201 (0.386 sec)\n",
            "INFO:tensorflow:global_step/sec: 261.679\n",
            "INFO:tensorflow:loss = 44.25211, step = 5301 (0.384 sec)\n",
            "INFO:tensorflow:global_step/sec: 265.411\n",
            "INFO:tensorflow:loss = 38.77454, step = 5401 (0.376 sec)\n",
            "INFO:tensorflow:global_step/sec: 276.056\n",
            "INFO:tensorflow:loss = 46.879074, step = 5501 (0.363 sec)\n",
            "INFO:tensorflow:global_step/sec: 280.978\n",
            "INFO:tensorflow:loss = 35.326607, step = 5601 (0.354 sec)\n",
            "INFO:tensorflow:global_step/sec: 288.312\n",
            "INFO:tensorflow:loss = 35.156483, step = 5701 (0.347 sec)\n",
            "INFO:tensorflow:global_step/sec: 275.597\n",
            "INFO:tensorflow:loss = 35.70319, step = 5801 (0.363 sec)\n",
            "INFO:tensorflow:global_step/sec: 274.56\n",
            "INFO:tensorflow:loss = 37.898907, step = 5901 (0.364 sec)\n",
            "INFO:tensorflow:global_step/sec: 270.459\n",
            "INFO:tensorflow:loss = 38.249584, step = 6001 (0.378 sec)\n",
            "INFO:tensorflow:global_step/sec: 258.798\n",
            "INFO:tensorflow:loss = 43.947117, step = 6101 (0.388 sec)\n",
            "INFO:tensorflow:global_step/sec: 258.564\n",
            "INFO:tensorflow:loss = 28.430702, step = 6201 (0.380 sec)\n",
            "INFO:tensorflow:global_step/sec: 273.544\n",
            "INFO:tensorflow:loss = 43.078247, step = 6301 (0.365 sec)\n",
            "INFO:tensorflow:global_step/sec: 271.228\n",
            "INFO:tensorflow:loss = 38.4088, step = 6401 (0.367 sec)\n",
            "INFO:tensorflow:global_step/sec: 272.437\n",
            "INFO:tensorflow:loss = 36.973267, step = 6501 (0.371 sec)\n",
            "INFO:tensorflow:global_step/sec: 271.87\n",
            "INFO:tensorflow:loss = 40.749817, step = 6601 (0.364 sec)\n",
            "INFO:tensorflow:global_step/sec: 281.251\n",
            "INFO:tensorflow:loss = 31.440704, step = 6701 (0.358 sec)\n",
            "INFO:tensorflow:global_step/sec: 283.455\n",
            "INFO:tensorflow:loss = 53.390617, step = 6801 (0.350 sec)\n",
            "INFO:tensorflow:global_step/sec: 281.472\n",
            "INFO:tensorflow:loss = 35.660328, step = 6901 (0.356 sec)\n",
            "INFO:tensorflow:global_step/sec: 282.711\n",
            "INFO:tensorflow:loss = 45.626633, step = 7001 (0.352 sec)\n",
            "INFO:tensorflow:global_step/sec: 269.654\n",
            "INFO:tensorflow:loss = 45.31167, step = 7101 (0.379 sec)\n",
            "INFO:tensorflow:global_step/sec: 263.189\n",
            "INFO:tensorflow:loss = 43.63477, step = 7201 (0.373 sec)\n",
            "INFO:tensorflow:global_step/sec: 270.738\n",
            "INFO:tensorflow:loss = 34.94293, step = 7301 (0.368 sec)\n",
            "INFO:tensorflow:global_step/sec: 278.943\n",
            "INFO:tensorflow:loss = 45.033, step = 7401 (0.363 sec)\n",
            "INFO:tensorflow:global_step/sec: 259.492\n",
            "INFO:tensorflow:loss = 34.435658, step = 7501 (0.382 sec)\n",
            "INFO:tensorflow:global_step/sec: 279.62\n",
            "INFO:tensorflow:loss = 37.914204, step = 7601 (0.356 sec)\n",
            "INFO:tensorflow:global_step/sec: 286.73\n",
            "INFO:tensorflow:loss = 35.423916, step = 7701 (0.356 sec)\n",
            "INFO:tensorflow:global_step/sec: 277.867\n",
            "INFO:tensorflow:loss = 32.91111, step = 7801 (0.353 sec)\n",
            "INFO:tensorflow:global_step/sec: 285.558\n",
            "INFO:tensorflow:loss = 31.251839, step = 7901 (0.357 sec)\n",
            "INFO:tensorflow:global_step/sec: 275.215\n",
            "INFO:tensorflow:loss = 32.966785, step = 8001 (0.358 sec)\n",
            "INFO:tensorflow:global_step/sec: 264.796\n",
            "INFO:tensorflow:loss = 44.78324, step = 8101 (0.377 sec)\n",
            "INFO:tensorflow:global_step/sec: 268.67\n",
            "INFO:tensorflow:loss = 51.49142, step = 8201 (0.375 sec)\n",
            "INFO:tensorflow:global_step/sec: 259.679\n",
            "INFO:tensorflow:loss = 49.94923, step = 8301 (0.392 sec)\n",
            "INFO:tensorflow:global_step/sec: 275.355\n",
            "INFO:tensorflow:loss = 36.912064, step = 8401 (0.354 sec)\n",
            "INFO:tensorflow:global_step/sec: 275.178\n",
            "INFO:tensorflow:loss = 35.99252, step = 8501 (0.365 sec)\n",
            "INFO:tensorflow:global_step/sec: 269.349\n",
            "INFO:tensorflow:loss = 35.360294, step = 8601 (0.372 sec)\n",
            "INFO:tensorflow:global_step/sec: 269.684\n",
            "INFO:tensorflow:loss = 33.37974, step = 8701 (0.371 sec)\n",
            "INFO:tensorflow:global_step/sec: 263.211\n",
            "INFO:tensorflow:loss = 30.324446, step = 8801 (0.378 sec)\n",
            "INFO:tensorflow:global_step/sec: 278.509\n",
            "INFO:tensorflow:loss = 37.88395, step = 8901 (0.363 sec)\n",
            "INFO:tensorflow:global_step/sec: 270.955\n",
            "INFO:tensorflow:loss = 38.38723, step = 9001 (0.364 sec)\n",
            "INFO:tensorflow:global_step/sec: 290.705\n",
            "INFO:tensorflow:loss = 32.632244, step = 9101 (0.344 sec)\n",
            "INFO:tensorflow:global_step/sec: 270.506\n",
            "INFO:tensorflow:loss = 44.024967, step = 9201 (0.374 sec)\n",
            "INFO:tensorflow:global_step/sec: 261.01\n",
            "INFO:tensorflow:loss = 43.25634, step = 9301 (0.379 sec)\n",
            "INFO:tensorflow:global_step/sec: 281.239\n",
            "INFO:tensorflow:loss = 41.141197, step = 9401 (0.362 sec)\n",
            "INFO:tensorflow:global_step/sec: 277.281\n",
            "INFO:tensorflow:loss = 43.298626, step = 9501 (0.354 sec)\n",
            "INFO:tensorflow:global_step/sec: 275.048\n",
            "INFO:tensorflow:loss = 45.569996, step = 9601 (0.364 sec)\n",
            "INFO:tensorflow:global_step/sec: 261.683\n",
            "INFO:tensorflow:loss = 43.425163, step = 9701 (0.386 sec)\n",
            "INFO:tensorflow:global_step/sec: 267.8\n",
            "INFO:tensorflow:loss = 34.0652, step = 9801 (0.371 sec)\n",
            "INFO:tensorflow:global_step/sec: 263.271\n",
            "INFO:tensorflow:loss = 41.98983, step = 9901 (0.382 sec)\n",
            "INFO:tensorflow:Saving checkpoints for 10000 into /tmp/tmpbtw1u49l/model.ckpt.\n",
            "INFO:tensorflow:Loss for final step: 42.103798.\n",
            "INFO:tensorflow:Calling model_fn.\n",
            "INFO:tensorflow:Done calling model_fn.\n",
            "INFO:tensorflow:Graph was finalized.\n",
            "INFO:tensorflow:Restoring parameters from /tmp/tmpbtw1u49l/model.ckpt-10000\n",
            "INFO:tensorflow:Running local_init_op.\n",
            "INFO:tensorflow:Done running local_init_op.\n",
            "              precision    recall  f1-score   support\n",
            "\n",
            "           0       0.79      0.88      0.83       106\n",
            "           1       0.79      0.67      0.73        73\n",
            "\n",
            "    accuracy                           0.79       179\n",
            "   macro avg       0.79      0.77      0.78       179\n",
            "weighted avg       0.79      0.79      0.79       179\n",
            "\n"
          ],
          "name": "stdout"
        }
      ]
    },
    {
      "cell_type": "code",
      "metadata": {
        "id": "lnZSvMnrB-qd",
        "colab_type": "code",
        "colab": {}
      },
      "source": [
        ""
      ],
      "execution_count": 0,
      "outputs": []
    },
    {
      "cell_type": "code",
      "metadata": {
        "id": "6JQSR1Q-56PK",
        "colab_type": "code",
        "colab": {}
      },
      "source": [
        ""
      ],
      "execution_count": 0,
      "outputs": []
    }
  ]
}