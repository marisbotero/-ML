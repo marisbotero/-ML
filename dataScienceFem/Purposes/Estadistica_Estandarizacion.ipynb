{
  "nbformat": 4,
  "nbformat_minor": 0,
  "metadata": {
    "colab": {
      "name": "Estandarizacion.ipynb",
      "provenance": [],
      "authorship_tag": "ABX9TyPSy7Qrbj/vwkCOSNNWH9Ec",
      "include_colab_link": true
    },
    "kernelspec": {
      "name": "python3",
      "display_name": "Python 3"
    }
  },
  "cells": [
    {
      "cell_type": "markdown",
      "metadata": {
        "id": "view-in-github",
        "colab_type": "text"
      },
      "source": [
        "<a href=\"https://colab.research.google.com/github/marisbotero/ML/blob/master/Estadistica_Estandarizacion.ipynb\" target=\"_parent\"><img src=\"https://colab.research.google.com/assets/colab-badge.svg\" alt=\"Open In Colab\"/></a>"
      ]
    },
    {
      "cell_type": "markdown",
      "metadata": {
        "id": "05N4hzIQN5dT",
        "colab_type": "text"
      },
      "source": [
        "## Estandarización,covarianza y correlación 🤓"
      ]
    },
    {
      "cell_type": "markdown",
      "metadata": {
        "id": "jbmAb6W5OOgK",
        "colab_type": "text"
      },
      "source": [
        "### 💜Estandarización o tificación de variables\n",
        "\n",
        "1. centrar la variable: restar su media a cada uno de los valores originales\n",
        "2.Reducir la variable: Dividir todos sus valores por la desviación\n",
        "\n",
        "El resultado de la aplicación de la estandarización es una V.A.Z\n",
        "- Adimensional: datos independientes de la escala escogida\n",
        "- E(Z) = 0 y V(Z) = 1"
      ]
    },
    {
      "cell_type": "markdown",
      "metadata": {
        "id": "FqIgBP9qQJLV",
        "colab_type": "text"
      },
      "source": [
        "## 💛Covarianza y Correlación\n",
        "\n",
        "Ambas miden el valor de la relación lineal entre dos variables aleatorias X y Y\n",
        "\n",
        "### covarianza :\n",
        "- Mide la dirección(signo) de la relación entre X y Y \n",
        "- Magnitud no estandarizada\n",
        "- Rango Cov(X)\n",
        "\n",
        "---\n",
        "\n",
        "## Correlación\n",
        "\n",
        "- Mide la dirección(signo) de la relación entre X y Y\n",
        "- Mide la fuerza(magnitud estandaruizada)\n",
        "- Rango Cov(X)\n",
        "- Relación lineal perfecta = -1 o 1"
      ]
    },
    {
      "cell_type": "code",
      "metadata": {
        "id": "QSPC-FhHN2Nz",
        "colab_type": "code",
        "colab": {}
      },
      "source": [
        "import pandas as pd\n",
        "import numpy as np\n",
        "import matplotlib.pyplot as plt\n",
        "import seaborn as sns\n",
        "%matplotlib inline"
      ],
      "execution_count": 0,
      "outputs": []
    },
    {
      "cell_type": "code",
      "metadata": {
        "id": "PiHMcucZN46F",
        "colab_type": "code",
        "colab": {}
      },
      "source": [
        "df = pd.read_csv('iris-data.csv', index_col=0)"
      ],
      "execution_count": 0,
      "outputs": []
    },
    {
      "cell_type": "code",
      "metadata": {
        "id": "LyxDCp5aXW6i",
        "colab_type": "code",
        "colab": {
          "base_uri": "https://localhost:8080/",
          "height": 202
        },
        "outputId": "fc8bb292-54b2-44e1-e9d1-af3cc48697fb"
      },
      "source": [
        "df.head()"
      ],
      "execution_count": 5,
      "outputs": [
        {
          "output_type": "execute_result",
          "data": {
            "text/html": [
              "<div>\n",
              "<style scoped>\n",
              "    .dataframe tbody tr th:only-of-type {\n",
              "        vertical-align: middle;\n",
              "    }\n",
              "\n",
              "    .dataframe tbody tr th {\n",
              "        vertical-align: top;\n",
              "    }\n",
              "\n",
              "    .dataframe thead th {\n",
              "        text-align: right;\n",
              "    }\n",
              "</style>\n",
              "<table border=\"1\" class=\"dataframe\">\n",
              "  <thead>\n",
              "    <tr style=\"text-align: right;\">\n",
              "      <th></th>\n",
              "      <th>lar.sepalo</th>\n",
              "      <th>anc.sepalo</th>\n",
              "      <th>lar.petalo</th>\n",
              "      <th>anc.petalo</th>\n",
              "      <th>tipo_flor</th>\n",
              "    </tr>\n",
              "  </thead>\n",
              "  <tbody>\n",
              "    <tr>\n",
              "      <th>0</th>\n",
              "      <td>5.1</td>\n",
              "      <td>3.5</td>\n",
              "      <td>1.4</td>\n",
              "      <td>0.2</td>\n",
              "      <td>0.0</td>\n",
              "    </tr>\n",
              "    <tr>\n",
              "      <th>1</th>\n",
              "      <td>4.9</td>\n",
              "      <td>3.0</td>\n",
              "      <td>1.4</td>\n",
              "      <td>0.2</td>\n",
              "      <td>0.0</td>\n",
              "    </tr>\n",
              "    <tr>\n",
              "      <th>2</th>\n",
              "      <td>4.7</td>\n",
              "      <td>3.2</td>\n",
              "      <td>1.3</td>\n",
              "      <td>0.2</td>\n",
              "      <td>0.0</td>\n",
              "    </tr>\n",
              "    <tr>\n",
              "      <th>3</th>\n",
              "      <td>4.6</td>\n",
              "      <td>3.1</td>\n",
              "      <td>1.5</td>\n",
              "      <td>0.2</td>\n",
              "      <td>0.0</td>\n",
              "    </tr>\n",
              "    <tr>\n",
              "      <th>4</th>\n",
              "      <td>5.0</td>\n",
              "      <td>3.6</td>\n",
              "      <td>1.4</td>\n",
              "      <td>0.2</td>\n",
              "      <td>0.0</td>\n",
              "    </tr>\n",
              "  </tbody>\n",
              "</table>\n",
              "</div>"
            ],
            "text/plain": [
              "   lar.sepalo  anc.sepalo  lar.petalo  anc.petalo  tipo_flor\n",
              "0         5.1         3.5         1.4         0.2        0.0\n",
              "1         4.9         3.0         1.4         0.2        0.0\n",
              "2         4.7         3.2         1.3         0.2        0.0\n",
              "3         4.6         3.1         1.5         0.2        0.0\n",
              "4         5.0         3.6         1.4         0.2        0.0"
            ]
          },
          "metadata": {
            "tags": []
          },
          "execution_count": 5
        }
      ]
    },
    {
      "cell_type": "code",
      "metadata": {
        "id": "YoeGzPE7XYjj",
        "colab_type": "code",
        "colab": {
          "base_uri": "https://localhost:8080/",
          "height": 35
        },
        "outputId": "dbb96f65-7718-41bd-b8f4-cf1840f6d37d"
      },
      "source": [
        "df.columns"
      ],
      "execution_count": 6,
      "outputs": [
        {
          "output_type": "execute_result",
          "data": {
            "text/plain": [
              "Index(['lar.sepalo', 'anc.sepalo', 'lar.petalo', 'anc.petalo', 'tipo_flor'], dtype='object')"
            ]
          },
          "metadata": {
            "tags": []
          },
          "execution_count": 6
        }
      ]
    },
    {
      "cell_type": "code",
      "metadata": {
        "id": "sWkVHDLkXhNL",
        "colab_type": "code",
        "colab": {
          "base_uri": "https://localhost:8080/",
          "height": 87
        },
        "outputId": "23f5f5a8-cd4d-472a-a96a-a19d82bd4a09"
      },
      "source": [
        "df.tipo_flor.value_counts()"
      ],
      "execution_count": 7,
      "outputs": [
        {
          "output_type": "execute_result",
          "data": {
            "text/plain": [
              "2.0    50\n",
              "1.0    50\n",
              "0.0    50\n",
              "Name: tipo_flor, dtype: int64"
            ]
          },
          "metadata": {
            "tags": []
          },
          "execution_count": 7
        }
      ]
    },
    {
      "cell_type": "code",
      "metadata": {
        "id": "VyFhiy9KXnv0",
        "colab_type": "code",
        "colab": {}
      },
      "source": [
        "y = df ['lar.petalo']"
      ],
      "execution_count": 0,
      "outputs": []
    },
    {
      "cell_type": "code",
      "metadata": {
        "id": "GezLUOZXX2T1",
        "colab_type": "code",
        "colab": {
          "base_uri": "https://localhost:8080/",
          "height": 225
        },
        "outputId": "8a19c187-e897-41e7-e2e2-de966cc2dc89"
      },
      "source": [
        "y"
      ],
      "execution_count": 9,
      "outputs": [
        {
          "output_type": "execute_result",
          "data": {
            "text/plain": [
              "0      1.4\n",
              "1      1.4\n",
              "2      1.3\n",
              "3      1.5\n",
              "4      1.4\n",
              "      ... \n",
              "145    5.2\n",
              "146    5.0\n",
              "147    5.2\n",
              "148    5.4\n",
              "149    5.1\n",
              "Name: lar.petalo, Length: 150, dtype: float64"
            ]
          },
          "metadata": {
            "tags": []
          },
          "execution_count": 9
        }
      ]
    },
    {
      "cell_type": "code",
      "metadata": {
        "id": "qIktLcVtX3Lp",
        "colab_type": "code",
        "colab": {
          "base_uri": "https://localhost:8080/",
          "height": 299
        },
        "outputId": "8612600a-b6c2-4a35-e15f-605cbb7ade56"
      },
      "source": [
        "fig, ax = plt.subplots()\n",
        "ax.set_title('Variable original')\n",
        "ax.hist(y, bins = 30)\n",
        "ax.axvline(x= np.median(y), c ='k', label= 'media', linestyle = '--')\n",
        "ax.axvline(x= np.median(y) + np.std(y) , c ='r', label= 'desviación estándar', linestyle = '--')\n",
        "ax.legend()"
      ],
      "execution_count": 17,
      "outputs": [
        {
          "output_type": "execute_result",
          "data": {
            "text/plain": [
              "<matplotlib.legend.Legend at 0x7f63ed0c3d30>"
            ]
          },
          "metadata": {
            "tags": []
          },
          "execution_count": 17
        },
        {
          "output_type": "display_data",
          "data": {
            "image/png": "[encoded data removed]",
            "text/plain": [
              "<Figure size 432x288 with 1 Axes>"
            ]
          },
          "metadata": {
            "tags": []
          }
        }
      ]
    },
    {
      "cell_type": "markdown",
      "metadata": {
        "id": "OyjcCYKAawIy",
        "colab_type": "text"
      },
      "source": [
        "### *Estandarización de la variable*"
      ]
    },
    {
      "cell_type": "code",
      "metadata": {
        "id": "M33MkP68ZHYw",
        "colab_type": "code",
        "colab": {
          "base_uri": "https://localhost:8080/",
          "height": 299
        },
        "outputId": "e3cb750e-256f-4a14-c2de-d6db02dd32d5"
      },
      "source": [
        "fig, ax = plt.subplots()\n",
        "ax.set_title('Variable original')\n",
        "ax.hist(y - np.median(y), bins = 30)\n",
        "ax.axvline(x= np.median(y)- np.median(y), c ='k', label= 'media', linestyle = '--')\n",
        "ax.axvline(x= np.median(y) + np.std(y) , c ='r', label= 'desviación estándar', linestyle = '--')\n",
        "ax.legend()"
      ],
      "execution_count": 23,
      "outputs": [
        {
          "output_type": "execute_result",
          "data": {
            "text/plain": [
              "<matplotlib.legend.Legend at 0x7f63ebd75e48>"
            ]
          },
          "metadata": {
            "tags": []
          },
          "execution_count": 23
        },
        {
          "output_type": "display_data",
          "data": {
            "image/png": "[encoded data removed]",
            "text/plain": [
              "<Figure size 432x288 with 1 Axes>"
            ]
          },
          "metadata": {
            "tags": []
          }
        }
      ]
    },
    {
      "cell_type": "code",
      "metadata": {
        "id": "hkBRSbknbHwq",
        "colab_type": "code",
        "colab": {
          "base_uri": "https://localhost:8080/",
          "height": 299
        },
        "outputId": "619619d8-69c7-43b8-bae3-8b61c72016e0"
      },
      "source": [
        "fig, ax = plt.subplots()\n",
        "ax.set_title('Variable estandarizada')\n",
        "ax.hist((y -  np.mean(y))/np.std(y), bins = 30)\n",
        "ax.axvline(x = np.mean((np.mean(y -  np.mean(y))/np.std(y))), c = 'k', label= 'media', linestyle = '--')\n",
        "ax.axvline(x = np.mean((np.mean(y -  np.mean(y))/np.std(y))) + np.std((y -  np.mean(y))/np.std(y)), c = 'r', label= 'desviacion est.', linestyle = '--')\n",
        "ax.legend()"
      ],
      "execution_count": 25,
      "outputs": [
        {
          "output_type": "execute_result",
          "data": {
            "text/plain": [
              "<matplotlib.legend.Legend at 0x7f63ed359358>"
            ]
          },
          "metadata": {
            "tags": []
          },
          "execution_count": 25
        },
        {
          "output_type": "display_data",
          "data": {
            "image/png": "[encoded data removed]",
            "text/plain": [
              "<Figure size 432x288 with 1 Axes>"
            ]
          },
          "metadata": {
            "tags": []
          }
        }
      ]
    },
    {
      "cell_type": "code",
      "metadata": {
        "colab_type": "code",
        "id": "oLrzqikebioV",
        "colab": {
          "base_uri": "https://localhost:8080/",
          "height": 279
        },
        "outputId": "25fdcf0c-35c0-403b-a280-b41d738df3a9"
      },
      "source": [
        "\n",
        "fig,ax = plt.subplots()\n",
        "ax.scatter(df['lar.petalo'], df['lar.sepalo'], alpha=0.7)\n",
        "ax.set_xlabel('lar.petalo')\n",
        "ax.set_ylabel('lar.sepalo')\n",
        "ax.autoscale()\n"
      ],
      "execution_count": 30,
      "outputs": [
        {
          "output_type": "display_data",
          "data": {
            "image/png": "[encoded data removed]",
            "text/plain": [
              "<Figure size 432x288 with 1 Axes>"
            ]
          },
          "metadata": {
            "tags": []
          }
        }
      ]
    },
    {
      "cell_type": "markdown",
      "metadata": {
        "id": "jp4ncuIbeMk4",
        "colab_type": "text"
      },
      "source": [
        "Relación postiva "
      ]
    },
    {
      "cell_type": "code",
      "metadata": {
        "id": "V4ozcY4EdNtr",
        "colab_type": "code",
        "colab": {
          "base_uri": "https://localhost:8080/",
          "height": 52
        },
        "outputId": "364e2074-78c9-4de3-896e-4dec6c7101ee"
      },
      "source": [
        "np.cov(df['lar.petalo'], df['lar.sepalo'])"
      ],
      "execution_count": 31,
      "outputs": [
        {
          "output_type": "execute_result",
          "data": {
            "text/plain": [
              "array([[3.11627785, 1.27431544],\n",
              "       [1.27431544, 0.68569351]])"
            ]
          },
          "metadata": {
            "tags": []
          },
          "execution_count": 31
        }
      ]
    },
    {
      "cell_type": "code",
      "metadata": {
        "id": "B8TI7Fl_dy7y",
        "colab_type": "code",
        "colab": {}
      },
      "source": [
        "#metodo de calculo\n",
        "corr = df.corr(method= 'kendall')"
      ],
      "execution_count": 0,
      "outputs": []
    },
    {
      "cell_type": "code",
      "metadata": {
        "id": "tmB1GGfRd5x7",
        "colab_type": "code",
        "colab": {
          "base_uri": "https://localhost:8080/",
          "height": 287
        },
        "outputId": "3e36ce54-8986-4cb4-935d-b351be8c5333"
      },
      "source": [
        "sns.heatmap(corr, xticklabels = corr.columns, yticklabels = corr.columns)"
      ],
      "execution_count": 35,
      "outputs": [
        {
          "output_type": "execute_result",
          "data": {
            "text/plain": [
              "<matplotlib.axes._subplots.AxesSubplot at 0x7f63ebbc0eb8>"
            ]
          },
          "metadata": {
            "tags": []
          },
          "execution_count": 35
        },
        {
          "output_type": "display_data",
          "data": {
            "image/png": "[encoded data removed]",
            "text/plain": [
              "<Figure size 432x288 with 2 Axes>"
            ]
          },
          "metadata": {
            "tags": []
          }
        }
      ]
    },
    {
      "cell_type": "markdown",
      "metadata": {
        "id": "ojMQGBdreuzv",
        "colab_type": "text"
      },
      "source": [
        "Analizando el gráfico de correlación encontramos que:\n",
        "- largo del petalo y el largo del sepalo tiene una correlación positiva cercana a uno\n"
      ]
    }
  ]
}