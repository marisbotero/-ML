{
  "nbformat": 4,
  "nbformat_minor": 0,
  "metadata": {
    "colab": {
      "name": "Estandarizacion.ipynb",
      "provenance": [],
      "authorship_tag": "ABX9TyM4EuT/AllEMl0qcM8YQ8Uf",
      "include_colab_link": true
    },
    "kernelspec": {
      "name": "python3",
      "display_name": "Python 3"
    }
  },
  "cells": [
    {
      "cell_type": "markdown",
      "metadata": {
        "id": "view-in-github",
        "colab_type": "text"
      },
      "source": [
        "<a href=\"https://colab.research.google.com/github/marisbotero/ML/blob/master/Estandarizacion.ipynb\" target=\"_parent\"><img src=\"https://colab.research.google.com/assets/colab-badge.svg\" alt=\"Open In Colab\"/></a>"
      ]
    },
    {
      "cell_type": "markdown",
      "metadata": {
        "id": "05N4hzIQN5dT",
        "colab_type": "text"
      },
      "source": [
        "## Estandarización,covarianza y correlación 🤓"
      ]
    },
    {
      "cell_type": "markdown",
      "metadata": {
        "id": "jbmAb6W5OOgK",
        "colab_type": "text"
      },
      "source": [
        "### 💜Estandarización o tificación de variables\n",
        "\n",
        "1. centrar la variable: restar su media a cada uno de los valores originales\n",
        "2.Reducir la variable: Dividir todos sus valores por la desviación\n",
        "\n",
        "El resultado de la aplicación de la estandarización es una V.A.Z\n",
        "- Adimensional: datos independientes de la escala escogida\n",
        "- E(Z) = 0 y V(Z) = 1"
      ]
    },
    {
      "cell_type": "markdown",
      "metadata": {
        "id": "FqIgBP9qQJLV",
        "colab_type": "text"
      },
      "source": [
        "## 💛Covarianza y Correlación\n",
        "\n",
        "Ambas miden el valor de la relación lineal entre dos variables aleatorias X y Y\n",
        "\n",
        "### covarianza :\n",
        "- Mide la dirección(signo) de la relación entre X y Y \n",
        "- Magnitud no estandarizada\n",
        "- Rango Cov(X)\n",
        "\n",
        "---\n",
        "\n",
        "## Correlación\n",
        "\n",
        "- Mide la dirección(signo) de la relación entre X y Y\n",
        "- Mide la fuerza(magnitud estandaruizada)\n",
        "- Rango"
      ]
    },
    {
      "cell_type": "code",
      "metadata": {
        "id": "QSPC-FhHN2Nz",
        "colab_type": "code",
        "colab": {}
      },
      "source": [
        ""
      ],
      "execution_count": 0,
      "outputs": []
    },
    {
      "cell_type": "code",
      "metadata": {
        "id": "PiHMcucZN46F",
        "colab_type": "code",
        "colab": {}
      },
      "source": [
        ""
      ],
      "execution_count": 0,
      "outputs": []
    }
  ]
}