{
  "nbformat": 4,
  "nbformat_minor": 0,
  "metadata": {
    "colab": {
      "name": "🤖.ipynb",
      "provenance": [],
      "authorship_tag": "ABX9TyOMRwvLozp9c43XvlU5x7jC",
      "include_colab_link": true
    },
    "kernelspec": {
      "name": "python3",
      "display_name": "Python 3"
    }
  },
  "cells": [
    {
      "cell_type": "markdown",
      "metadata": {
        "id": "view-in-github",
        "colab_type": "text"
      },
      "source": [
        "<a href=\"https://colab.research.google.com/github/marisbotero/ML/blob/master/%F0%9F%A4%96.ipynb\" target=\"_parent\"><img src=\"https://colab.research.google.com/assets/colab-badge.svg\" alt=\"Open In Colab\"/></a>"
      ]
    },
    {
      "cell_type": "code",
      "metadata": {
        "id": "zIEF_7mqCdR3",
        "colab_type": "code",
        "colab": {}
      },
      "source": [
        "import pandas as pd \n",
        "import numpy as np"
      ],
      "execution_count": 0,
      "outputs": []
    },
    {
      "cell_type": "code",
      "metadata": {
        "id": "WzdPuCdTC1zj",
        "colab_type": "code",
        "colab": {}
      },
      "source": [
        "options = [\"👊\", \"✌\", \"🖐\"]"
      ],
      "execution_count": 0,
      "outputs": []
    },
    {
      "cell_type": "code",
      "metadata": {
        "id": "ol9Vdb5GDbAW",
        "colab_type": "code",
        "colab": {}
      },
      "source": [
        "def search_winner(p1, p2):\n",
        "    if p1 == p2:\n",
        "        result = 0\n",
        "    \n",
        "    elif p1 == \"👊\" and p2 == \"✌\":\n",
        "        result = 1\n",
        "    elif p1 == \"👊\" and p2 == \"🖐\":\n",
        "        result = 2\n",
        "    elif p1 == \"✌\" and p2 == \"👊\":\n",
        "        result = 2\n",
        "    elif p1 == \"✌\" and p2 == \"🖐\":\n",
        "        result = 1\n",
        "    elif p1 == \"🖐\" and p2 == \"👊\":\n",
        "        result = 1\n",
        "    elif p1 == \"🖐\" and p2 == \"✌\":\n",
        "        result = 2\n",
        "        \n",
        "    return result"
      ],
      "execution_count": 0,
      "outputs": []
    },
    {
      "cell_type": "code",
      "metadata": {
        "id": "rFZtwaWhD3Cb",
        "colab_type": "code",
        "outputId": "75e163f2-2d70-4570-d56e-3e9073886ae4",
        "colab": {
          "base_uri": "https://localhost:8080/",
          "height": 35
        }
      },
      "source": [
        "search_winner(\"🖐\", \"✌\")"
      ],
      "execution_count": 0,
      "outputs": [
        {
          "output_type": "execute_result",
          "data": {
            "text/plain": [
              "2"
            ]
          },
          "metadata": {
            "tags": []
          },
          "execution_count": 4
        }
      ]
    },
    {
      "cell_type": "code",
      "metadata": {
        "id": "w8aqdT4PD-5m",
        "colab_type": "code",
        "outputId": "fe856483-5a83-43fa-8f5d-c8d8db324e0a",
        "colab": {
          "base_uri": "https://localhost:8080/",
          "height": 35
        }
      },
      "source": [
        "search_winner(\"✌\",\"✌\")"
      ],
      "execution_count": 0,
      "outputs": [
        {
          "output_type": "execute_result",
          "data": {
            "text/plain": [
              "0"
            ]
          },
          "metadata": {
            "tags": []
          },
          "execution_count": 5
        }
      ]
    },
    {
      "cell_type": "code",
      "metadata": {
        "id": "gkA3QPHgEKup",
        "colab_type": "code",
        "outputId": "410847f9-ff61-4218-9db1-31c9fec065c7",
        "colab": {
          "base_uri": "https://localhost:8080/",
          "height": 70
        }
      },
      "source": [
        "test = [\n",
        "    [\"👊\", \"👊\", 0],\n",
        "    [\"👊\", \"✌\", 1],\n",
        "    [\"👊\", \"🖐\", 2]\n",
        "]\n",
        "\n",
        "for partida in test:\n",
        "    print(\"player1: %s player2: %s Winner: %s Validation: %s\" % (\n",
        "        partida[0], partida[1], search_winner(partida[0], partida[1]), partida[2]\n",
        "    ))"
      ],
      "execution_count": 0,
      "outputs": [
        {
          "output_type": "stream",
          "text": [
            "player1: 👊 player2: 👊 Winner: 0 Validation: 0\n",
            "player1: 👊 player2: ✌ Winner: 1 Validation: 1\n",
            "player1: 👊 player2: 🖐 Winner: 2 Validation: 2\n"
          ],
          "name": "stdout"
        }
      ]
    },
    {
      "cell_type": "code",
      "metadata": {
        "id": "08PiPEkbEaKn",
        "colab_type": "code",
        "colab": {}
      },
      "source": [
        "from random import choice\n",
        "def get_choice():\n",
        "    return choice(options)"
      ],
      "execution_count": 0,
      "outputs": []
    },
    {
      "cell_type": "code",
      "metadata": {
        "id": "sT9qV8QxEjy8",
        "colab_type": "code",
        "outputId": "d08c9eb8-cba5-4049-e467-b803a6501be1",
        "colab": {
          "base_uri": "https://localhost:8080/",
          "height": 195
        }
      },
      "source": [
        "for i in range(10):\n",
        "    player1 = get_choice()\n",
        "    player2 = get_choice()\n",
        "    print(\"player1: %s player2: %s Winner: %s \" % (\n",
        "        player1, player2, search_winner(player1, player2)\n",
        "    ))"
      ],
      "execution_count": 0,
      "outputs": [
        {
          "output_type": "stream",
          "text": [
            "player1: 👊 player2: 👊 Winner: 0 \n",
            "player1: 👊 player2: ✌ Winner: 1 \n",
            "player1: 🖐 player2: ✌ Winner: 2 \n",
            "player1: ✌ player2: 🖐 Winner: 1 \n",
            "player1: 👊 player2: ✌ Winner: 1 \n",
            "player1: ✌ player2: 🖐 Winner: 1 \n",
            "player1: 🖐 player2: 👊 Winner: 1 \n",
            "player1: 👊 player2: 🖐 Winner: 2 \n",
            "player1: 🖐 player2: ✌ Winner: 2 \n",
            "player1: 👊 player2: 👊 Winner: 0 \n"
          ],
          "name": "stdout"
        }
      ]
    },
    {
      "cell_type": "code",
      "metadata": {
        "id": "HUxWDoTmEmac",
        "colab_type": "code",
        "outputId": "3cf2dd9a-2853-4349-c49a-a47b759c371c",
        "colab": {
          "base_uri": "https://localhost:8080/",
          "height": 52
        }
      },
      "source": [
        "def str_to_list(option):\n",
        "    if option==\"👊\":\n",
        "        res = [1,0,0]\n",
        "    elif option==\"✌\":\n",
        "        res = [0,1,0]\n",
        "    else:\n",
        "        res = [0,0,1]\n",
        "    return res\n",
        "\n",
        "data_X = list(map(str_to_list, [\"👊\", \"✌\", \"🖐\"]))\n",
        "data_y = list(map(str_to_list, [\"🖐\", \"👊\", \"✌\"]))\n",
        "\n",
        "print(data_X)\n",
        "print(data_y)"
      ],
      "execution_count": 0,
      "outputs": [
        {
          "output_type": "stream",
          "text": [
            "[[1, 0, 0], [0, 1, 0], [0, 0, 1]]\n",
            "[[0, 0, 1], [1, 0, 0], [0, 1, 0]]\n"
          ],
          "name": "stdout"
        }
      ]
    },
    {
      "cell_type": "code",
      "metadata": {
        "id": "LoH6_jghE3jM",
        "colab_type": "code",
        "colab": {}
      },
      "source": [
        "from sklearn.neural_network import MLPClassifier\n",
        "clf = MLPClassifier(verbose=False, warm_start=True)"
      ],
      "execution_count": 0,
      "outputs": []
    },
    {
      "cell_type": "code",
      "metadata": {
        "id": "OSUs5XUPFHN0",
        "colab_type": "code",
        "outputId": "9e503bc8-7d0a-4ae1-b266-8e6efbfe3ad6",
        "colab": {
          "base_uri": "https://localhost:8080/",
          "height": 215
        }
      },
      "source": [
        "model = clf.fit([data_X[0]], [data_y[0]])\n",
        "print(model)"
      ],
      "execution_count": 0,
      "outputs": [
        {
          "output_type": "stream",
          "text": [
            "MLPClassifier(activation='relu', alpha=0.0001, batch_size='auto', beta_1=0.9,\n",
            "              beta_2=0.999, early_stopping=False, epsilon=1e-08,\n",
            "              hidden_layer_sizes=(100,), learning_rate='constant',\n",
            "              learning_rate_init=0.001, max_fun=15000, max_iter=200,\n",
            "              momentum=0.9, n_iter_no_change=10, nesterovs_momentum=True,\n",
            "              power_t=0.5, random_state=None, shuffle=True, solver='adam',\n",
            "              tol=0.0001, validation_fraction=0.1, verbose=False,\n",
            "              warm_start=True)\n"
          ],
          "name": "stdout"
        },
        {
          "output_type": "stream",
          "text": [
            "/usr/local/lib/python3.6/dist-packages/sklearn/neural_network/_multilayer_perceptron.py:571: ConvergenceWarning: Stochastic Optimizer: Maximum iterations (200) reached and the optimization hasn't converged yet.\n",
            "  % self.max_iter, ConvergenceWarning)\n"
          ],
          "name": "stderr"
        }
      ]
    },
    {
      "cell_type": "code",
      "metadata": {
        "id": "KpFUf5z9FJXR",
        "colab_type": "code",
        "colab": {}
      },
      "source": [
        "def play_and_learn(iters=10, debug=False):\n",
        "    score = {\"win\": 0, \"loose\": 0}\n",
        "    \n",
        "    data_X = []\n",
        "    data_y = []\n",
        "    \n",
        "    for i in range(iters):\n",
        "        player1 = get_choice()\n",
        "        \n",
        "        predict = model.predict_proba([str_to_list(player1)])[0]\n",
        "        \n",
        "        if predict[0] >= 0.95:\n",
        "            player2 = options[0]\n",
        "        elif predict[1] >= 0.95:\n",
        "            player2 = options[1]\n",
        "        elif predict[2] >= 0.95:\n",
        "            player2 = options[2]\n",
        "        else:\n",
        "            player2 = get_choice()\n",
        "            \n",
        "        if debug==True:\n",
        "            print(\"Player1: %s Player2 (modelo): %s --> %s\" % (player1, predict, player2))\n",
        "        \n",
        "        winner = search_winner(player1, player2)\n",
        "        if debug==True:\n",
        "            print(\"Comprobamos: p1 VS p2: %s\" % winner)\n",
        "        \n",
        "        if winner==2:\n",
        "            data_X.append(str_to_list(player1))\n",
        "            data_y.append(str_to_list(player2))\n",
        "            \n",
        "            score[\"win\"]+=1\n",
        "        else:\n",
        "            score[\"loose\"]+=1\n",
        "        \n",
        "    return score, data_X, data_y"
      ],
      "execution_count": 0,
      "outputs": []
    },
    {
      "cell_type": "code",
      "metadata": {
        "id": "x-K7kl7AFWym",
        "colab_type": "code",
        "outputId": "e4eb3776-ab80-4687-f8f8-fd51436892e1",
        "colab": {
          "base_uri": "https://localhost:8080/",
          "height": 106
        }
      },
      "source": [
        "score, data_X, data_y = play_and_learn(1, debug=True)\n",
        "print(data_X)\n",
        "print(data_y)\n",
        "print(\"Score: %s %s %%\" % (score, (score[\"win\"]*100/(score[\"win\"]+score[\"loose\"]))))\n",
        "if len(data_X):\n",
        "    model = model.partial_fit(data_X, data_y)"
      ],
      "execution_count": 0,
      "outputs": [
        {
          "output_type": "stream",
          "text": [
            "Player1: ✌ Player2 (modelo): [0.17561242 0.16144559 0.83639906] --> 👊\n",
            "Comprobamos: p1 VS p2: 2\n",
            "[[0, 1, 0]]\n",
            "[[1, 0, 0]]\n",
            "Score: {'win': 1, 'loose': 0} 100.0 %\n"
          ],
          "name": "stdout"
        }
      ]
    },
    {
      "cell_type": "code",
      "metadata": {
        "id": "LwcbRG_vFb_P",
        "colab_type": "code",
        "outputId": "273b9890-6ecb-41ed-c4c9-d8321aeefba4",
        "colab": {
          "base_uri": "https://localhost:8080/",
          "height": 1000
        }
      },
      "source": [
        "i = 0\n",
        "historic_pct = []\n",
        "while True:\n",
        "    i+=1\n",
        "    score, data_X, data_y = play_and_learn(1000, debug=False)\n",
        "    pct = (score[\"win\"]*100/(score[\"win\"]+score[\"loose\"]))\n",
        "    historic_pct.append(pct)\n",
        "    print(\"Iter: %s - score: %s %s %%\" % (i, score, pct))\n",
        "    \n",
        "    if len(data_X):\n",
        "        model = model.partial_fit(data_X, data_y)\n",
        "    \n",
        "    if sum(historic_pct[-9:])==900:\n",
        "        break"
      ],
      "execution_count": 0,
      "outputs": [
        {
          "output_type": "stream",
          "text": [
            "Iter: 1 - score: {'win': 341, 'loose': 659} 34.1 %\n",
            "Iter: 2 - score: {'win': 317, 'loose': 683} 31.7 %\n",
            "Iter: 3 - score: {'win': 366, 'loose': 634} 36.6 %\n",
            "Iter: 4 - score: {'win': 326, 'loose': 674} 32.6 %\n",
            "Iter: 5 - score: {'win': 333, 'loose': 667} 33.3 %\n",
            "Iter: 6 - score: {'win': 331, 'loose': 669} 33.1 %\n",
            "Iter: 7 - score: {'win': 340, 'loose': 660} 34.0 %\n",
            "Iter: 8 - score: {'win': 327, 'loose': 673} 32.7 %\n",
            "Iter: 9 - score: {'win': 329, 'loose': 671} 32.9 %\n",
            "Iter: 10 - score: {'win': 326, 'loose': 674} 32.6 %\n",
            "Iter: 11 - score: {'win': 339, 'loose': 661} 33.9 %\n",
            "Iter: 12 - score: {'win': 325, 'loose': 675} 32.5 %\n",
            "Iter: 13 - score: {'win': 340, 'loose': 660} 34.0 %\n",
            "Iter: 14 - score: {'win': 345, 'loose': 655} 34.5 %\n",
            "Iter: 15 - score: {'win': 304, 'loose': 696} 30.4 %\n",
            "Iter: 16 - score: {'win': 351, 'loose': 649} 35.1 %\n",
            "Iter: 17 - score: {'win': 349, 'loose': 651} 34.9 %\n",
            "Iter: 18 - score: {'win': 353, 'loose': 647} 35.3 %\n",
            "Iter: 19 - score: {'win': 336, 'loose': 664} 33.6 %\n",
            "Iter: 20 - score: {'win': 343, 'loose': 657} 34.3 %\n",
            "Iter: 21 - score: {'win': 321, 'loose': 679} 32.1 %\n",
            "Iter: 22 - score: {'win': 336, 'loose': 664} 33.6 %\n",
            "Iter: 23 - score: {'win': 365, 'loose': 635} 36.5 %\n",
            "Iter: 24 - score: {'win': 356, 'loose': 644} 35.6 %\n",
            "Iter: 25 - score: {'win': 355, 'loose': 645} 35.5 %\n",
            "Iter: 26 - score: {'win': 330, 'loose': 670} 33.0 %\n",
            "Iter: 27 - score: {'win': 335, 'loose': 665} 33.5 %\n",
            "Iter: 28 - score: {'win': 341, 'loose': 659} 34.1 %\n",
            "Iter: 29 - score: {'win': 343, 'loose': 657} 34.3 %\n",
            "Iter: 30 - score: {'win': 354, 'loose': 646} 35.4 %\n",
            "Iter: 31 - score: {'win': 324, 'loose': 676} 32.4 %\n",
            "Iter: 32 - score: {'win': 307, 'loose': 693} 30.7 %\n",
            "Iter: 33 - score: {'win': 328, 'loose': 672} 32.8 %\n",
            "Iter: 34 - score: {'win': 340, 'loose': 660} 34.0 %\n",
            "Iter: 35 - score: {'win': 369, 'loose': 631} 36.9 %\n",
            "Iter: 36 - score: {'win': 349, 'loose': 651} 34.9 %\n",
            "Iter: 37 - score: {'win': 335, 'loose': 665} 33.5 %\n",
            "Iter: 38 - score: {'win': 331, 'loose': 669} 33.1 %\n",
            "Iter: 39 - score: {'win': 317, 'loose': 683} 31.7 %\n",
            "Iter: 40 - score: {'win': 299, 'loose': 701} 29.9 %\n",
            "Iter: 41 - score: {'win': 337, 'loose': 663} 33.7 %\n",
            "Iter: 42 - score: {'win': 327, 'loose': 673} 32.7 %\n",
            "Iter: 43 - score: {'win': 351, 'loose': 649} 35.1 %\n",
            "Iter: 44 - score: {'win': 342, 'loose': 658} 34.2 %\n",
            "Iter: 45 - score: {'win': 325, 'loose': 675} 32.5 %\n",
            "Iter: 46 - score: {'win': 300, 'loose': 700} 30.0 %\n",
            "Iter: 47 - score: {'win': 330, 'loose': 670} 33.0 %\n",
            "Iter: 48 - score: {'win': 342, 'loose': 658} 34.2 %\n",
            "Iter: 49 - score: {'win': 325, 'loose': 675} 32.5 %\n",
            "Iter: 50 - score: {'win': 312, 'loose': 688} 31.2 %\n",
            "Iter: 51 - score: {'win': 312, 'loose': 688} 31.2 %\n",
            "Iter: 52 - score: {'win': 330, 'loose': 670} 33.0 %\n",
            "Iter: 53 - score: {'win': 330, 'loose': 670} 33.0 %\n",
            "Iter: 54 - score: {'win': 330, 'loose': 670} 33.0 %\n",
            "Iter: 55 - score: {'win': 329, 'loose': 671} 32.9 %\n",
            "Iter: 56 - score: {'win': 335, 'loose': 665} 33.5 %\n",
            "Iter: 57 - score: {'win': 334, 'loose': 666} 33.4 %\n",
            "Iter: 58 - score: {'win': 353, 'loose': 647} 35.3 %\n",
            "Iter: 59 - score: {'win': 333, 'loose': 667} 33.3 %\n",
            "Iter: 60 - score: {'win': 329, 'loose': 671} 32.9 %\n",
            "Iter: 61 - score: {'win': 338, 'loose': 662} 33.8 %\n",
            "Iter: 62 - score: {'win': 333, 'loose': 667} 33.3 %\n",
            "Iter: 63 - score: {'win': 315, 'loose': 685} 31.5 %\n",
            "Iter: 64 - score: {'win': 313, 'loose': 687} 31.3 %\n",
            "Iter: 65 - score: {'win': 325, 'loose': 675} 32.5 %\n",
            "Iter: 66 - score: {'win': 317, 'loose': 683} 31.7 %\n",
            "Iter: 67 - score: {'win': 319, 'loose': 681} 31.9 %\n",
            "Iter: 68 - score: {'win': 314, 'loose': 686} 31.4 %\n",
            "Iter: 69 - score: {'win': 306, 'loose': 694} 30.6 %\n",
            "Iter: 70 - score: {'win': 333, 'loose': 667} 33.3 %\n",
            "Iter: 71 - score: {'win': 338, 'loose': 662} 33.8 %\n",
            "Iter: 72 - score: {'win': 333, 'loose': 667} 33.3 %\n",
            "Iter: 73 - score: {'win': 338, 'loose': 662} 33.8 %\n",
            "Iter: 74 - score: {'win': 324, 'loose': 676} 32.4 %\n",
            "Iter: 75 - score: {'win': 341, 'loose': 659} 34.1 %\n",
            "Iter: 76 - score: {'win': 326, 'loose': 674} 32.6 %\n",
            "Iter: 77 - score: {'win': 349, 'loose': 651} 34.9 %\n",
            "Iter: 78 - score: {'win': 315, 'loose': 685} 31.5 %\n",
            "Iter: 79 - score: {'win': 341, 'loose': 659} 34.1 %\n",
            "Iter: 80 - score: {'win': 306, 'loose': 694} 30.6 %\n",
            "Iter: 81 - score: {'win': 356, 'loose': 644} 35.6 %\n",
            "Iter: 82 - score: {'win': 353, 'loose': 647} 35.3 %\n",
            "Iter: 83 - score: {'win': 357, 'loose': 643} 35.7 %\n",
            "Iter: 84 - score: {'win': 305, 'loose': 695} 30.5 %\n",
            "Iter: 85 - score: {'win': 342, 'loose': 658} 34.2 %\n",
            "Iter: 86 - score: {'win': 352, 'loose': 648} 35.2 %\n",
            "Iter: 87 - score: {'win': 318, 'loose': 682} 31.8 %\n",
            "Iter: 88 - score: {'win': 339, 'loose': 661} 33.9 %\n",
            "Iter: 89 - score: {'win': 334, 'loose': 666} 33.4 %\n",
            "Iter: 90 - score: {'win': 339, 'loose': 661} 33.9 %\n",
            "Iter: 91 - score: {'win': 328, 'loose': 672} 32.8 %\n",
            "Iter: 92 - score: {'win': 325, 'loose': 675} 32.5 %\n",
            "Iter: 93 - score: {'win': 330, 'loose': 670} 33.0 %\n",
            "Iter: 94 - score: {'win': 331, 'loose': 669} 33.1 %\n",
            "Iter: 95 - score: {'win': 328, 'loose': 672} 32.8 %\n",
            "Iter: 96 - score: {'win': 324, 'loose': 676} 32.4 %\n",
            "Iter: 97 - score: {'win': 343, 'loose': 657} 34.3 %\n",
            "Iter: 98 - score: {'win': 344, 'loose': 656} 34.4 %\n",
            "Iter: 99 - score: {'win': 326, 'loose': 674} 32.6 %\n",
            "Iter: 100 - score: {'win': 350, 'loose': 650} 35.0 %\n",
            "Iter: 101 - score: {'win': 319, 'loose': 681} 31.9 %\n",
            "Iter: 102 - score: {'win': 313, 'loose': 687} 31.3 %\n",
            "Iter: 103 - score: {'win': 344, 'loose': 656} 34.4 %\n",
            "Iter: 104 - score: {'win': 349, 'loose': 651} 34.9 %\n",
            "Iter: 105 - score: {'win': 343, 'loose': 657} 34.3 %\n",
            "Iter: 106 - score: {'win': 360, 'loose': 640} 36.0 %\n",
            "Iter: 107 - score: {'win': 350, 'loose': 650} 35.0 %\n",
            "Iter: 108 - score: {'win': 306, 'loose': 694} 30.6 %\n",
            "Iter: 109 - score: {'win': 331, 'loose': 669} 33.1 %\n",
            "Iter: 110 - score: {'win': 340, 'loose': 660} 34.0 %\n",
            "Iter: 111 - score: {'win': 314, 'loose': 686} 31.4 %\n",
            "Iter: 112 - score: {'win': 334, 'loose': 666} 33.4 %\n",
            "Iter: 113 - score: {'win': 337, 'loose': 663} 33.7 %\n",
            "Iter: 114 - score: {'win': 332, 'loose': 668} 33.2 %\n",
            "Iter: 115 - score: {'win': 331, 'loose': 669} 33.1 %\n",
            "Iter: 116 - score: {'win': 332, 'loose': 668} 33.2 %\n",
            "Iter: 117 - score: {'win': 347, 'loose': 653} 34.7 %\n",
            "Iter: 118 - score: {'win': 343, 'loose': 657} 34.3 %\n",
            "Iter: 119 - score: {'win': 319, 'loose': 681} 31.9 %\n",
            "Iter: 120 - score: {'win': 353, 'loose': 647} 35.3 %\n",
            "Iter: 121 - score: {'win': 366, 'loose': 634} 36.6 %\n",
            "Iter: 122 - score: {'win': 323, 'loose': 677} 32.3 %\n",
            "Iter: 123 - score: {'win': 335, 'loose': 665} 33.5 %\n",
            "Iter: 124 - score: {'win': 343, 'loose': 657} 34.3 %\n",
            "Iter: 125 - score: {'win': 328, 'loose': 672} 32.8 %\n",
            "Iter: 126 - score: {'win': 322, 'loose': 678} 32.2 %\n",
            "Iter: 127 - score: {'win': 341, 'loose': 659} 34.1 %\n",
            "Iter: 128 - score: {'win': 348, 'loose': 652} 34.8 %\n",
            "Iter: 129 - score: {'win': 323, 'loose': 677} 32.3 %\n",
            "Iter: 130 - score: {'win': 366, 'loose': 634} 36.6 %\n",
            "Iter: 131 - score: {'win': 324, 'loose': 676} 32.4 %\n",
            "Iter: 132 - score: {'win': 346, 'loose': 654} 34.6 %\n",
            "Iter: 133 - score: {'win': 319, 'loose': 681} 31.9 %\n",
            "Iter: 134 - score: {'win': 314, 'loose': 686} 31.4 %\n",
            "Iter: 135 - score: {'win': 343, 'loose': 657} 34.3 %\n",
            "Iter: 136 - score: {'win': 315, 'loose': 685} 31.5 %\n",
            "Iter: 137 - score: {'win': 345, 'loose': 655} 34.5 %\n",
            "Iter: 138 - score: {'win': 538, 'loose': 462} 53.8 %\n",
            "Iter: 139 - score: {'win': 540, 'loose': 460} 54.0 %\n",
            "Iter: 140 - score: {'win': 549, 'loose': 451} 54.9 %\n",
            "Iter: 141 - score: {'win': 589, 'loose': 411} 58.9 %\n",
            "Iter: 142 - score: {'win': 574, 'loose': 426} 57.4 %\n",
            "Iter: 143 - score: {'win': 570, 'loose': 430} 57.0 %\n",
            "Iter: 144 - score: {'win': 539, 'loose': 461} 53.9 %\n",
            "Iter: 145 - score: {'win': 525, 'loose': 475} 52.5 %\n",
            "Iter: 146 - score: {'win': 542, 'loose': 458} 54.2 %\n",
            "Iter: 147 - score: {'win': 550, 'loose': 450} 55.0 %\n",
            "Iter: 148 - score: {'win': 539, 'loose': 461} 53.9 %\n",
            "Iter: 149 - score: {'win': 561, 'loose': 439} 56.1 %\n",
            "Iter: 150 - score: {'win': 527, 'loose': 473} 52.7 %\n",
            "Iter: 151 - score: {'win': 521, 'loose': 479} 52.1 %\n",
            "Iter: 152 - score: {'win': 553, 'loose': 447} 55.3 %\n",
            "Iter: 153 - score: {'win': 575, 'loose': 425} 57.5 %\n",
            "Iter: 154 - score: {'win': 550, 'loose': 450} 55.0 %\n",
            "Iter: 155 - score: {'win': 547, 'loose': 453} 54.7 %\n",
            "Iter: 156 - score: {'win': 556, 'loose': 444} 55.6 %\n",
            "Iter: 157 - score: {'win': 574, 'loose': 426} 57.4 %\n",
            "Iter: 158 - score: {'win': 569, 'loose': 431} 56.9 %\n",
            "Iter: 159 - score: {'win': 586, 'loose': 414} 58.6 %\n",
            "Iter: 160 - score: {'win': 513, 'loose': 487} 51.3 %\n",
            "Iter: 161 - score: {'win': 553, 'loose': 447} 55.3 %\n",
            "Iter: 162 - score: {'win': 554, 'loose': 446} 55.4 %\n",
            "Iter: 163 - score: {'win': 535, 'loose': 465} 53.5 %\n",
            "Iter: 164 - score: {'win': 559, 'loose': 441} 55.9 %\n",
            "Iter: 165 - score: {'win': 565, 'loose': 435} 56.5 %\n",
            "Iter: 166 - score: {'win': 546, 'loose': 454} 54.6 %\n",
            "Iter: 167 - score: {'win': 562, 'loose': 438} 56.2 %\n",
            "Iter: 168 - score: {'win': 582, 'loose': 418} 58.2 %\n",
            "Iter: 169 - score: {'win': 560, 'loose': 440} 56.0 %\n",
            "Iter: 170 - score: {'win': 528, 'loose': 472} 52.8 %\n",
            "Iter: 171 - score: {'win': 567, 'loose': 433} 56.7 %\n",
            "Iter: 172 - score: {'win': 571, 'loose': 429} 57.1 %\n",
            "Iter: 173 - score: {'win': 561, 'loose': 439} 56.1 %\n",
            "Iter: 174 - score: {'win': 561, 'loose': 439} 56.1 %\n",
            "Iter: 175 - score: {'win': 564, 'loose': 436} 56.4 %\n",
            "Iter: 176 - score: {'win': 557, 'loose': 443} 55.7 %\n",
            "Iter: 177 - score: {'win': 538, 'loose': 462} 53.8 %\n",
            "Iter: 178 - score: {'win': 569, 'loose': 431} 56.9 %\n",
            "Iter: 179 - score: {'win': 558, 'loose': 442} 55.8 %\n",
            "Iter: 180 - score: {'win': 537, 'loose': 463} 53.7 %\n",
            "Iter: 181 - score: {'win': 560, 'loose': 440} 56.0 %\n",
            "Iter: 182 - score: {'win': 757, 'loose': 243} 75.7 %\n",
            "Iter: 183 - score: {'win': 771, 'loose': 229} 77.1 %\n",
            "Iter: 184 - score: {'win': 772, 'loose': 228} 77.2 %\n",
            "Iter: 185 - score: {'win': 775, 'loose': 225} 77.5 %\n",
            "Iter: 186 - score: {'win': 783, 'loose': 217} 78.3 %\n",
            "Iter: 187 - score: {'win': 761, 'loose': 239} 76.1 %\n",
            "Iter: 188 - score: {'win': 789, 'loose': 211} 78.9 %\n",
            "Iter: 189 - score: {'win': 774, 'loose': 226} 77.4 %\n",
            "Iter: 190 - score: {'win': 783, 'loose': 217} 78.3 %\n",
            "Iter: 191 - score: {'win': 769, 'loose': 231} 76.9 %\n",
            "Iter: 192 - score: {'win': 792, 'loose': 208} 79.2 %\n",
            "Iter: 193 - score: {'win': 785, 'loose': 215} 78.5 %\n",
            "Iter: 194 - score: {'win': 789, 'loose': 211} 78.9 %\n",
            "Iter: 195 - score: {'win': 772, 'loose': 228} 77.2 %\n",
            "Iter: 196 - score: {'win': 780, 'loose': 220} 78.0 %\n",
            "Iter: 197 - score: {'win': 783, 'loose': 217} 78.3 %\n",
            "Iter: 198 - score: {'win': 797, 'loose': 203} 79.7 %\n",
            "Iter: 199 - score: {'win': 772, 'loose': 228} 77.2 %\n",
            "Iter: 200 - score: {'win': 759, 'loose': 241} 75.9 %\n",
            "Iter: 201 - score: {'win': 778, 'loose': 222} 77.8 %\n",
            "Iter: 202 - score: {'win': 774, 'loose': 226} 77.4 %\n",
            "Iter: 203 - score: {'win': 769, 'loose': 231} 76.9 %\n",
            "Iter: 204 - score: {'win': 792, 'loose': 208} 79.2 %\n",
            "Iter: 205 - score: {'win': 749, 'loose': 251} 74.9 %\n",
            "Iter: 206 - score: {'win': 791, 'loose': 209} 79.1 %\n",
            "Iter: 207 - score: {'win': 753, 'loose': 247} 75.3 %\n",
            "Iter: 208 - score: {'win': 792, 'loose': 208} 79.2 %\n",
            "Iter: 209 - score: {'win': 803, 'loose': 197} 80.3 %\n",
            "Iter: 210 - score: {'win': 767, 'loose': 233} 76.7 %\n",
            "Iter: 211 - score: {'win': 779, 'loose': 221} 77.9 %\n",
            "Iter: 212 - score: {'win': 782, 'loose': 218} 78.2 %\n",
            "Iter: 213 - score: {'win': 767, 'loose': 233} 76.7 %\n",
            "Iter: 214 - score: {'win': 791, 'loose': 209} 79.1 %\n",
            "Iter: 215 - score: {'win': 1000, 'loose': 0} 100.0 %\n",
            "Iter: 216 - score: {'win': 1000, 'loose': 0} 100.0 %\n",
            "Iter: 217 - score: {'win': 1000, 'loose': 0} 100.0 %\n",
            "Iter: 218 - score: {'win': 1000, 'loose': 0} 100.0 %\n",
            "Iter: 219 - score: {'win': 1000, 'loose': 0} 100.0 %\n",
            "Iter: 220 - score: {'win': 1000, 'loose': 0} 100.0 %\n",
            "Iter: 221 - score: {'win': 1000, 'loose': 0} 100.0 %\n",
            "Iter: 222 - score: {'win': 1000, 'loose': 0} 100.0 %\n",
            "Iter: 223 - score: {'win': 1000, 'loose': 0} 100.0 %\n"
          ],
          "name": "stdout"
        }
      ]
    },
    {
      "cell_type": "code",
      "metadata": {
        "id": "cofi7rxLFhZw",
        "colab_type": "code",
        "colab": {}
      },
      "source": [
        "from bokeh.plotting import figure, show\n",
        "from bokeh.io import push_notebook, show, output_notebook"
      ],
      "execution_count": 0,
      "outputs": []
    },
    {
      "cell_type": "code",
      "metadata": {
        "id": "vnz9ZcBOF5Xx",
        "colab_type": "code",
        "colab": {}
      },
      "source": [
        "x = range(len(historic_pct))\n",
        "y = historic_pct\n",
        "\n",
        "p = figure(\n",
        "    title=\"Porcetaje de aprendizaje en cada iteración\",\n",
        "    x_axis_label=\"Iter\", y_axis_label=\"%\", width=900)\n",
        "\n",
        "p.line(x, y, line_width=1)\n",
        "show(p)"
      ],
      "execution_count": 0,
      "outputs": []
    },
    {
      "cell_type": "code",
      "metadata": {
        "id": "kIvIjj7wF8FJ",
        "colab_type": "code",
        "outputId": "6a25883c-2496-48cb-b3c0-10ccdceb5cbe",
        "colab": {
          "base_uri": "https://localhost:8080/",
          "height": 35
        }
      },
      "source": [
        "model.predict_proba([str_to_list(\"👊\")])"
      ],
      "execution_count": 0,
      "outputs": [
        {
          "output_type": "execute_result",
          "data": {
            "text/plain": [
              "array([[0.00520834, 0.00250728, 0.99147459]])"
            ]
          },
          "metadata": {
            "tags": []
          },
          "execution_count": 18
        }
      ]
    },
    {
      "cell_type": "code",
      "metadata": {
        "id": "V8xwf9nuGMQy",
        "colab_type": "code",
        "colab": {}
      },
      "source": [
        ""
      ],
      "execution_count": 0,
      "outputs": []
    }
  ]
}