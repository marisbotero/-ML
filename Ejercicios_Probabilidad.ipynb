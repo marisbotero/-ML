{
  "nbformat": 4,
  "nbformat_minor": 0,
  "metadata": {
    "colab": {
      "name": "Copia de Ejercicios Probabilidad.ipynb",
      "provenance": [],
      "include_colab_link": true
    },
    "kernelspec": {
      "name": "python3",
      "display_name": "Python 3"
    }
  },
  "cells": [
    {
      "cell_type": "markdown",
      "metadata": {
        "id": "view-in-github",
        "colab_type": "text"
      },
      "source": [
        "<a href=\"https://colab.research.google.com/github/marisbotero/ML/blob/master/Ejercicios_Probabilidad.ipynb\" target=\"_parent\"><img src=\"https://colab.research.google.com/assets/colab-badge.svg\" alt=\"Open In Colab\"/></a>"
      ]
    },
    {
      "cell_type": "markdown",
      "metadata": {
        "id": "EIYB8nQyy3bT",
        "colab_type": "text"
      },
      "source": [
        "In an English deck of cards there are 4 pints (hearts, spades, diamonds and clubs) and 13 cards per pint. That is, in total there are 52 cards. Suppose you choose two random cards. What is the probability that one of them is black since the other is also black?\n",
        "1.\t1/2\n",
        "2.\t25/52\n",
        "3.\t25/51\n",
        "4.\t26/51\n",
        "5.\tNone of above\n"
      ]
    },
    {
      "cell_type": "code",
      "metadata": {
        "id": "MkE8lMRpyoeW",
        "colab_type": "code",
        "colab": {
          "base_uri": "https://localhost:8080/",
          "height": 35
        },
        "outputId": "a269b754-5626-45ce-8d4a-23f3b773d82a"
      },
      "source": [
        "25/52"
      ],
      "execution_count": 1,
      "outputs": [
        {
          "output_type": "execute_result",
          "data": {
            "text/plain": [
              "0.4807692307692308"
            ]
          },
          "metadata": {
            "tags": []
          },
          "execution_count": 1
        }
      ]
    },
    {
      "cell_type": "markdown",
      "metadata": {
        "id": "fITxt8LtzKan",
        "colab_type": "text"
      },
      "source": [
        "The probability that a Titi monkey likes to eat peanuts is 40%, and the probability of consuming it regularly is 20%. In addition, studies have shown that, among the Titi monkeys that eat peanuts, the probability of dying before 5 years is 5%. What is the probability of dying before 5 years of 5%. What is the probability that a Titi monkey eats peanuts regularly and dies before age 5?\n",
        "1.\t0.1\n",
        "2.\t0.04\n",
        "3.\t0.02\n",
        "4.\t0.01\n"
      ]
    },
    {
      "cell_type": "code",
      "metadata": {
        "id": "PErvp-stzVQh",
        "colab_type": "code",
        "colab": {}
      },
      "source": [
        ""
      ],
      "execution_count": 0,
      "outputs": []
    },
    {
      "cell_type": "markdown",
      "metadata": {
        "id": "0tNirTa2zVtK",
        "colab_type": "text"
      },
      "source": [
        "If you throw a 6-sided side 3 times. X1, X2 and X3 denote the value of the first, second and third throw.\n",
        "What is P (X1 + X2 + X3 <= 5)\n",
        "1.\t10/36\n",
        "2.\t5/36\n",
        "3.\t10/216\n",
        "4.\t5/216\n"
      ]
    },
    {
      "cell_type": "code",
      "metadata": {
        "id": "QsFaeWAbz9Ye",
        "colab_type": "code",
        "colab": {
          "base_uri": "https://localhost:8080/",
          "height": 35
        },
        "outputId": "4362e335-7f67-4dd3-c917-67a16ec1f401"
      },
      "source": [
        "5/216"
      ],
      "execution_count": 2,
      "outputs": [
        {
          "output_type": "execute_result",
          "data": {
            "text/plain": [
              "0.023148148148148147"
            ]
          },
          "metadata": {
            "tags": []
          },
          "execution_count": 2
        }
      ]
    },
    {
      "cell_type": "markdown",
      "metadata": {
        "id": "cAmJqNA1z9so",
        "colab_type": "text"
      },
      "source": [
        "In an English deck of cards there are 4 pints (hearts, spades, diamonds and tremolo) and 13 cards per pints. That is, in total there are 52 cards. Suppose you choose two random cards. What is the probability that one of them is black since the other is red?\n",
        "1.\t1/2\n",
        "2.\t25/52\n",
        "3.\t1/4\n",
        "4.\t26/51\n"
      ]
    },
    {
      "cell_type": "code",
      "metadata": {
        "id": "o24ghvSg0J-B",
        "colab_type": "code",
        "colab": {
          "base_uri": "https://localhost:8080/",
          "height": 35
        },
        "outputId": "cbd0b4c0-ef8f-4aa8-e993-624d5f38b179"
      },
      "source": [
        "1/4"
      ],
      "execution_count": 3,
      "outputs": [
        {
          "output_type": "execute_result",
          "data": {
            "text/plain": [
              "0.25"
            ]
          },
          "metadata": {
            "tags": []
          },
          "execution_count": 3
        }
      ]
    },
    {
      "cell_type": "markdown",
      "metadata": {
        "id": "RtTbuiQv0KOZ",
        "colab_type": "text"
      },
      "source": [
        "Cosider a fair coin and fair die. The possible outcome toss is \"head\" or \"tail\", while the possible outcome for the die throw is 1,2,3,4,5 or 6. You toss the coin 4 times and throw the die 2 times.\n",
        "The number of possible outcomes for this experiment is________"
      ]
    },
    {
      "cell_type": "code",
      "metadata": {
        "id": "xls3j4xi0LbB",
        "colab_type": "code",
        "colab": {
          "base_uri": "https://localhost:8080/",
          "height": 35
        },
        "outputId": "81f400e6-37df-4e0d-c328-dd3ada406391"
      },
      "source": [
        "#P(At Least Two Heads)\n",
        "P= 1 - (1 / 1024) - (10 / 1024)\n",
        "P"
      ],
      "execution_count": 7,
      "outputs": [
        {
          "output_type": "execute_result",
          "data": {
            "text/plain": [
              "0.9892578125"
            ]
          },
          "metadata": {
            "tags": []
          },
          "execution_count": 7
        }
      ]
    },
    {
      "cell_type": "code",
      "metadata": {
        "id": "bVfKdCgbvedG",
        "colab_type": "code",
        "colab": {
          "base_uri": "https://localhost:8080/",
          "height": 35
        },
        "outputId": "3e2369b0-2524-4548-cfb3-efdbf16da97b"
      },
      "source": [
        "#P(At Least Two Heads) \n",
        "P= (1024 - 1 - 10) / 1024\n",
        "P"
      ],
      "execution_count": 9,
      "outputs": [
        {
          "output_type": "execute_result",
          "data": {
            "text/plain": [
              "0.9892578125"
            ]
          },
          "metadata": {
            "tags": []
          },
          "execution_count": 9
        }
      ]
    },
    {
      "cell_type": "code",
      "metadata": {
        "id": "lLSBuTqevlgf",
        "colab_type": "code",
        "colab": {
          "base_uri": "https://localhost:8080/",
          "height": 35
        },
        "outputId": "b2583ec8-22ec-448c-f8f0-ce82560ce715"
      },
      "source": [
        "#P(At Least Two Heads) \n",
        "P= 1013 / 1024\n",
        "P"
      ],
      "execution_count": 10,
      "outputs": [
        {
          "output_type": "execute_result",
          "data": {
            "text/plain": [
              "0.9892578125"
            ]
          },
          "metadata": {
            "tags": []
          },
          "execution_count": 10
        }
      ]
    },
    {
      "cell_type": "markdown",
      "metadata": {
        "id": "c0h2tCEs0__3",
        "colab_type": "text"
      },
      "source": [
        "A dart is thrown at circular dashboard such that it will land randomly over the area of the dashboard. What is the probability that it lands closer to the center than to the edge? Assume the dart always reaches the dashboard.\n",
        "1.\t25%\n",
        "2.\t50%\n",
        "3.\t10%\n",
        "4.\t33%"
      ]
    },
    {
      "cell_type": "code",
      "metadata": {
        "id": "eYFiTSTl1ATV",
        "colab_type": "code",
        "colab": {
          "base_uri": "https://localhost:8080/",
          "height": 35
        },
        "outputId": "c4b67d4a-ed1d-49af-ad28-6528552ea704"
      },
      "source": [
        "1/4"
      ],
      "execution_count": 11,
      "outputs": [
        {
          "output_type": "execute_result",
          "data": {
            "text/plain": [
              "0.25"
            ]
          },
          "metadata": {
            "tags": []
          },
          "execution_count": 11
        }
      ]
    },
    {
      "cell_type": "code",
      "metadata": {
        "id": "957XGq0tv1OH",
        "colab_type": "code",
        "colab": {}
      },
      "source": [
        ""
      ],
      "execution_count": 0,
      "outputs": []
    }
  ]
}