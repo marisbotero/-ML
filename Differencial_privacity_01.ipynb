{
  "nbformat": 4,
  "nbformat_minor": 0,
  "metadata": {
    "colab": {
      "name": "Differencial_privacity.ipynb",
      "version": "0.3.2",
      "provenance": [],
      "include_colab_link": true
    },
    "kernelspec": {
      "name": "python3",
      "display_name": "Python 3"
    }
  },
  "cells": [
    {
      "cell_type": "markdown",
      "metadata": {
        "id": "view-in-github",
        "colab_type": "text"
      },
      "source": [
        "<a href=\"https://colab.research.google.com/github/marisbotero/ML/blob/master/Differencial_privacity_01.ipynb\" target=\"_parent\"><img src=\"https://colab.research.google.com/assets/colab-badge.svg\" alt=\"Open In Colab\"/></a>"
      ]
    },
    {
      "cell_type": "code",
      "metadata": {
        "id": "Q-lH3dXjEJaM",
        "colab_type": "code",
        "outputId": "5a29370f-4fb4-4b08-d3b6-463b5f6a7e7c",
        "colab": {
          "base_uri": "https://localhost:8080/",
          "height": 121
        }
      },
      "source": [
        "!pip3 install torch torchvision"
      ],
      "execution_count": 1,
      "outputs": [
        {
          "output_type": "stream",
          "text": [
            "Requirement already satisfied: torch in /usr/local/lib/python3.6/dist-packages (1.1.0)\n",
            "Requirement already satisfied: torchvision in /usr/local/lib/python3.6/dist-packages (0.3.0)\n",
            "Requirement already satisfied: numpy in /usr/local/lib/python3.6/dist-packages (from torch) (1.16.4)\n",
            "Requirement already satisfied: pillow>=4.1.1 in /usr/local/lib/python3.6/dist-packages (from torchvision) (4.3.0)\n",
            "Requirement already satisfied: six in /usr/local/lib/python3.6/dist-packages (from torchvision) (1.12.0)\n",
            "Requirement already satisfied: olefile in /usr/local/lib/python3.6/dist-packages (from pillow>=4.1.1->torchvision) (0.46)\n"
          ],
          "name": "stdout"
        }
      ]
    },
    {
      "cell_type": "code",
      "metadata": {
        "id": "5GMJWaCGEQym",
        "colab_type": "code",
        "colab": {}
      },
      "source": [
        "import torch\n",
        "num_entries = 5000\n",
        "db = torch.rand(num_entries)>0.5"
      ],
      "execution_count": 0,
      "outputs": []
    },
    {
      "cell_type": "code",
      "metadata": {
        "id": "AfR6vntZEq7N",
        "colab_type": "code",
        "outputId": "ed7a44eb-ab5f-4fbe-d1e0-362813fbcacc",
        "colab": {
          "base_uri": "https://localhost:8080/",
          "height": 35
        }
      },
      "source": [
        "db"
      ],
      "execution_count": 3,
      "outputs": [
        {
          "output_type": "execute_result",
          "data": {
            "text/plain": [
              "tensor([0, 1, 0,  ..., 0, 0, 1], dtype=torch.uint8)"
            ]
          },
          "metadata": {
            "tags": []
          },
          "execution_count": 3
        }
      ]
    },
    {
      "cell_type": "markdown",
      "metadata": {
        "id": "ngl1i-nAIdqb",
        "colab_type": "text"
      },
      "source": [
        "#  Build a private database with python\n",
        "### Create a database\n",
        "###  create all parallel databases"
      ]
    },
    {
      "cell_type": "code",
      "metadata": {
        "id": "wwOex3RSEsjw",
        "colab_type": "code",
        "outputId": "b0736948-a6f1-40ec-f65c-7a8cbc434434",
        "colab": {
          "base_uri": "https://localhost:8080/",
          "height": 35
        }
      },
      "source": [
        "db = torch.rand(num_entries)>0.5\n",
        "db"
      ],
      "execution_count": 4,
      "outputs": [
        {
          "output_type": "execute_result",
          "data": {
            "text/plain": [
              "tensor([0, 1, 0,  ..., 1, 0, 1], dtype=torch.uint8)"
            ]
          },
          "metadata": {
            "tags": []
          },
          "execution_count": 4
        }
      ]
    },
    {
      "cell_type": "code",
      "metadata": {
        "id": "9Uoeosq3JKAQ",
        "colab_type": "code",
        "outputId": "5b119e63-146c-4377-f792-289a1f57068b",
        "colab": {
          "base_uri": "https://localhost:8080/",
          "height": 35
        }
      },
      "source": [
        "db.shape"
      ],
      "execution_count": 5,
      "outputs": [
        {
          "output_type": "execute_result",
          "data": {
            "text/plain": [
              "torch.Size([5000])"
            ]
          },
          "metadata": {
            "tags": []
          },
          "execution_count": 5
        }
      ]
    },
    {
      "cell_type": "code",
      "metadata": {
        "id": "5z90VksCJepd",
        "colab_type": "code",
        "outputId": "b9cce561-6a30-4403-e6a3-d83f8bc18d00",
        "colab": {
          "base_uri": "https://localhost:8080/",
          "height": 35
        }
      },
      "source": [
        "db[0:5]"
      ],
      "execution_count": 6,
      "outputs": [
        {
          "output_type": "execute_result",
          "data": {
            "text/plain": [
              "tensor([0, 1, 0, 0, 0], dtype=torch.uint8)"
            ]
          },
          "metadata": {
            "tags": []
          },
          "execution_count": 6
        }
      ]
    },
    {
      "cell_type": "code",
      "metadata": {
        "id": "xFgROb6GJOM1",
        "colab_type": "code",
        "colab": {}
      },
      "source": [
        "remove_index = 2"
      ],
      "execution_count": 0,
      "outputs": []
    },
    {
      "cell_type": "code",
      "metadata": {
        "id": "J2QTWiFnJbAT",
        "colab_type": "code",
        "colab": {}
      },
      "source": [
        "#db[:3]"
      ],
      "execution_count": 0,
      "outputs": []
    },
    {
      "cell_type": "code",
      "metadata": {
        "id": "tq5piepoJ8CG",
        "colab_type": "code",
        "colab": {}
      },
      "source": [
        "def get_parallel_db(db, remove_index):\n",
        "  \n",
        "  return torch.cat((db[0:remove_index], db[3: remove_index + 1 ]))"
      ],
      "execution_count": 0,
      "outputs": []
    },
    {
      "cell_type": "code",
      "metadata": {
        "id": "gDQQbTAsKO8j",
        "colab_type": "code",
        "outputId": "fbd19e0d-985c-4285-cc23-3e2408ee003b",
        "colab": {
          "base_uri": "https://localhost:8080/",
          "height": 35
        }
      },
      "source": [
        "get_parallel_db(db,2)[0:5]"
      ],
      "execution_count": 9,
      "outputs": [
        {
          "output_type": "execute_result",
          "data": {
            "text/plain": [
              "tensor([0, 1], dtype=torch.uint8)"
            ]
          },
          "metadata": {
            "tags": []
          },
          "execution_count": 9
        }
      ]
    },
    {
      "cell_type": "code",
      "metadata": {
        "colab_type": "code",
        "outputId": "1d5fd420-e14a-47b7-c32c-ce27aaa47af4",
        "id": "Oq83D7MIMmDh",
        "colab": {
          "base_uri": "https://localhost:8080/",
          "height": 35
        }
      },
      "source": [
        "get_parallel_db(db,58934).shape"
      ],
      "execution_count": 10,
      "outputs": [
        {
          "output_type": "execute_result",
          "data": {
            "text/plain": [
              "torch.Size([9997])"
            ]
          },
          "metadata": {
            "tags": []
          },
          "execution_count": 10
        }
      ]
    },
    {
      "cell_type": "code",
      "metadata": {
        "id": "_I49XbKqPPMT",
        "colab_type": "code",
        "colab": {}
      },
      "source": [
        "def get_parallels_dbs(db):\n",
        "  parallels_dbs= list()\n",
        "  \n",
        "  for i in range(len(db)):\n",
        "    pdb = get_parallel_db(db,i)\n",
        "    parallels_dbs.append(pdb)\n",
        "  return paralles_dbs"
      ],
      "execution_count": 0,
      "outputs": []
    },
    {
      "cell_type": "code",
      "metadata": {
        "id": "_kdCGlCcQZC_",
        "colab_type": "code",
        "colab": {}
      },
      "source": [
        "#len(parallels_dbs)"
      ],
      "execution_count": 0,
      "outputs": []
    },
    {
      "cell_type": "code",
      "metadata": {
        "id": "hkoOr36rQcTb",
        "colab_type": "code",
        "colab": {}
      },
      "source": [
        "#get_parallels_dbs(db)"
      ],
      "execution_count": 0,
      "outputs": []
    },
    {
      "cell_type": "code",
      "metadata": {
        "id": "xHddCnNnRMIR",
        "colab_type": "code",
        "colab": {
          "base_uri": "https://localhost:8080/",
          "height": 35
        },
        "outputId": "b3debf73-5b38-40c9-b8c8-93a1a935dae8"
      },
      "source": [
        "db = torch.rand(num_entries)>0.5\n",
        "db"
      ],
      "execution_count": 11,
      "outputs": [
        {
          "output_type": "execute_result",
          "data": {
            "text/plain": [
              "tensor([0, 0, 0,  ..., 0, 0, 1], dtype=torch.uint8)"
            ]
          },
          "metadata": {
            "tags": []
          },
          "execution_count": 11
        }
      ]
    },
    {
      "cell_type": "code",
      "metadata": {
        "id": "FPWA6xkL8sKA",
        "colab_type": "code",
        "colab": {
          "base_uri": "https://localhost:8080/",
          "height": 35
        },
        "outputId": "d94f83ae-8ea1-4bb5-d755-2d63bc487ca0"
      },
      "source": [
        "db.shape"
      ],
      "execution_count": 12,
      "outputs": [
        {
          "output_type": "execute_result",
          "data": {
            "text/plain": [
              "torch.Size([5000])"
            ]
          },
          "metadata": {
            "tags": []
          },
          "execution_count": 12
        }
      ]
    },
    {
      "cell_type": "code",
      "metadata": {
        "id": "Nr8uAtn5CVy9",
        "colab_type": "code",
        "colab": {
          "base_uri": "https://localhost:8080/",
          "height": 35
        },
        "outputId": "db09091f-a552-420b-ec5b-e7a8e0ce6fa1"
      },
      "source": [
        "db[0:5]"
      ],
      "execution_count": 14,
      "outputs": [
        {
          "output_type": "execute_result",
          "data": {
            "text/plain": [
              "tensor([0, 0, 0, 1, 1], dtype=torch.uint8)"
            ]
          },
          "metadata": {
            "tags": []
          },
          "execution_count": 14
        }
      ]
    },
    {
      "cell_type": "code",
      "metadata": {
        "id": "pzKK4tbx8wls",
        "colab_type": "code",
        "colab": {}
      },
      "source": [
        "remove_index = 2"
      ],
      "execution_count": 0,
      "outputs": []
    },
    {
      "cell_type": "code",
      "metadata": {
        "id": "UCM6ZNq5853r",
        "colab_type": "code",
        "colab": {
          "base_uri": "https://localhost:8080/",
          "height": 35
        },
        "outputId": "92450dcf-c03a-4b09-de5f-b6e96f9a9439"
      },
      "source": [
        "db[0:2]"
      ],
      "execution_count": 15,
      "outputs": [
        {
          "output_type": "execute_result",
          "data": {
            "text/plain": [
              "tensor([0, 0], dtype=torch.uint8)"
            ]
          },
          "metadata": {
            "tags": []
          },
          "execution_count": 15
        }
      ]
    },
    {
      "cell_type": "code",
      "metadata": {
        "id": "fEDQAu0ZCdxV",
        "colab_type": "code",
        "colab": {
          "base_uri": "https://localhost:8080/",
          "height": 35
        },
        "outputId": "0095f1b0-613a-4ac2-d84f-bb09eb86dd3a"
      },
      "source": [
        "db[3:]"
      ],
      "execution_count": 16,
      "outputs": [
        {
          "output_type": "execute_result",
          "data": {
            "text/plain": [
              "tensor([1, 1, 1,  ..., 0, 0, 1], dtype=torch.uint8)"
            ]
          },
          "metadata": {
            "tags": []
          },
          "execution_count": 16
        }
      ]
    },
    {
      "cell_type": "code",
      "metadata": {
        "id": "WXdOJbXtDedu",
        "colab_type": "code",
        "colab": {}
      },
      "source": [
        "#torch.cat((db[0:2], db[0:3]))[0:5]\n",
        "def get_parallel_db(db, remove_index):\n",
        "  return torch.cat((db[0:remove_index], db[remove_index+1:]))\n",
        "  \n",
        "  "
      ],
      "execution_count": 0,
      "outputs": []
    },
    {
      "cell_type": "code",
      "metadata": {
        "id": "ms9SzJ8uDsh2",
        "colab_type": "code",
        "colab": {
          "base_uri": "https://localhost:8080/",
          "height": 35
        },
        "outputId": "1b32dd55-58ed-4c1e-eb78-e2bde5794b18"
      },
      "source": [
        "get_parallel_db(db,3)[0:5]"
      ],
      "execution_count": 21,
      "outputs": [
        {
          "output_type": "execute_result",
          "data": {
            "text/plain": [
              "tensor([0, 0, 0, 1, 1], dtype=torch.uint8)"
            ]
          },
          "metadata": {
            "tags": []
          },
          "execution_count": 21
        }
      ]
    },
    {
      "cell_type": "code",
      "metadata": {
        "id": "tYiy_ogPFOG6",
        "colab_type": "code",
        "colab": {}
      },
      "source": [
        ""
      ],
      "execution_count": 0,
      "outputs": []
    },
    {
      "cell_type": "code",
      "metadata": {
        "id": "5AazszxbFs-_",
        "colab_type": "code",
        "colab": {}
      },
      "source": [
        "def get_parallel_dbs(db):\n",
        "  parallel_dbs = list()\n",
        "  \n",
        "  for i in range(len(db)):\n",
        "    pdb= get_parallel_db(db,i)\n",
        "    parallel_dbs.append(pdb)\n",
        "  return parallel_dbs"
      ],
      "execution_count": 0,
      "outputs": []
    },
    {
      "cell_type": "code",
      "metadata": {
        "id": "6tYy3N14GLO_",
        "colab_type": "code",
        "colab": {
          "base_uri": "https://localhost:8080/",
          "height": 35
        },
        "outputId": "3a625221-7e9d-438b-a6ca-fbcbe8cc7b66"
      },
      "source": [
        "len(parallel_dbs)"
      ],
      "execution_count": 24,
      "outputs": [
        {
          "output_type": "execute_result",
          "data": {
            "text/plain": [
              "5000"
            ]
          },
          "metadata": {
            "tags": []
          },
          "execution_count": 24
        }
      ]
    },
    {
      "cell_type": "code",
      "metadata": {
        "id": "6rv8oiD6GRVF",
        "colab_type": "code",
        "colab": {}
      },
      "source": [
        "pdbs = get_parallel_dbs(db)"
      ],
      "execution_count": 0,
      "outputs": []
    },
    {
      "cell_type": "code",
      "metadata": {
        "id": "_s75cU-rG9DV",
        "colab_type": "code",
        "colab": {
          "base_uri": "https://localhost:8080/",
          "height": 1000
        },
        "outputId": "273ef05c-4d51-47e7-eff9-bfe802ef6655"
      },
      "source": [
        "pdbs"
      ],
      "execution_count": 27,
      "outputs": [
        {
          "output_type": "execute_result",
          "data": {
            "text/plain": [
              "[tensor([0, 0, 1,  ..., 0, 0, 1], dtype=torch.uint8),\n",
              " tensor([0, 0, 1,  ..., 0, 0, 1], dtype=torch.uint8),\n",
              " tensor([0, 0, 1,  ..., 0, 0, 1], dtype=torch.uint8),\n",
              " tensor([0, 0, 0,  ..., 0, 0, 1], dtype=torch.uint8),\n",
              " tensor([0, 0, 0,  ..., 0, 0, 1], dtype=torch.uint8),\n",
              " tensor([0, 0, 0,  ..., 0, 0, 1], dtype=torch.uint8),\n",
              " tensor([0, 0, 0,  ..., 0, 0, 1], dtype=torch.uint8),\n",
              " tensor([0, 0, 0,  ..., 0, 0, 1], dtype=torch.uint8),\n",
              " tensor([0, 0, 0,  ..., 0, 0, 1], dtype=torch.uint8),\n",
              " tensor([0, 0, 0,  ..., 0, 0, 1], dtype=torch.uint8),\n",
              " tensor([0, 0, 0,  ..., 0, 0, 1], dtype=torch.uint8),\n",
              " tensor([0, 0, 0,  ..., 0, 0, 1], dtype=torch.uint8),\n",
              " tensor([0, 0, 0,  ..., 0, 0, 1], dtype=torch.uint8),\n",
              " tensor([0, 0, 0,  ..., 0, 0, 1], dtype=torch.uint8),\n",
              " tensor([0, 0, 0,  ..., 0, 0, 1], dtype=torch.uint8),\n",
              " tensor([0, 0, 0,  ..., 0, 0, 1], dtype=torch.uint8),\n",
              " tensor([0, 0, 0,  ..., 0, 0, 1], dtype=torch.uint8),\n",
              " tensor([0, 0, 0,  ..., 0, 0, 1], dtype=torch.uint8),\n",
              " tensor([0, 0, 0,  ..., 0, 0, 1], dtype=torch.uint8),\n",
              " tensor([0, 0, 0,  ..., 0, 0, 1], dtype=torch.uint8),\n",
              " tensor([0, 0, 0,  ..., 0, 0, 1], dtype=torch.uint8),\n",
              " tensor([0, 0, 0,  ..., 0, 0, 1], dtype=torch.uint8),\n",
              " tensor([0, 0, 0,  ..., 0, 0, 1], dtype=torch.uint8),\n",
              " tensor([0, 0, 0,  ..., 0, 0, 1], dtype=torch.uint8),\n",
              " tensor([0, 0, 0,  ..., 0, 0, 1], dtype=torch.uint8),\n",
              " tensor([0, 0, 0,  ..., 0, 0, 1], dtype=torch.uint8),\n",
              " tensor([0, 0, 0,  ..., 0, 0, 1], dtype=torch.uint8),\n",
              " tensor([0, 0, 0,  ..., 0, 0, 1], dtype=torch.uint8),\n",
              " tensor([0, 0, 0,  ..., 0, 0, 1], dtype=torch.uint8),\n",
              " tensor([0, 0, 0,  ..., 0, 0, 1], dtype=torch.uint8),\n",
              " tensor([0, 0, 0,  ..., 0, 0, 1], dtype=torch.uint8),\n",
              " tensor([0, 0, 0,  ..., 0, 0, 1], dtype=torch.uint8),\n",
              " tensor([0, 0, 0,  ..., 0, 0, 1], dtype=torch.uint8),\n",
              " tensor([0, 0, 0,  ..., 0, 0, 1], dtype=torch.uint8),\n",
              " tensor([0, 0, 0,  ..., 0, 0, 1], dtype=torch.uint8),\n",
              " tensor([0, 0, 0,  ..., 0, 0, 1], dtype=torch.uint8),\n",
              " tensor([0, 0, 0,  ..., 0, 0, 1], dtype=torch.uint8),\n",
              " tensor([0, 0, 0,  ..., 0, 0, 1], dtype=torch.uint8),\n",
              " tensor([0, 0, 0,  ..., 0, 0, 1], dtype=torch.uint8),\n",
              " tensor([0, 0, 0,  ..., 0, 0, 1], dtype=torch.uint8),\n",
              " tensor([0, 0, 0,  ..., 0, 0, 1], dtype=torch.uint8),\n",
              " tensor([0, 0, 0,  ..., 0, 0, 1], dtype=torch.uint8),\n",
              " tensor([0, 0, 0,  ..., 0, 0, 1], dtype=torch.uint8),\n",
              " tensor([0, 0, 0,  ..., 0, 0, 1], dtype=torch.uint8),\n",
              " tensor([0, 0, 0,  ..., 0, 0, 1], dtype=torch.uint8),\n",
              " tensor([0, 0, 0,  ..., 0, 0, 1], dtype=torch.uint8),\n",
              " tensor([0, 0, 0,  ..., 0, 0, 1], dtype=torch.uint8),\n",
              " tensor([0, 0, 0,  ..., 0, 0, 1], dtype=torch.uint8),\n",
              " tensor([0, 0, 0,  ..., 0, 0, 1], dtype=torch.uint8),\n",
              " tensor([0, 0, 0,  ..., 0, 0, 1], dtype=torch.uint8),\n",
              " tensor([0, 0, 0,  ..., 0, 0, 1], dtype=torch.uint8),\n",
              " tensor([0, 0, 0,  ..., 0, 0, 1], dtype=torch.uint8),\n",
              " tensor([0, 0, 0,  ..., 0, 0, 1], dtype=torch.uint8),\n",
              " tensor([0, 0, 0,  ..., 0, 0, 1], dtype=torch.uint8),\n",
              " tensor([0, 0, 0,  ..., 0, 0, 1], dtype=torch.uint8),\n",
              " tensor([0, 0, 0,  ..., 0, 0, 1], dtype=torch.uint8),\n",
              " tensor([0, 0, 0,  ..., 0, 0, 1], dtype=torch.uint8),\n",
              " tensor([0, 0, 0,  ..., 0, 0, 1], dtype=torch.uint8),\n",
              " tensor([0, 0, 0,  ..., 0, 0, 1], dtype=torch.uint8),\n",
              " tensor([0, 0, 0,  ..., 0, 0, 1], dtype=torch.uint8),\n",
              " tensor([0, 0, 0,  ..., 0, 0, 1], dtype=torch.uint8),\n",
              " tensor([0, 0, 0,  ..., 0, 0, 1], dtype=torch.uint8),\n",
              " tensor([0, 0, 0,  ..., 0, 0, 1], dtype=torch.uint8),\n",
              " tensor([0, 0, 0,  ..., 0, 0, 1], dtype=torch.uint8),\n",
              " tensor([0, 0, 0,  ..., 0, 0, 1], dtype=torch.uint8),\n",
              " tensor([0, 0, 0,  ..., 0, 0, 1], dtype=torch.uint8),\n",
              " tensor([0, 0, 0,  ..., 0, 0, 1], dtype=torch.uint8),\n",
              " tensor([0, 0, 0,  ..., 0, 0, 1], dtype=torch.uint8),\n",
              " tensor([0, 0, 0,  ..., 0, 0, 1], dtype=torch.uint8),\n",
              " tensor([0, 0, 0,  ..., 0, 0, 1], dtype=torch.uint8),\n",
              " tensor([0, 0, 0,  ..., 0, 0, 1], dtype=torch.uint8),\n",
              " tensor([0, 0, 0,  ..., 0, 0, 1], dtype=torch.uint8),\n",
              " tensor([0, 0, 0,  ..., 0, 0, 1], dtype=torch.uint8),\n",
              " tensor([0, 0, 0,  ..., 0, 0, 1], dtype=torch.uint8),\n",
              " tensor([0, 0, 0,  ..., 0, 0, 1], dtype=torch.uint8),\n",
              " tensor([0, 0, 0,  ..., 0, 0, 1], dtype=torch.uint8),\n",
              " tensor([0, 0, 0,  ..., 0, 0, 1], dtype=torch.uint8),\n",
              " tensor([0, 0, 0,  ..., 0, 0, 1], dtype=torch.uint8),\n",
              " tensor([0, 0, 0,  ..., 0, 0, 1], dtype=torch.uint8),\n",
              " tensor([0, 0, 0,  ..., 0, 0, 1], dtype=torch.uint8),\n",
              " tensor([0, 0, 0,  ..., 0, 0, 1], dtype=torch.uint8),\n",
              " tensor([0, 0, 0,  ..., 0, 0, 1], dtype=torch.uint8),\n",
              " tensor([0, 0, 0,  ..., 0, 0, 1], dtype=torch.uint8),\n",
              " tensor([0, 0, 0,  ..., 0, 0, 1], dtype=torch.uint8),\n",
              " tensor([0, 0, 0,  ..., 0, 0, 1], dtype=torch.uint8),\n",
              " tensor([0, 0, 0,  ..., 0, 0, 1], dtype=torch.uint8),\n",
              " tensor([0, 0, 0,  ..., 0, 0, 1], dtype=torch.uint8),\n",
              " tensor([0, 0, 0,  ..., 0, 0, 1], dtype=torch.uint8),\n",
              " tensor([0, 0, 0,  ..., 0, 0, 1], dtype=torch.uint8),\n",
              " tensor([0, 0, 0,  ..., 0, 0, 1], dtype=torch.uint8),\n",
              " tensor([0, 0, 0,  ..., 0, 0, 1], dtype=torch.uint8),\n",
              " tensor([0, 0, 0,  ..., 0, 0, 1], dtype=torch.uint8),\n",
              " tensor([0, 0, 0,  ..., 0, 0, 1], dtype=torch.uint8),\n",
              " tensor([0, 0, 0,  ..., 0, 0, 1], dtype=torch.uint8),\n",
              " tensor([0, 0, 0,  ..., 0, 0, 1], dtype=torch.uint8),\n",
              " tensor([0, 0, 0,  ..., 0, 0, 1], dtype=torch.uint8),\n",
              " tensor([0, 0, 0,  ..., 0, 0, 1], dtype=torch.uint8),\n",
              " tensor([0, 0, 0,  ..., 0, 0, 1], dtype=torch.uint8),\n",
              " tensor([0, 0, 0,  ..., 0, 0, 1], dtype=torch.uint8),\n",
              " tensor([0, 0, 0,  ..., 0, 0, 1], dtype=torch.uint8),\n",
              " tensor([0, 0, 0,  ..., 0, 0, 1], dtype=torch.uint8),\n",
              " tensor([0, 0, 0,  ..., 0, 0, 1], dtype=torch.uint8),\n",
              " tensor([0, 0, 0,  ..., 0, 0, 1], dtype=torch.uint8),\n",
              " tensor([0, 0, 0,  ..., 0, 0, 1], dtype=torch.uint8),\n",
              " tensor([0, 0, 0,  ..., 0, 0, 1], dtype=torch.uint8),\n",
              " tensor([0, 0, 0,  ..., 0, 0, 1], dtype=torch.uint8),\n",
              " tensor([0, 0, 0,  ..., 0, 0, 1], dtype=torch.uint8),\n",
              " tensor([0, 0, 0,  ..., 0, 0, 1], dtype=torch.uint8),\n",
              " tensor([0, 0, 0,  ..., 0, 0, 1], dtype=torch.uint8),\n",
              " tensor([0, 0, 0,  ..., 0, 0, 1], dtype=torch.uint8),\n",
              " tensor([0, 0, 0,  ..., 0, 0, 1], dtype=torch.uint8),\n",
              " tensor([0, 0, 0,  ..., 0, 0, 1], dtype=torch.uint8),\n",
              " tensor([0, 0, 0,  ..., 0, 0, 1], dtype=torch.uint8),\n",
              " tensor([0, 0, 0,  ..., 0, 0, 1], dtype=torch.uint8),\n",
              " tensor([0, 0, 0,  ..., 0, 0, 1], dtype=torch.uint8),\n",
              " tensor([0, 0, 0,  ..., 0, 0, 1], dtype=torch.uint8),\n",
              " tensor([0, 0, 0,  ..., 0, 0, 1], dtype=torch.uint8),\n",
              " tensor([0, 0, 0,  ..., 0, 0, 1], dtype=torch.uint8),\n",
              " tensor([0, 0, 0,  ..., 0, 0, 1], dtype=torch.uint8),\n",
              " tensor([0, 0, 0,  ..., 0, 0, 1], dtype=torch.uint8),\n",
              " tensor([0, 0, 0,  ..., 0, 0, 1], dtype=torch.uint8),\n",
              " tensor([0, 0, 0,  ..., 0, 0, 1], dtype=torch.uint8),\n",
              " tensor([0, 0, 0,  ..., 0, 0, 1], dtype=torch.uint8),\n",
              " tensor([0, 0, 0,  ..., 0, 0, 1], dtype=torch.uint8),\n",
              " tensor([0, 0, 0,  ..., 0, 0, 1], dtype=torch.uint8),\n",
              " tensor([0, 0, 0,  ..., 0, 0, 1], dtype=torch.uint8),\n",
              " tensor([0, 0, 0,  ..., 0, 0, 1], dtype=torch.uint8),\n",
              " tensor([0, 0, 0,  ..., 0, 0, 1], dtype=torch.uint8),\n",
              " tensor([0, 0, 0,  ..., 0, 0, 1], dtype=torch.uint8),\n",
              " tensor([0, 0, 0,  ..., 0, 0, 1], dtype=torch.uint8),\n",
              " tensor([0, 0, 0,  ..., 0, 0, 1], dtype=torch.uint8),\n",
              " tensor([0, 0, 0,  ..., 0, 0, 1], dtype=torch.uint8),\n",
              " tensor([0, 0, 0,  ..., 0, 0, 1], dtype=torch.uint8),\n",
              " tensor([0, 0, 0,  ..., 0, 0, 1], dtype=torch.uint8),\n",
              " tensor([0, 0, 0,  ..., 0, 0, 1], dtype=torch.uint8),\n",
              " tensor([0, 0, 0,  ..., 0, 0, 1], dtype=torch.uint8),\n",
              " tensor([0, 0, 0,  ..., 0, 0, 1], dtype=torch.uint8),\n",
              " tensor([0, 0, 0,  ..., 0, 0, 1], dtype=torch.uint8),\n",
              " tensor([0, 0, 0,  ..., 0, 0, 1], dtype=torch.uint8),\n",
              " tensor([0, 0, 0,  ..., 0, 0, 1], dtype=torch.uint8),\n",
              " tensor([0, 0, 0,  ..., 0, 0, 1], dtype=torch.uint8),\n",
              " tensor([0, 0, 0,  ..., 0, 0, 1], dtype=torch.uint8),\n",
              " tensor([0, 0, 0,  ..., 0, 0, 1], dtype=torch.uint8),\n",
              " tensor([0, 0, 0,  ..., 0, 0, 1], dtype=torch.uint8),\n",
              " tensor([0, 0, 0,  ..., 0, 0, 1], dtype=torch.uint8),\n",
              " tensor([0, 0, 0,  ..., 0, 0, 1], dtype=torch.uint8),\n",
              " tensor([0, 0, 0,  ..., 0, 0, 1], dtype=torch.uint8),\n",
              " tensor([0, 0, 0,  ..., 0, 0, 1], dtype=torch.uint8),\n",
              " tensor([0, 0, 0,  ..., 0, 0, 1], dtype=torch.uint8),\n",
              " tensor([0, 0, 0,  ..., 0, 0, 1], dtype=torch.uint8),\n",
              " tensor([0, 0, 0,  ..., 0, 0, 1], dtype=torch.uint8),\n",
              " tensor([0, 0, 0,  ..., 0, 0, 1], dtype=torch.uint8),\n",
              " tensor([0, 0, 0,  ..., 0, 0, 1], dtype=torch.uint8),\n",
              " tensor([0, 0, 0,  ..., 0, 0, 1], dtype=torch.uint8),\n",
              " tensor([0, 0, 0,  ..., 0, 0, 1], dtype=torch.uint8),\n",
              " tensor([0, 0, 0,  ..., 0, 0, 1], dtype=torch.uint8),\n",
              " tensor([0, 0, 0,  ..., 0, 0, 1], dtype=torch.uint8),\n",
              " tensor([0, 0, 0,  ..., 0, 0, 1], dtype=torch.uint8),\n",
              " tensor([0, 0, 0,  ..., 0, 0, 1], dtype=torch.uint8),\n",
              " tensor([0, 0, 0,  ..., 0, 0, 1], dtype=torch.uint8),\n",
              " tensor([0, 0, 0,  ..., 0, 0, 1], dtype=torch.uint8),\n",
              " tensor([0, 0, 0,  ..., 0, 0, 1], dtype=torch.uint8),\n",
              " tensor([0, 0, 0,  ..., 0, 0, 1], dtype=torch.uint8),\n",
              " tensor([0, 0, 0,  ..., 0, 0, 1], dtype=torch.uint8),\n",
              " tensor([0, 0, 0,  ..., 0, 0, 1], dtype=torch.uint8),\n",
              " tensor([0, 0, 0,  ..., 0, 0, 1], dtype=torch.uint8),\n",
              " tensor([0, 0, 0,  ..., 0, 0, 1], dtype=torch.uint8),\n",
              " tensor([0, 0, 0,  ..., 0, 0, 1], dtype=torch.uint8),\n",
              " tensor([0, 0, 0,  ..., 0, 0, 1], dtype=torch.uint8),\n",
              " tensor([0, 0, 0,  ..., 0, 0, 1], dtype=torch.uint8),\n",
              " tensor([0, 0, 0,  ..., 0, 0, 1], dtype=torch.uint8),\n",
              " tensor([0, 0, 0,  ..., 0, 0, 1], dtype=torch.uint8),\n",
              " tensor([0, 0, 0,  ..., 0, 0, 1], dtype=torch.uint8),\n",
              " tensor([0, 0, 0,  ..., 0, 0, 1], dtype=torch.uint8),\n",
              " tensor([0, 0, 0,  ..., 0, 0, 1], dtype=torch.uint8),\n",
              " tensor([0, 0, 0,  ..., 0, 0, 1], dtype=torch.uint8),\n",
              " tensor([0, 0, 0,  ..., 0, 0, 1], dtype=torch.uint8),\n",
              " tensor([0, 0, 0,  ..., 0, 0, 1], dtype=torch.uint8),\n",
              " tensor([0, 0, 0,  ..., 0, 0, 1], dtype=torch.uint8),\n",
              " tensor([0, 0, 0,  ..., 0, 0, 1], dtype=torch.uint8),\n",
              " tensor([0, 0, 0,  ..., 0, 0, 1], dtype=torch.uint8),\n",
              " tensor([0, 0, 0,  ..., 0, 0, 1], dtype=torch.uint8),\n",
              " tensor([0, 0, 0,  ..., 0, 0, 1], dtype=torch.uint8),\n",
              " tensor([0, 0, 0,  ..., 0, 0, 1], dtype=torch.uint8),\n",
              " tensor([0, 0, 0,  ..., 0, 0, 1], dtype=torch.uint8),\n",
              " tensor([0, 0, 0,  ..., 0, 0, 1], dtype=torch.uint8),\n",
              " tensor([0, 0, 0,  ..., 0, 0, 1], dtype=torch.uint8),\n",
              " tensor([0, 0, 0,  ..., 0, 0, 1], dtype=torch.uint8),\n",
              " tensor([0, 0, 0,  ..., 0, 0, 1], dtype=torch.uint8),\n",
              " tensor([0, 0, 0,  ..., 0, 0, 1], dtype=torch.uint8),\n",
              " tensor([0, 0, 0,  ..., 0, 0, 1], dtype=torch.uint8),\n",
              " tensor([0, 0, 0,  ..., 0, 0, 1], dtype=torch.uint8),\n",
              " tensor([0, 0, 0,  ..., 0, 0, 1], dtype=torch.uint8),\n",
              " tensor([0, 0, 0,  ..., 0, 0, 1], dtype=torch.uint8),\n",
              " tensor([0, 0, 0,  ..., 0, 0, 1], dtype=torch.uint8),\n",
              " tensor([0, 0, 0,  ..., 0, 0, 1], dtype=torch.uint8),\n",
              " tensor([0, 0, 0,  ..., 0, 0, 1], dtype=torch.uint8),\n",
              " tensor([0, 0, 0,  ..., 0, 0, 1], dtype=torch.uint8),\n",
              " tensor([0, 0, 0,  ..., 0, 0, 1], dtype=torch.uint8),\n",
              " tensor([0, 0, 0,  ..., 0, 0, 1], dtype=torch.uint8),\n",
              " tensor([0, 0, 0,  ..., 0, 0, 1], dtype=torch.uint8),\n",
              " tensor([0, 0, 0,  ..., 0, 0, 1], dtype=torch.uint8),\n",
              " tensor([0, 0, 0,  ..., 0, 0, 1], dtype=torch.uint8),\n",
              " tensor([0, 0, 0,  ..., 0, 0, 1], dtype=torch.uint8),\n",
              " tensor([0, 0, 0,  ..., 0, 0, 1], dtype=torch.uint8),\n",
              " tensor([0, 0, 0,  ..., 0, 0, 1], dtype=torch.uint8),\n",
              " tensor([0, 0, 0,  ..., 0, 0, 1], dtype=torch.uint8),\n",
              " tensor([0, 0, 0,  ..., 0, 0, 1], dtype=torch.uint8),\n",
              " tensor([0, 0, 0,  ..., 0, 0, 1], dtype=torch.uint8),\n",
              " tensor([0, 0, 0,  ..., 0, 0, 1], dtype=torch.uint8),\n",
              " tensor([0, 0, 0,  ..., 0, 0, 1], dtype=torch.uint8),\n",
              " tensor([0, 0, 0,  ..., 0, 0, 1], dtype=torch.uint8),\n",
              " tensor([0, 0, 0,  ..., 0, 0, 1], dtype=torch.uint8),\n",
              " tensor([0, 0, 0,  ..., 0, 0, 1], dtype=torch.uint8),\n",
              " tensor([0, 0, 0,  ..., 0, 0, 1], dtype=torch.uint8),\n",
              " tensor([0, 0, 0,  ..., 0, 0, 1], dtype=torch.uint8),\n",
              " tensor([0, 0, 0,  ..., 0, 0, 1], dtype=torch.uint8),\n",
              " tensor([0, 0, 0,  ..., 0, 0, 1], dtype=torch.uint8),\n",
              " tensor([0, 0, 0,  ..., 0, 0, 1], dtype=torch.uint8),\n",
              " tensor([0, 0, 0,  ..., 0, 0, 1], dtype=torch.uint8),\n",
              " tensor([0, 0, 0,  ..., 0, 0, 1], dtype=torch.uint8),\n",
              " tensor([0, 0, 0,  ..., 0, 0, 1], dtype=torch.uint8),\n",
              " tensor([0, 0, 0,  ..., 0, 0, 1], dtype=torch.uint8),\n",
              " tensor([0, 0, 0,  ..., 0, 0, 1], dtype=torch.uint8),\n",
              " tensor([0, 0, 0,  ..., 0, 0, 1], dtype=torch.uint8),\n",
              " tensor([0, 0, 0,  ..., 0, 0, 1], dtype=torch.uint8),\n",
              " tensor([0, 0, 0,  ..., 0, 0, 1], dtype=torch.uint8),\n",
              " tensor([0, 0, 0,  ..., 0, 0, 1], dtype=torch.uint8),\n",
              " tensor([0, 0, 0,  ..., 0, 0, 1], dtype=torch.uint8),\n",
              " tensor([0, 0, 0,  ..., 0, 0, 1], dtype=torch.uint8),\n",
              " tensor([0, 0, 0,  ..., 0, 0, 1], dtype=torch.uint8),\n",
              " tensor([0, 0, 0,  ..., 0, 0, 1], dtype=torch.uint8),\n",
              " tensor([0, 0, 0,  ..., 0, 0, 1], dtype=torch.uint8),\n",
              " tensor([0, 0, 0,  ..., 0, 0, 1], dtype=torch.uint8),\n",
              " tensor([0, 0, 0,  ..., 0, 0, 1], dtype=torch.uint8),\n",
              " tensor([0, 0, 0,  ..., 0, 0, 1], dtype=torch.uint8),\n",
              " tensor([0, 0, 0,  ..., 0, 0, 1], dtype=torch.uint8),\n",
              " tensor([0, 0, 0,  ..., 0, 0, 1], dtype=torch.uint8),\n",
              " tensor([0, 0, 0,  ..., 0, 0, 1], dtype=torch.uint8),\n",
              " tensor([0, 0, 0,  ..., 0, 0, 1], dtype=torch.uint8),\n",
              " tensor([0, 0, 0,  ..., 0, 0, 1], dtype=torch.uint8),\n",
              " tensor([0, 0, 0,  ..., 0, 0, 1], dtype=torch.uint8),\n",
              " tensor([0, 0, 0,  ..., 0, 0, 1], dtype=torch.uint8),\n",
              " tensor([0, 0, 0,  ..., 0, 0, 1], dtype=torch.uint8),\n",
              " tensor([0, 0, 0,  ..., 0, 0, 1], dtype=torch.uint8),\n",
              " tensor([0, 0, 0,  ..., 0, 0, 1], dtype=torch.uint8),\n",
              " tensor([0, 0, 0,  ..., 0, 0, 1], dtype=torch.uint8),\n",
              " tensor([0, 0, 0,  ..., 0, 0, 1], dtype=torch.uint8),\n",
              " tensor([0, 0, 0,  ..., 0, 0, 1], dtype=torch.uint8),\n",
              " tensor([0, 0, 0,  ..., 0, 0, 1], dtype=torch.uint8),\n",
              " tensor([0, 0, 0,  ..., 0, 0, 1], dtype=torch.uint8),\n",
              " tensor([0, 0, 0,  ..., 0, 0, 1], dtype=torch.uint8),\n",
              " tensor([0, 0, 0,  ..., 0, 0, 1], dtype=torch.uint8),\n",
              " tensor([0, 0, 0,  ..., 0, 0, 1], dtype=torch.uint8),\n",
              " tensor([0, 0, 0,  ..., 0, 0, 1], dtype=torch.uint8),\n",
              " tensor([0, 0, 0,  ..., 0, 0, 1], dtype=torch.uint8),\n",
              " tensor([0, 0, 0,  ..., 0, 0, 1], dtype=torch.uint8),\n",
              " tensor([0, 0, 0,  ..., 0, 0, 1], dtype=torch.uint8),\n",
              " tensor([0, 0, 0,  ..., 0, 0, 1], dtype=torch.uint8),\n",
              " tensor([0, 0, 0,  ..., 0, 0, 1], dtype=torch.uint8),\n",
              " tensor([0, 0, 0,  ..., 0, 0, 1], dtype=torch.uint8),\n",
              " tensor([0, 0, 0,  ..., 0, 0, 1], dtype=torch.uint8),\n",
              " tensor([0, 0, 0,  ..., 0, 0, 1], dtype=torch.uint8),\n",
              " tensor([0, 0, 0,  ..., 0, 0, 1], dtype=torch.uint8),\n",
              " tensor([0, 0, 0,  ..., 0, 0, 1], dtype=torch.uint8),\n",
              " tensor([0, 0, 0,  ..., 0, 0, 1], dtype=torch.uint8),\n",
              " tensor([0, 0, 0,  ..., 0, 0, 1], dtype=torch.uint8),\n",
              " tensor([0, 0, 0,  ..., 0, 0, 1], dtype=torch.uint8),\n",
              " tensor([0, 0, 0,  ..., 0, 0, 1], dtype=torch.uint8),\n",
              " tensor([0, 0, 0,  ..., 0, 0, 1], dtype=torch.uint8),\n",
              " tensor([0, 0, 0,  ..., 0, 0, 1], dtype=torch.uint8),\n",
              " tensor([0, 0, 0,  ..., 0, 0, 1], dtype=torch.uint8),\n",
              " tensor([0, 0, 0,  ..., 0, 0, 1], dtype=torch.uint8),\n",
              " tensor([0, 0, 0,  ..., 0, 0, 1], dtype=torch.uint8),\n",
              " tensor([0, 0, 0,  ..., 0, 0, 1], dtype=torch.uint8),\n",
              " tensor([0, 0, 0,  ..., 0, 0, 1], dtype=torch.uint8),\n",
              " tensor([0, 0, 0,  ..., 0, 0, 1], dtype=torch.uint8),\n",
              " tensor([0, 0, 0,  ..., 0, 0, 1], dtype=torch.uint8),\n",
              " tensor([0, 0, 0,  ..., 0, 0, 1], dtype=torch.uint8),\n",
              " tensor([0, 0, 0,  ..., 0, 0, 1], dtype=torch.uint8),\n",
              " tensor([0, 0, 0,  ..., 0, 0, 1], dtype=torch.uint8),\n",
              " tensor([0, 0, 0,  ..., 0, 0, 1], dtype=torch.uint8),\n",
              " tensor([0, 0, 0,  ..., 0, 0, 1], dtype=torch.uint8),\n",
              " tensor([0, 0, 0,  ..., 0, 0, 1], dtype=torch.uint8),\n",
              " tensor([0, 0, 0,  ..., 0, 0, 1], dtype=torch.uint8),\n",
              " tensor([0, 0, 0,  ..., 0, 0, 1], dtype=torch.uint8),\n",
              " tensor([0, 0, 0,  ..., 0, 0, 1], dtype=torch.uint8),\n",
              " tensor([0, 0, 0,  ..., 0, 0, 1], dtype=torch.uint8),\n",
              " tensor([0, 0, 0,  ..., 0, 0, 1], dtype=torch.uint8),\n",
              " tensor([0, 0, 0,  ..., 0, 0, 1], dtype=torch.uint8),\n",
              " tensor([0, 0, 0,  ..., 0, 0, 1], dtype=torch.uint8),\n",
              " tensor([0, 0, 0,  ..., 0, 0, 1], dtype=torch.uint8),\n",
              " tensor([0, 0, 0,  ..., 0, 0, 1], dtype=torch.uint8),\n",
              " tensor([0, 0, 0,  ..., 0, 0, 1], dtype=torch.uint8),\n",
              " tensor([0, 0, 0,  ..., 0, 0, 1], dtype=torch.uint8),\n",
              " tensor([0, 0, 0,  ..., 0, 0, 1], dtype=torch.uint8),\n",
              " tensor([0, 0, 0,  ..., 0, 0, 1], dtype=torch.uint8),\n",
              " tensor([0, 0, 0,  ..., 0, 0, 1], dtype=torch.uint8),\n",
              " tensor([0, 0, 0,  ..., 0, 0, 1], dtype=torch.uint8),\n",
              " tensor([0, 0, 0,  ..., 0, 0, 1], dtype=torch.uint8),\n",
              " tensor([0, 0, 0,  ..., 0, 0, 1], dtype=torch.uint8),\n",
              " tensor([0, 0, 0,  ..., 0, 0, 1], dtype=torch.uint8),\n",
              " tensor([0, 0, 0,  ..., 0, 0, 1], dtype=torch.uint8),\n",
              " tensor([0, 0, 0,  ..., 0, 0, 1], dtype=torch.uint8),\n",
              " tensor([0, 0, 0,  ..., 0, 0, 1], dtype=torch.uint8),\n",
              " tensor([0, 0, 0,  ..., 0, 0, 1], dtype=torch.uint8),\n",
              " tensor([0, 0, 0,  ..., 0, 0, 1], dtype=torch.uint8),\n",
              " tensor([0, 0, 0,  ..., 0, 0, 1], dtype=torch.uint8),\n",
              " tensor([0, 0, 0,  ..., 0, 0, 1], dtype=torch.uint8),\n",
              " tensor([0, 0, 0,  ..., 0, 0, 1], dtype=torch.uint8),\n",
              " tensor([0, 0, 0,  ..., 0, 0, 1], dtype=torch.uint8),\n",
              " tensor([0, 0, 0,  ..., 0, 0, 1], dtype=torch.uint8),\n",
              " tensor([0, 0, 0,  ..., 0, 0, 1], dtype=torch.uint8),\n",
              " tensor([0, 0, 0,  ..., 0, 0, 1], dtype=torch.uint8),\n",
              " tensor([0, 0, 0,  ..., 0, 0, 1], dtype=torch.uint8),\n",
              " tensor([0, 0, 0,  ..., 0, 0, 1], dtype=torch.uint8),\n",
              " tensor([0, 0, 0,  ..., 0, 0, 1], dtype=torch.uint8),\n",
              " tensor([0, 0, 0,  ..., 0, 0, 1], dtype=torch.uint8),\n",
              " tensor([0, 0, 0,  ..., 0, 0, 1], dtype=torch.uint8),\n",
              " tensor([0, 0, 0,  ..., 0, 0, 1], dtype=torch.uint8),\n",
              " tensor([0, 0, 0,  ..., 0, 0, 1], dtype=torch.uint8),\n",
              " tensor([0, 0, 0,  ..., 0, 0, 1], dtype=torch.uint8),\n",
              " tensor([0, 0, 0,  ..., 0, 0, 1], dtype=torch.uint8),\n",
              " tensor([0, 0, 0,  ..., 0, 0, 1], dtype=torch.uint8),\n",
              " tensor([0, 0, 0,  ..., 0, 0, 1], dtype=torch.uint8),\n",
              " tensor([0, 0, 0,  ..., 0, 0, 1], dtype=torch.uint8),\n",
              " tensor([0, 0, 0,  ..., 0, 0, 1], dtype=torch.uint8),\n",
              " tensor([0, 0, 0,  ..., 0, 0, 1], dtype=torch.uint8),\n",
              " tensor([0, 0, 0,  ..., 0, 0, 1], dtype=torch.uint8),\n",
              " tensor([0, 0, 0,  ..., 0, 0, 1], dtype=torch.uint8),\n",
              " tensor([0, 0, 0,  ..., 0, 0, 1], dtype=torch.uint8),\n",
              " tensor([0, 0, 0,  ..., 0, 0, 1], dtype=torch.uint8),\n",
              " tensor([0, 0, 0,  ..., 0, 0, 1], dtype=torch.uint8),\n",
              " tensor([0, 0, 0,  ..., 0, 0, 1], dtype=torch.uint8),\n",
              " tensor([0, 0, 0,  ..., 0, 0, 1], dtype=torch.uint8),\n",
              " tensor([0, 0, 0,  ..., 0, 0, 1], dtype=torch.uint8),\n",
              " tensor([0, 0, 0,  ..., 0, 0, 1], dtype=torch.uint8),\n",
              " tensor([0, 0, 0,  ..., 0, 0, 1], dtype=torch.uint8),\n",
              " tensor([0, 0, 0,  ..., 0, 0, 1], dtype=torch.uint8),\n",
              " tensor([0, 0, 0,  ..., 0, 0, 1], dtype=torch.uint8),\n",
              " tensor([0, 0, 0,  ..., 0, 0, 1], dtype=torch.uint8),\n",
              " tensor([0, 0, 0,  ..., 0, 0, 1], dtype=torch.uint8),\n",
              " tensor([0, 0, 0,  ..., 0, 0, 1], dtype=torch.uint8),\n",
              " tensor([0, 0, 0,  ..., 0, 0, 1], dtype=torch.uint8),\n",
              " tensor([0, 0, 0,  ..., 0, 0, 1], dtype=torch.uint8),\n",
              " tensor([0, 0, 0,  ..., 0, 0, 1], dtype=torch.uint8),\n",
              " tensor([0, 0, 0,  ..., 0, 0, 1], dtype=torch.uint8),\n",
              " tensor([0, 0, 0,  ..., 0, 0, 1], dtype=torch.uint8),\n",
              " tensor([0, 0, 0,  ..., 0, 0, 1], dtype=torch.uint8),\n",
              " tensor([0, 0, 0,  ..., 0, 0, 1], dtype=torch.uint8),\n",
              " tensor([0, 0, 0,  ..., 0, 0, 1], dtype=torch.uint8),\n",
              " tensor([0, 0, 0,  ..., 0, 0, 1], dtype=torch.uint8),\n",
              " tensor([0, 0, 0,  ..., 0, 0, 1], dtype=torch.uint8),\n",
              " tensor([0, 0, 0,  ..., 0, 0, 1], dtype=torch.uint8),\n",
              " tensor([0, 0, 0,  ..., 0, 0, 1], dtype=torch.uint8),\n",
              " tensor([0, 0, 0,  ..., 0, 0, 1], dtype=torch.uint8),\n",
              " tensor([0, 0, 0,  ..., 0, 0, 1], dtype=torch.uint8),\n",
              " tensor([0, 0, 0,  ..., 0, 0, 1], dtype=torch.uint8),\n",
              " tensor([0, 0, 0,  ..., 0, 0, 1], dtype=torch.uint8),\n",
              " tensor([0, 0, 0,  ..., 0, 0, 1], dtype=torch.uint8),\n",
              " tensor([0, 0, 0,  ..., 0, 0, 1], dtype=torch.uint8),\n",
              " tensor([0, 0, 0,  ..., 0, 0, 1], dtype=torch.uint8),\n",
              " tensor([0, 0, 0,  ..., 0, 0, 1], dtype=torch.uint8),\n",
              " tensor([0, 0, 0,  ..., 0, 0, 1], dtype=torch.uint8),\n",
              " tensor([0, 0, 0,  ..., 0, 0, 1], dtype=torch.uint8),\n",
              " tensor([0, 0, 0,  ..., 0, 0, 1], dtype=torch.uint8),\n",
              " tensor([0, 0, 0,  ..., 0, 0, 1], dtype=torch.uint8),\n",
              " tensor([0, 0, 0,  ..., 0, 0, 1], dtype=torch.uint8),\n",
              " tensor([0, 0, 0,  ..., 0, 0, 1], dtype=torch.uint8),\n",
              " tensor([0, 0, 0,  ..., 0, 0, 1], dtype=torch.uint8),\n",
              " tensor([0, 0, 0,  ..., 0, 0, 1], dtype=torch.uint8),\n",
              " tensor([0, 0, 0,  ..., 0, 0, 1], dtype=torch.uint8),\n",
              " tensor([0, 0, 0,  ..., 0, 0, 1], dtype=torch.uint8),\n",
              " tensor([0, 0, 0,  ..., 0, 0, 1], dtype=torch.uint8),\n",
              " tensor([0, 0, 0,  ..., 0, 0, 1], dtype=torch.uint8),\n",
              " tensor([0, 0, 0,  ..., 0, 0, 1], dtype=torch.uint8),\n",
              " tensor([0, 0, 0,  ..., 0, 0, 1], dtype=torch.uint8),\n",
              " tensor([0, 0, 0,  ..., 0, 0, 1], dtype=torch.uint8),\n",
              " tensor([0, 0, 0,  ..., 0, 0, 1], dtype=torch.uint8),\n",
              " tensor([0, 0, 0,  ..., 0, 0, 1], dtype=torch.uint8),\n",
              " tensor([0, 0, 0,  ..., 0, 0, 1], dtype=torch.uint8),\n",
              " tensor([0, 0, 0,  ..., 0, 0, 1], dtype=torch.uint8),\n",
              " tensor([0, 0, 0,  ..., 0, 0, 1], dtype=torch.uint8),\n",
              " tensor([0, 0, 0,  ..., 0, 0, 1], dtype=torch.uint8),\n",
              " tensor([0, 0, 0,  ..., 0, 0, 1], dtype=torch.uint8),\n",
              " tensor([0, 0, 0,  ..., 0, 0, 1], dtype=torch.uint8),\n",
              " tensor([0, 0, 0,  ..., 0, 0, 1], dtype=torch.uint8),\n",
              " tensor([0, 0, 0,  ..., 0, 0, 1], dtype=torch.uint8),\n",
              " tensor([0, 0, 0,  ..., 0, 0, 1], dtype=torch.uint8),\n",
              " tensor([0, 0, 0,  ..., 0, 0, 1], dtype=torch.uint8),\n",
              " tensor([0, 0, 0,  ..., 0, 0, 1], dtype=torch.uint8),\n",
              " tensor([0, 0, 0,  ..., 0, 0, 1], dtype=torch.uint8),\n",
              " tensor([0, 0, 0,  ..., 0, 0, 1], dtype=torch.uint8),\n",
              " tensor([0, 0, 0,  ..., 0, 0, 1], dtype=torch.uint8),\n",
              " tensor([0, 0, 0,  ..., 0, 0, 1], dtype=torch.uint8),\n",
              " tensor([0, 0, 0,  ..., 0, 0, 1], dtype=torch.uint8),\n",
              " tensor([0, 0, 0,  ..., 0, 0, 1], dtype=torch.uint8),\n",
              " tensor([0, 0, 0,  ..., 0, 0, 1], dtype=torch.uint8),\n",
              " tensor([0, 0, 0,  ..., 0, 0, 1], dtype=torch.uint8),\n",
              " tensor([0, 0, 0,  ..., 0, 0, 1], dtype=torch.uint8),\n",
              " tensor([0, 0, 0,  ..., 0, 0, 1], dtype=torch.uint8),\n",
              " tensor([0, 0, 0,  ..., 0, 0, 1], dtype=torch.uint8),\n",
              " tensor([0, 0, 0,  ..., 0, 0, 1], dtype=torch.uint8),\n",
              " tensor([0, 0, 0,  ..., 0, 0, 1], dtype=torch.uint8),\n",
              " tensor([0, 0, 0,  ..., 0, 0, 1], dtype=torch.uint8),\n",
              " tensor([0, 0, 0,  ..., 0, 0, 1], dtype=torch.uint8),\n",
              " tensor([0, 0, 0,  ..., 0, 0, 1], dtype=torch.uint8),\n",
              " tensor([0, 0, 0,  ..., 0, 0, 1], dtype=torch.uint8),\n",
              " tensor([0, 0, 0,  ..., 0, 0, 1], dtype=torch.uint8),\n",
              " tensor([0, 0, 0,  ..., 0, 0, 1], dtype=torch.uint8),\n",
              " tensor([0, 0, 0,  ..., 0, 0, 1], dtype=torch.uint8),\n",
              " tensor([0, 0, 0,  ..., 0, 0, 1], dtype=torch.uint8),\n",
              " tensor([0, 0, 0,  ..., 0, 0, 1], dtype=torch.uint8),\n",
              " tensor([0, 0, 0,  ..., 0, 0, 1], dtype=torch.uint8),\n",
              " tensor([0, 0, 0,  ..., 0, 0, 1], dtype=torch.uint8),\n",
              " tensor([0, 0, 0,  ..., 0, 0, 1], dtype=torch.uint8),\n",
              " tensor([0, 0, 0,  ..., 0, 0, 1], dtype=torch.uint8),\n",
              " tensor([0, 0, 0,  ..., 0, 0, 1], dtype=torch.uint8),\n",
              " tensor([0, 0, 0,  ..., 0, 0, 1], dtype=torch.uint8),\n",
              " tensor([0, 0, 0,  ..., 0, 0, 1], dtype=torch.uint8),\n",
              " tensor([0, 0, 0,  ..., 0, 0, 1], dtype=torch.uint8),\n",
              " tensor([0, 0, 0,  ..., 0, 0, 1], dtype=torch.uint8),\n",
              " tensor([0, 0, 0,  ..., 0, 0, 1], dtype=torch.uint8),\n",
              " tensor([0, 0, 0,  ..., 0, 0, 1], dtype=torch.uint8),\n",
              " tensor([0, 0, 0,  ..., 0, 0, 1], dtype=torch.uint8),\n",
              " tensor([0, 0, 0,  ..., 0, 0, 1], dtype=torch.uint8),\n",
              " tensor([0, 0, 0,  ..., 0, 0, 1], dtype=torch.uint8),\n",
              " tensor([0, 0, 0,  ..., 0, 0, 1], dtype=torch.uint8),\n",
              " tensor([0, 0, 0,  ..., 0, 0, 1], dtype=torch.uint8),\n",
              " tensor([0, 0, 0,  ..., 0, 0, 1], dtype=torch.uint8),\n",
              " tensor([0, 0, 0,  ..., 0, 0, 1], dtype=torch.uint8),\n",
              " tensor([0, 0, 0,  ..., 0, 0, 1], dtype=torch.uint8),\n",
              " tensor([0, 0, 0,  ..., 0, 0, 1], dtype=torch.uint8),\n",
              " tensor([0, 0, 0,  ..., 0, 0, 1], dtype=torch.uint8),\n",
              " tensor([0, 0, 0,  ..., 0, 0, 1], dtype=torch.uint8),\n",
              " tensor([0, 0, 0,  ..., 0, 0, 1], dtype=torch.uint8),\n",
              " tensor([0, 0, 0,  ..., 0, 0, 1], dtype=torch.uint8),\n",
              " tensor([0, 0, 0,  ..., 0, 0, 1], dtype=torch.uint8),\n",
              " tensor([0, 0, 0,  ..., 0, 0, 1], dtype=torch.uint8),\n",
              " tensor([0, 0, 0,  ..., 0, 0, 1], dtype=torch.uint8),\n",
              " tensor([0, 0, 0,  ..., 0, 0, 1], dtype=torch.uint8),\n",
              " tensor([0, 0, 0,  ..., 0, 0, 1], dtype=torch.uint8),\n",
              " tensor([0, 0, 0,  ..., 0, 0, 1], dtype=torch.uint8),\n",
              " tensor([0, 0, 0,  ..., 0, 0, 1], dtype=torch.uint8),\n",
              " tensor([0, 0, 0,  ..., 0, 0, 1], dtype=torch.uint8),\n",
              " tensor([0, 0, 0,  ..., 0, 0, 1], dtype=torch.uint8),\n",
              " tensor([0, 0, 0,  ..., 0, 0, 1], dtype=torch.uint8),\n",
              " tensor([0, 0, 0,  ..., 0, 0, 1], dtype=torch.uint8),\n",
              " tensor([0, 0, 0,  ..., 0, 0, 1], dtype=torch.uint8),\n",
              " tensor([0, 0, 0,  ..., 0, 0, 1], dtype=torch.uint8),\n",
              " tensor([0, 0, 0,  ..., 0, 0, 1], dtype=torch.uint8),\n",
              " tensor([0, 0, 0,  ..., 0, 0, 1], dtype=torch.uint8),\n",
              " tensor([0, 0, 0,  ..., 0, 0, 1], dtype=torch.uint8),\n",
              " tensor([0, 0, 0,  ..., 0, 0, 1], dtype=torch.uint8),\n",
              " tensor([0, 0, 0,  ..., 0, 0, 1], dtype=torch.uint8),\n",
              " tensor([0, 0, 0,  ..., 0, 0, 1], dtype=torch.uint8),\n",
              " tensor([0, 0, 0,  ..., 0, 0, 1], dtype=torch.uint8),\n",
              " tensor([0, 0, 0,  ..., 0, 0, 1], dtype=torch.uint8),\n",
              " tensor([0, 0, 0,  ..., 0, 0, 1], dtype=torch.uint8),\n",
              " tensor([0, 0, 0,  ..., 0, 0, 1], dtype=torch.uint8),\n",
              " tensor([0, 0, 0,  ..., 0, 0, 1], dtype=torch.uint8),\n",
              " tensor([0, 0, 0,  ..., 0, 0, 1], dtype=torch.uint8),\n",
              " tensor([0, 0, 0,  ..., 0, 0, 1], dtype=torch.uint8),\n",
              " tensor([0, 0, 0,  ..., 0, 0, 1], dtype=torch.uint8),\n",
              " tensor([0, 0, 0,  ..., 0, 0, 1], dtype=torch.uint8),\n",
              " tensor([0, 0, 0,  ..., 0, 0, 1], dtype=torch.uint8),\n",
              " tensor([0, 0, 0,  ..., 0, 0, 1], dtype=torch.uint8),\n",
              " tensor([0, 0, 0,  ..., 0, 0, 1], dtype=torch.uint8),\n",
              " tensor([0, 0, 0,  ..., 0, 0, 1], dtype=torch.uint8),\n",
              " tensor([0, 0, 0,  ..., 0, 0, 1], dtype=torch.uint8),\n",
              " tensor([0, 0, 0,  ..., 0, 0, 1], dtype=torch.uint8),\n",
              " tensor([0, 0, 0,  ..., 0, 0, 1], dtype=torch.uint8),\n",
              " tensor([0, 0, 0,  ..., 0, 0, 1], dtype=torch.uint8),\n",
              " tensor([0, 0, 0,  ..., 0, 0, 1], dtype=torch.uint8),\n",
              " tensor([0, 0, 0,  ..., 0, 0, 1], dtype=torch.uint8),\n",
              " tensor([0, 0, 0,  ..., 0, 0, 1], dtype=torch.uint8),\n",
              " tensor([0, 0, 0,  ..., 0, 0, 1], dtype=torch.uint8),\n",
              " tensor([0, 0, 0,  ..., 0, 0, 1], dtype=torch.uint8),\n",
              " tensor([0, 0, 0,  ..., 0, 0, 1], dtype=torch.uint8),\n",
              " tensor([0, 0, 0,  ..., 0, 0, 1], dtype=torch.uint8),\n",
              " tensor([0, 0, 0,  ..., 0, 0, 1], dtype=torch.uint8),\n",
              " tensor([0, 0, 0,  ..., 0, 0, 1], dtype=torch.uint8),\n",
              " tensor([0, 0, 0,  ..., 0, 0, 1], dtype=torch.uint8),\n",
              " tensor([0, 0, 0,  ..., 0, 0, 1], dtype=torch.uint8),\n",
              " tensor([0, 0, 0,  ..., 0, 0, 1], dtype=torch.uint8),\n",
              " tensor([0, 0, 0,  ..., 0, 0, 1], dtype=torch.uint8),\n",
              " tensor([0, 0, 0,  ..., 0, 0, 1], dtype=torch.uint8),\n",
              " tensor([0, 0, 0,  ..., 0, 0, 1], dtype=torch.uint8),\n",
              " tensor([0, 0, 0,  ..., 0, 0, 1], dtype=torch.uint8),\n",
              " tensor([0, 0, 0,  ..., 0, 0, 1], dtype=torch.uint8),\n",
              " tensor([0, 0, 0,  ..., 0, 0, 1], dtype=torch.uint8),\n",
              " tensor([0, 0, 0,  ..., 0, 0, 1], dtype=torch.uint8),\n",
              " tensor([0, 0, 0,  ..., 0, 0, 1], dtype=torch.uint8),\n",
              " tensor([0, 0, 0,  ..., 0, 0, 1], dtype=torch.uint8),\n",
              " tensor([0, 0, 0,  ..., 0, 0, 1], dtype=torch.uint8),\n",
              " tensor([0, 0, 0,  ..., 0, 0, 1], dtype=torch.uint8),\n",
              " tensor([0, 0, 0,  ..., 0, 0, 1], dtype=torch.uint8),\n",
              " tensor([0, 0, 0,  ..., 0, 0, 1], dtype=torch.uint8),\n",
              " tensor([0, 0, 0,  ..., 0, 0, 1], dtype=torch.uint8),\n",
              " tensor([0, 0, 0,  ..., 0, 0, 1], dtype=torch.uint8),\n",
              " tensor([0, 0, 0,  ..., 0, 0, 1], dtype=torch.uint8),\n",
              " tensor([0, 0, 0,  ..., 0, 0, 1], dtype=torch.uint8),\n",
              " tensor([0, 0, 0,  ..., 0, 0, 1], dtype=torch.uint8),\n",
              " tensor([0, 0, 0,  ..., 0, 0, 1], dtype=torch.uint8),\n",
              " tensor([0, 0, 0,  ..., 0, 0, 1], dtype=torch.uint8),\n",
              " tensor([0, 0, 0,  ..., 0, 0, 1], dtype=torch.uint8),\n",
              " tensor([0, 0, 0,  ..., 0, 0, 1], dtype=torch.uint8),\n",
              " tensor([0, 0, 0,  ..., 0, 0, 1], dtype=torch.uint8),\n",
              " tensor([0, 0, 0,  ..., 0, 0, 1], dtype=torch.uint8),\n",
              " tensor([0, 0, 0,  ..., 0, 0, 1], dtype=torch.uint8),\n",
              " tensor([0, 0, 0,  ..., 0, 0, 1], dtype=torch.uint8),\n",
              " tensor([0, 0, 0,  ..., 0, 0, 1], dtype=torch.uint8),\n",
              " tensor([0, 0, 0,  ..., 0, 0, 1], dtype=torch.uint8),\n",
              " tensor([0, 0, 0,  ..., 0, 0, 1], dtype=torch.uint8),\n",
              " tensor([0, 0, 0,  ..., 0, 0, 1], dtype=torch.uint8),\n",
              " tensor([0, 0, 0,  ..., 0, 0, 1], dtype=torch.uint8),\n",
              " tensor([0, 0, 0,  ..., 0, 0, 1], dtype=torch.uint8),\n",
              " tensor([0, 0, 0,  ..., 0, 0, 1], dtype=torch.uint8),\n",
              " tensor([0, 0, 0,  ..., 0, 0, 1], dtype=torch.uint8),\n",
              " tensor([0, 0, 0,  ..., 0, 0, 1], dtype=torch.uint8),\n",
              " tensor([0, 0, 0,  ..., 0, 0, 1], dtype=torch.uint8),\n",
              " tensor([0, 0, 0,  ..., 0, 0, 1], dtype=torch.uint8),\n",
              " tensor([0, 0, 0,  ..., 0, 0, 1], dtype=torch.uint8),\n",
              " tensor([0, 0, 0,  ..., 0, 0, 1], dtype=torch.uint8),\n",
              " tensor([0, 0, 0,  ..., 0, 0, 1], dtype=torch.uint8),\n",
              " tensor([0, 0, 0,  ..., 0, 0, 1], dtype=torch.uint8),\n",
              " tensor([0, 0, 0,  ..., 0, 0, 1], dtype=torch.uint8),\n",
              " tensor([0, 0, 0,  ..., 0, 0, 1], dtype=torch.uint8),\n",
              " tensor([0, 0, 0,  ..., 0, 0, 1], dtype=torch.uint8),\n",
              " tensor([0, 0, 0,  ..., 0, 0, 1], dtype=torch.uint8),\n",
              " tensor([0, 0, 0,  ..., 0, 0, 1], dtype=torch.uint8),\n",
              " tensor([0, 0, 0,  ..., 0, 0, 1], dtype=torch.uint8),\n",
              " tensor([0, 0, 0,  ..., 0, 0, 1], dtype=torch.uint8),\n",
              " tensor([0, 0, 0,  ..., 0, 0, 1], dtype=torch.uint8),\n",
              " tensor([0, 0, 0,  ..., 0, 0, 1], dtype=torch.uint8),\n",
              " tensor([0, 0, 0,  ..., 0, 0, 1], dtype=torch.uint8),\n",
              " tensor([0, 0, 0,  ..., 0, 0, 1], dtype=torch.uint8),\n",
              " tensor([0, 0, 0,  ..., 0, 0, 1], dtype=torch.uint8),\n",
              " tensor([0, 0, 0,  ..., 0, 0, 1], dtype=torch.uint8),\n",
              " tensor([0, 0, 0,  ..., 0, 0, 1], dtype=torch.uint8),\n",
              " tensor([0, 0, 0,  ..., 0, 0, 1], dtype=torch.uint8),\n",
              " tensor([0, 0, 0,  ..., 0, 0, 1], dtype=torch.uint8),\n",
              " tensor([0, 0, 0,  ..., 0, 0, 1], dtype=torch.uint8),\n",
              " tensor([0, 0, 0,  ..., 0, 0, 1], dtype=torch.uint8),\n",
              " tensor([0, 0, 0,  ..., 0, 0, 1], dtype=torch.uint8),\n",
              " tensor([0, 0, 0,  ..., 0, 0, 1], dtype=torch.uint8),\n",
              " tensor([0, 0, 0,  ..., 0, 0, 1], dtype=torch.uint8),\n",
              " tensor([0, 0, 0,  ..., 0, 0, 1], dtype=torch.uint8),\n",
              " tensor([0, 0, 0,  ..., 0, 0, 1], dtype=torch.uint8),\n",
              " tensor([0, 0, 0,  ..., 0, 0, 1], dtype=torch.uint8),\n",
              " tensor([0, 0, 0,  ..., 0, 0, 1], dtype=torch.uint8),\n",
              " tensor([0, 0, 0,  ..., 0, 0, 1], dtype=torch.uint8),\n",
              " tensor([0, 0, 0,  ..., 0, 0, 1], dtype=torch.uint8),\n",
              " tensor([0, 0, 0,  ..., 0, 0, 1], dtype=torch.uint8),\n",
              " tensor([0, 0, 0,  ..., 0, 0, 1], dtype=torch.uint8),\n",
              " tensor([0, 0, 0,  ..., 0, 0, 1], dtype=torch.uint8),\n",
              " tensor([0, 0, 0,  ..., 0, 0, 1], dtype=torch.uint8),\n",
              " tensor([0, 0, 0,  ..., 0, 0, 1], dtype=torch.uint8),\n",
              " tensor([0, 0, 0,  ..., 0, 0, 1], dtype=torch.uint8),\n",
              " tensor([0, 0, 0,  ..., 0, 0, 1], dtype=torch.uint8),\n",
              " tensor([0, 0, 0,  ..., 0, 0, 1], dtype=torch.uint8),\n",
              " tensor([0, 0, 0,  ..., 0, 0, 1], dtype=torch.uint8),\n",
              " tensor([0, 0, 0,  ..., 0, 0, 1], dtype=torch.uint8),\n",
              " tensor([0, 0, 0,  ..., 0, 0, 1], dtype=torch.uint8),\n",
              " tensor([0, 0, 0,  ..., 0, 0, 1], dtype=torch.uint8),\n",
              " tensor([0, 0, 0,  ..., 0, 0, 1], dtype=torch.uint8),\n",
              " tensor([0, 0, 0,  ..., 0, 0, 1], dtype=torch.uint8),\n",
              " tensor([0, 0, 0,  ..., 0, 0, 1], dtype=torch.uint8),\n",
              " tensor([0, 0, 0,  ..., 0, 0, 1], dtype=torch.uint8),\n",
              " tensor([0, 0, 0,  ..., 0, 0, 1], dtype=torch.uint8),\n",
              " tensor([0, 0, 0,  ..., 0, 0, 1], dtype=torch.uint8),\n",
              " tensor([0, 0, 0,  ..., 0, 0, 1], dtype=torch.uint8),\n",
              " tensor([0, 0, 0,  ..., 0, 0, 1], dtype=torch.uint8),\n",
              " tensor([0, 0, 0,  ..., 0, 0, 1], dtype=torch.uint8),\n",
              " tensor([0, 0, 0,  ..., 0, 0, 1], dtype=torch.uint8),\n",
              " tensor([0, 0, 0,  ..., 0, 0, 1], dtype=torch.uint8),\n",
              " tensor([0, 0, 0,  ..., 0, 0, 1], dtype=torch.uint8),\n",
              " tensor([0, 0, 0,  ..., 0, 0, 1], dtype=torch.uint8),\n",
              " tensor([0, 0, 0,  ..., 0, 0, 1], dtype=torch.uint8),\n",
              " tensor([0, 0, 0,  ..., 0, 0, 1], dtype=torch.uint8),\n",
              " tensor([0, 0, 0,  ..., 0, 0, 1], dtype=torch.uint8),\n",
              " tensor([0, 0, 0,  ..., 0, 0, 1], dtype=torch.uint8),\n",
              " tensor([0, 0, 0,  ..., 0, 0, 1], dtype=torch.uint8),\n",
              " tensor([0, 0, 0,  ..., 0, 0, 1], dtype=torch.uint8),\n",
              " tensor([0, 0, 0,  ..., 0, 0, 1], dtype=torch.uint8),\n",
              " tensor([0, 0, 0,  ..., 0, 0, 1], dtype=torch.uint8),\n",
              " tensor([0, 0, 0,  ..., 0, 0, 1], dtype=torch.uint8),\n",
              " tensor([0, 0, 0,  ..., 0, 0, 1], dtype=torch.uint8),\n",
              " tensor([0, 0, 0,  ..., 0, 0, 1], dtype=torch.uint8),\n",
              " tensor([0, 0, 0,  ..., 0, 0, 1], dtype=torch.uint8),\n",
              " tensor([0, 0, 0,  ..., 0, 0, 1], dtype=torch.uint8),\n",
              " tensor([0, 0, 0,  ..., 0, 0, 1], dtype=torch.uint8),\n",
              " tensor([0, 0, 0,  ..., 0, 0, 1], dtype=torch.uint8),\n",
              " tensor([0, 0, 0,  ..., 0, 0, 1], dtype=torch.uint8),\n",
              " tensor([0, 0, 0,  ..., 0, 0, 1], dtype=torch.uint8),\n",
              " tensor([0, 0, 0,  ..., 0, 0, 1], dtype=torch.uint8),\n",
              " tensor([0, 0, 0,  ..., 0, 0, 1], dtype=torch.uint8),\n",
              " tensor([0, 0, 0,  ..., 0, 0, 1], dtype=torch.uint8),\n",
              " tensor([0, 0, 0,  ..., 0, 0, 1], dtype=torch.uint8),\n",
              " tensor([0, 0, 0,  ..., 0, 0, 1], dtype=torch.uint8),\n",
              " tensor([0, 0, 0,  ..., 0, 0, 1], dtype=torch.uint8),\n",
              " tensor([0, 0, 0,  ..., 0, 0, 1], dtype=torch.uint8),\n",
              " tensor([0, 0, 0,  ..., 0, 0, 1], dtype=torch.uint8),\n",
              " tensor([0, 0, 0,  ..., 0, 0, 1], dtype=torch.uint8),\n",
              " tensor([0, 0, 0,  ..., 0, 0, 1], dtype=torch.uint8),\n",
              " tensor([0, 0, 0,  ..., 0, 0, 1], dtype=torch.uint8),\n",
              " tensor([0, 0, 0,  ..., 0, 0, 1], dtype=torch.uint8),\n",
              " tensor([0, 0, 0,  ..., 0, 0, 1], dtype=torch.uint8),\n",
              " tensor([0, 0, 0,  ..., 0, 0, 1], dtype=torch.uint8),\n",
              " tensor([0, 0, 0,  ..., 0, 0, 1], dtype=torch.uint8),\n",
              " tensor([0, 0, 0,  ..., 0, 0, 1], dtype=torch.uint8),\n",
              " tensor([0, 0, 0,  ..., 0, 0, 1], dtype=torch.uint8),\n",
              " tensor([0, 0, 0,  ..., 0, 0, 1], dtype=torch.uint8),\n",
              " tensor([0, 0, 0,  ..., 0, 0, 1], dtype=torch.uint8),\n",
              " tensor([0, 0, 0,  ..., 0, 0, 1], dtype=torch.uint8),\n",
              " tensor([0, 0, 0,  ..., 0, 0, 1], dtype=torch.uint8),\n",
              " tensor([0, 0, 0,  ..., 0, 0, 1], dtype=torch.uint8),\n",
              " tensor([0, 0, 0,  ..., 0, 0, 1], dtype=torch.uint8),\n",
              " tensor([0, 0, 0,  ..., 0, 0, 1], dtype=torch.uint8),\n",
              " tensor([0, 0, 0,  ..., 0, 0, 1], dtype=torch.uint8),\n",
              " tensor([0, 0, 0,  ..., 0, 0, 1], dtype=torch.uint8),\n",
              " tensor([0, 0, 0,  ..., 0, 0, 1], dtype=torch.uint8),\n",
              " tensor([0, 0, 0,  ..., 0, 0, 1], dtype=torch.uint8),\n",
              " tensor([0, 0, 0,  ..., 0, 0, 1], dtype=torch.uint8),\n",
              " tensor([0, 0, 0,  ..., 0, 0, 1], dtype=torch.uint8),\n",
              " tensor([0, 0, 0,  ..., 0, 0, 1], dtype=torch.uint8),\n",
              " tensor([0, 0, 0,  ..., 0, 0, 1], dtype=torch.uint8),\n",
              " tensor([0, 0, 0,  ..., 0, 0, 1], dtype=torch.uint8),\n",
              " tensor([0, 0, 0,  ..., 0, 0, 1], dtype=torch.uint8),\n",
              " tensor([0, 0, 0,  ..., 0, 0, 1], dtype=torch.uint8),\n",
              " tensor([0, 0, 0,  ..., 0, 0, 1], dtype=torch.uint8),\n",
              " tensor([0, 0, 0,  ..., 0, 0, 1], dtype=torch.uint8),\n",
              " tensor([0, 0, 0,  ..., 0, 0, 1], dtype=torch.uint8),\n",
              " tensor([0, 0, 0,  ..., 0, 0, 1], dtype=torch.uint8),\n",
              " tensor([0, 0, 0,  ..., 0, 0, 1], dtype=torch.uint8),\n",
              " tensor([0, 0, 0,  ..., 0, 0, 1], dtype=torch.uint8),\n",
              " tensor([0, 0, 0,  ..., 0, 0, 1], dtype=torch.uint8),\n",
              " tensor([0, 0, 0,  ..., 0, 0, 1], dtype=torch.uint8),\n",
              " tensor([0, 0, 0,  ..., 0, 0, 1], dtype=torch.uint8),\n",
              " tensor([0, 0, 0,  ..., 0, 0, 1], dtype=torch.uint8),\n",
              " tensor([0, 0, 0,  ..., 0, 0, 1], dtype=torch.uint8),\n",
              " tensor([0, 0, 0,  ..., 0, 0, 1], dtype=torch.uint8),\n",
              " tensor([0, 0, 0,  ..., 0, 0, 1], dtype=torch.uint8),\n",
              " tensor([0, 0, 0,  ..., 0, 0, 1], dtype=torch.uint8),\n",
              " tensor([0, 0, 0,  ..., 0, 0, 1], dtype=torch.uint8),\n",
              " tensor([0, 0, 0,  ..., 0, 0, 1], dtype=torch.uint8),\n",
              " tensor([0, 0, 0,  ..., 0, 0, 1], dtype=torch.uint8),\n",
              " tensor([0, 0, 0,  ..., 0, 0, 1], dtype=torch.uint8),\n",
              " tensor([0, 0, 0,  ..., 0, 0, 1], dtype=torch.uint8),\n",
              " tensor([0, 0, 0,  ..., 0, 0, 1], dtype=torch.uint8),\n",
              " tensor([0, 0, 0,  ..., 0, 0, 1], dtype=torch.uint8),\n",
              " tensor([0, 0, 0,  ..., 0, 0, 1], dtype=torch.uint8),\n",
              " tensor([0, 0, 0,  ..., 0, 0, 1], dtype=torch.uint8),\n",
              " tensor([0, 0, 0,  ..., 0, 0, 1], dtype=torch.uint8),\n",
              " tensor([0, 0, 0,  ..., 0, 0, 1], dtype=torch.uint8),\n",
              " tensor([0, 0, 0,  ..., 0, 0, 1], dtype=torch.uint8),\n",
              " tensor([0, 0, 0,  ..., 0, 0, 1], dtype=torch.uint8),\n",
              " tensor([0, 0, 0,  ..., 0, 0, 1], dtype=torch.uint8),\n",
              " tensor([0, 0, 0,  ..., 0, 0, 1], dtype=torch.uint8),\n",
              " tensor([0, 0, 0,  ..., 0, 0, 1], dtype=torch.uint8),\n",
              " tensor([0, 0, 0,  ..., 0, 0, 1], dtype=torch.uint8),\n",
              " tensor([0, 0, 0,  ..., 0, 0, 1], dtype=torch.uint8),\n",
              " tensor([0, 0, 0,  ..., 0, 0, 1], dtype=torch.uint8),\n",
              " tensor([0, 0, 0,  ..., 0, 0, 1], dtype=torch.uint8),\n",
              " tensor([0, 0, 0,  ..., 0, 0, 1], dtype=torch.uint8),\n",
              " tensor([0, 0, 0,  ..., 0, 0, 1], dtype=torch.uint8),\n",
              " tensor([0, 0, 0,  ..., 0, 0, 1], dtype=torch.uint8),\n",
              " tensor([0, 0, 0,  ..., 0, 0, 1], dtype=torch.uint8),\n",
              " tensor([0, 0, 0,  ..., 0, 0, 1], dtype=torch.uint8),\n",
              " tensor([0, 0, 0,  ..., 0, 0, 1], dtype=torch.uint8),\n",
              " tensor([0, 0, 0,  ..., 0, 0, 1], dtype=torch.uint8),\n",
              " tensor([0, 0, 0,  ..., 0, 0, 1], dtype=torch.uint8),\n",
              " tensor([0, 0, 0,  ..., 0, 0, 1], dtype=torch.uint8),\n",
              " tensor([0, 0, 0,  ..., 0, 0, 1], dtype=torch.uint8),\n",
              " tensor([0, 0, 0,  ..., 0, 0, 1], dtype=torch.uint8),\n",
              " tensor([0, 0, 0,  ..., 0, 0, 1], dtype=torch.uint8),\n",
              " tensor([0, 0, 0,  ..., 0, 0, 1], dtype=torch.uint8),\n",
              " tensor([0, 0, 0,  ..., 0, 0, 1], dtype=torch.uint8),\n",
              " tensor([0, 0, 0,  ..., 0, 0, 1], dtype=torch.uint8),\n",
              " tensor([0, 0, 0,  ..., 0, 0, 1], dtype=torch.uint8),\n",
              " tensor([0, 0, 0,  ..., 0, 0, 1], dtype=torch.uint8),\n",
              " tensor([0, 0, 0,  ..., 0, 0, 1], dtype=torch.uint8),\n",
              " tensor([0, 0, 0,  ..., 0, 0, 1], dtype=torch.uint8),\n",
              " tensor([0, 0, 0,  ..., 0, 0, 1], dtype=torch.uint8),\n",
              " tensor([0, 0, 0,  ..., 0, 0, 1], dtype=torch.uint8),\n",
              " tensor([0, 0, 0,  ..., 0, 0, 1], dtype=torch.uint8),\n",
              " tensor([0, 0, 0,  ..., 0, 0, 1], dtype=torch.uint8),\n",
              " tensor([0, 0, 0,  ..., 0, 0, 1], dtype=torch.uint8),\n",
              " tensor([0, 0, 0,  ..., 0, 0, 1], dtype=torch.uint8),\n",
              " tensor([0, 0, 0,  ..., 0, 0, 1], dtype=torch.uint8),\n",
              " tensor([0, 0, 0,  ..., 0, 0, 1], dtype=torch.uint8),\n",
              " tensor([0, 0, 0,  ..., 0, 0, 1], dtype=torch.uint8),\n",
              " tensor([0, 0, 0,  ..., 0, 0, 1], dtype=torch.uint8),\n",
              " tensor([0, 0, 0,  ..., 0, 0, 1], dtype=torch.uint8),\n",
              " tensor([0, 0, 0,  ..., 0, 0, 1], dtype=torch.uint8),\n",
              " tensor([0, 0, 0,  ..., 0, 0, 1], dtype=torch.uint8),\n",
              " tensor([0, 0, 0,  ..., 0, 0, 1], dtype=torch.uint8),\n",
              " tensor([0, 0, 0,  ..., 0, 0, 1], dtype=torch.uint8),\n",
              " tensor([0, 0, 0,  ..., 0, 0, 1], dtype=torch.uint8),\n",
              " tensor([0, 0, 0,  ..., 0, 0, 1], dtype=torch.uint8),\n",
              " tensor([0, 0, 0,  ..., 0, 0, 1], dtype=torch.uint8),\n",
              " tensor([0, 0, 0,  ..., 0, 0, 1], dtype=torch.uint8),\n",
              " tensor([0, 0, 0,  ..., 0, 0, 1], dtype=torch.uint8),\n",
              " tensor([0, 0, 0,  ..., 0, 0, 1], dtype=torch.uint8),\n",
              " tensor([0, 0, 0,  ..., 0, 0, 1], dtype=torch.uint8),\n",
              " tensor([0, 0, 0,  ..., 0, 0, 1], dtype=torch.uint8),\n",
              " tensor([0, 0, 0,  ..., 0, 0, 1], dtype=torch.uint8),\n",
              " tensor([0, 0, 0,  ..., 0, 0, 1], dtype=torch.uint8),\n",
              " tensor([0, 0, 0,  ..., 0, 0, 1], dtype=torch.uint8),\n",
              " tensor([0, 0, 0,  ..., 0, 0, 1], dtype=torch.uint8),\n",
              " tensor([0, 0, 0,  ..., 0, 0, 1], dtype=torch.uint8),\n",
              " tensor([0, 0, 0,  ..., 0, 0, 1], dtype=torch.uint8),\n",
              " tensor([0, 0, 0,  ..., 0, 0, 1], dtype=torch.uint8),\n",
              " tensor([0, 0, 0,  ..., 0, 0, 1], dtype=torch.uint8),\n",
              " tensor([0, 0, 0,  ..., 0, 0, 1], dtype=torch.uint8),\n",
              " tensor([0, 0, 0,  ..., 0, 0, 1], dtype=torch.uint8),\n",
              " tensor([0, 0, 0,  ..., 0, 0, 1], dtype=torch.uint8),\n",
              " tensor([0, 0, 0,  ..., 0, 0, 1], dtype=torch.uint8),\n",
              " tensor([0, 0, 0,  ..., 0, 0, 1], dtype=torch.uint8),\n",
              " tensor([0, 0, 0,  ..., 0, 0, 1], dtype=torch.uint8),\n",
              " tensor([0, 0, 0,  ..., 0, 0, 1], dtype=torch.uint8),\n",
              " tensor([0, 0, 0,  ..., 0, 0, 1], dtype=torch.uint8),\n",
              " tensor([0, 0, 0,  ..., 0, 0, 1], dtype=torch.uint8),\n",
              " tensor([0, 0, 0,  ..., 0, 0, 1], dtype=torch.uint8),\n",
              " tensor([0, 0, 0,  ..., 0, 0, 1], dtype=torch.uint8),\n",
              " tensor([0, 0, 0,  ..., 0, 0, 1], dtype=torch.uint8),\n",
              " tensor([0, 0, 0,  ..., 0, 0, 1], dtype=torch.uint8),\n",
              " tensor([0, 0, 0,  ..., 0, 0, 1], dtype=torch.uint8),\n",
              " tensor([0, 0, 0,  ..., 0, 0, 1], dtype=torch.uint8),\n",
              " tensor([0, 0, 0,  ..., 0, 0, 1], dtype=torch.uint8),\n",
              " tensor([0, 0, 0,  ..., 0, 0, 1], dtype=torch.uint8),\n",
              " tensor([0, 0, 0,  ..., 0, 0, 1], dtype=torch.uint8),\n",
              " tensor([0, 0, 0,  ..., 0, 0, 1], dtype=torch.uint8),\n",
              " tensor([0, 0, 0,  ..., 0, 0, 1], dtype=torch.uint8),\n",
              " tensor([0, 0, 0,  ..., 0, 0, 1], dtype=torch.uint8),\n",
              " tensor([0, 0, 0,  ..., 0, 0, 1], dtype=torch.uint8),\n",
              " tensor([0, 0, 0,  ..., 0, 0, 1], dtype=torch.uint8),\n",
              " tensor([0, 0, 0,  ..., 0, 0, 1], dtype=torch.uint8),\n",
              " tensor([0, 0, 0,  ..., 0, 0, 1], dtype=torch.uint8),\n",
              " tensor([0, 0, 0,  ..., 0, 0, 1], dtype=torch.uint8),\n",
              " tensor([0, 0, 0,  ..., 0, 0, 1], dtype=torch.uint8),\n",
              " tensor([0, 0, 0,  ..., 0, 0, 1], dtype=torch.uint8),\n",
              " tensor([0, 0, 0,  ..., 0, 0, 1], dtype=torch.uint8),\n",
              " tensor([0, 0, 0,  ..., 0, 0, 1], dtype=torch.uint8),\n",
              " tensor([0, 0, 0,  ..., 0, 0, 1], dtype=torch.uint8),\n",
              " tensor([0, 0, 0,  ..., 0, 0, 1], dtype=torch.uint8),\n",
              " tensor([0, 0, 0,  ..., 0, 0, 1], dtype=torch.uint8),\n",
              " tensor([0, 0, 0,  ..., 0, 0, 1], dtype=torch.uint8),\n",
              " tensor([0, 0, 0,  ..., 0, 0, 1], dtype=torch.uint8),\n",
              " tensor([0, 0, 0,  ..., 0, 0, 1], dtype=torch.uint8),\n",
              " tensor([0, 0, 0,  ..., 0, 0, 1], dtype=torch.uint8),\n",
              " tensor([0, 0, 0,  ..., 0, 0, 1], dtype=torch.uint8),\n",
              " tensor([0, 0, 0,  ..., 0, 0, 1], dtype=torch.uint8),\n",
              " tensor([0, 0, 0,  ..., 0, 0, 1], dtype=torch.uint8),\n",
              " tensor([0, 0, 0,  ..., 0, 0, 1], dtype=torch.uint8),\n",
              " tensor([0, 0, 0,  ..., 0, 0, 1], dtype=torch.uint8),\n",
              " tensor([0, 0, 0,  ..., 0, 0, 1], dtype=torch.uint8),\n",
              " tensor([0, 0, 0,  ..., 0, 0, 1], dtype=torch.uint8),\n",
              " tensor([0, 0, 0,  ..., 0, 0, 1], dtype=torch.uint8),\n",
              " tensor([0, 0, 0,  ..., 0, 0, 1], dtype=torch.uint8),\n",
              " tensor([0, 0, 0,  ..., 0, 0, 1], dtype=torch.uint8),\n",
              " tensor([0, 0, 0,  ..., 0, 0, 1], dtype=torch.uint8),\n",
              " tensor([0, 0, 0,  ..., 0, 0, 1], dtype=torch.uint8),\n",
              " tensor([0, 0, 0,  ..., 0, 0, 1], dtype=torch.uint8),\n",
              " tensor([0, 0, 0,  ..., 0, 0, 1], dtype=torch.uint8),\n",
              " tensor([0, 0, 0,  ..., 0, 0, 1], dtype=torch.uint8),\n",
              " tensor([0, 0, 0,  ..., 0, 0, 1], dtype=torch.uint8),\n",
              " tensor([0, 0, 0,  ..., 0, 0, 1], dtype=torch.uint8),\n",
              " tensor([0, 0, 0,  ..., 0, 0, 1], dtype=torch.uint8),\n",
              " tensor([0, 0, 0,  ..., 0, 0, 1], dtype=torch.uint8),\n",
              " tensor([0, 0, 0,  ..., 0, 0, 1], dtype=torch.uint8),\n",
              " tensor([0, 0, 0,  ..., 0, 0, 1], dtype=torch.uint8),\n",
              " tensor([0, 0, 0,  ..., 0, 0, 1], dtype=torch.uint8),\n",
              " tensor([0, 0, 0,  ..., 0, 0, 1], dtype=torch.uint8),\n",
              " tensor([0, 0, 0,  ..., 0, 0, 1], dtype=torch.uint8),\n",
              " tensor([0, 0, 0,  ..., 0, 0, 1], dtype=torch.uint8),\n",
              " tensor([0, 0, 0,  ..., 0, 0, 1], dtype=torch.uint8),\n",
              " tensor([0, 0, 0,  ..., 0, 0, 1], dtype=torch.uint8),\n",
              " tensor([0, 0, 0,  ..., 0, 0, 1], dtype=torch.uint8),\n",
              " tensor([0, 0, 0,  ..., 0, 0, 1], dtype=torch.uint8),\n",
              " tensor([0, 0, 0,  ..., 0, 0, 1], dtype=torch.uint8),\n",
              " tensor([0, 0, 0,  ..., 0, 0, 1], dtype=torch.uint8),\n",
              " tensor([0, 0, 0,  ..., 0, 0, 1], dtype=torch.uint8),\n",
              " tensor([0, 0, 0,  ..., 0, 0, 1], dtype=torch.uint8),\n",
              " tensor([0, 0, 0,  ..., 0, 0, 1], dtype=torch.uint8),\n",
              " tensor([0, 0, 0,  ..., 0, 0, 1], dtype=torch.uint8),\n",
              " tensor([0, 0, 0,  ..., 0, 0, 1], dtype=torch.uint8),\n",
              " tensor([0, 0, 0,  ..., 0, 0, 1], dtype=torch.uint8),\n",
              " tensor([0, 0, 0,  ..., 0, 0, 1], dtype=torch.uint8),\n",
              " tensor([0, 0, 0,  ..., 0, 0, 1], dtype=torch.uint8),\n",
              " tensor([0, 0, 0,  ..., 0, 0, 1], dtype=torch.uint8),\n",
              " tensor([0, 0, 0,  ..., 0, 0, 1], dtype=torch.uint8),\n",
              " tensor([0, 0, 0,  ..., 0, 0, 1], dtype=torch.uint8),\n",
              " tensor([0, 0, 0,  ..., 0, 0, 1], dtype=torch.uint8),\n",
              " tensor([0, 0, 0,  ..., 0, 0, 1], dtype=torch.uint8),\n",
              " tensor([0, 0, 0,  ..., 0, 0, 1], dtype=torch.uint8),\n",
              " tensor([0, 0, 0,  ..., 0, 0, 1], dtype=torch.uint8),\n",
              " tensor([0, 0, 0,  ..., 0, 0, 1], dtype=torch.uint8),\n",
              " tensor([0, 0, 0,  ..., 0, 0, 1], dtype=torch.uint8),\n",
              " tensor([0, 0, 0,  ..., 0, 0, 1], dtype=torch.uint8),\n",
              " tensor([0, 0, 0,  ..., 0, 0, 1], dtype=torch.uint8),\n",
              " tensor([0, 0, 0,  ..., 0, 0, 1], dtype=torch.uint8),\n",
              " tensor([0, 0, 0,  ..., 0, 0, 1], dtype=torch.uint8),\n",
              " tensor([0, 0, 0,  ..., 0, 0, 1], dtype=torch.uint8),\n",
              " tensor([0, 0, 0,  ..., 0, 0, 1], dtype=torch.uint8),\n",
              " tensor([0, 0, 0,  ..., 0, 0, 1], dtype=torch.uint8),\n",
              " tensor([0, 0, 0,  ..., 0, 0, 1], dtype=torch.uint8),\n",
              " tensor([0, 0, 0,  ..., 0, 0, 1], dtype=torch.uint8),\n",
              " tensor([0, 0, 0,  ..., 0, 0, 1], dtype=torch.uint8),\n",
              " tensor([0, 0, 0,  ..., 0, 0, 1], dtype=torch.uint8),\n",
              " tensor([0, 0, 0,  ..., 0, 0, 1], dtype=torch.uint8),\n",
              " tensor([0, 0, 0,  ..., 0, 0, 1], dtype=torch.uint8),\n",
              " tensor([0, 0, 0,  ..., 0, 0, 1], dtype=torch.uint8),\n",
              " tensor([0, 0, 0,  ..., 0, 0, 1], dtype=torch.uint8),\n",
              " tensor([0, 0, 0,  ..., 0, 0, 1], dtype=torch.uint8),\n",
              " tensor([0, 0, 0,  ..., 0, 0, 1], dtype=torch.uint8),\n",
              " tensor([0, 0, 0,  ..., 0, 0, 1], dtype=torch.uint8),\n",
              " tensor([0, 0, 0,  ..., 0, 0, 1], dtype=torch.uint8),\n",
              " tensor([0, 0, 0,  ..., 0, 0, 1], dtype=torch.uint8),\n",
              " tensor([0, 0, 0,  ..., 0, 0, 1], dtype=torch.uint8),\n",
              " tensor([0, 0, 0,  ..., 0, 0, 1], dtype=torch.uint8),\n",
              " tensor([0, 0, 0,  ..., 0, 0, 1], dtype=torch.uint8),\n",
              " tensor([0, 0, 0,  ..., 0, 0, 1], dtype=torch.uint8),\n",
              " tensor([0, 0, 0,  ..., 0, 0, 1], dtype=torch.uint8),\n",
              " tensor([0, 0, 0,  ..., 0, 0, 1], dtype=torch.uint8),\n",
              " tensor([0, 0, 0,  ..., 0, 0, 1], dtype=torch.uint8),\n",
              " tensor([0, 0, 0,  ..., 0, 0, 1], dtype=torch.uint8),\n",
              " tensor([0, 0, 0,  ..., 0, 0, 1], dtype=torch.uint8),\n",
              " tensor([0, 0, 0,  ..., 0, 0, 1], dtype=torch.uint8),\n",
              " tensor([0, 0, 0,  ..., 0, 0, 1], dtype=torch.uint8),\n",
              " tensor([0, 0, 0,  ..., 0, 0, 1], dtype=torch.uint8),\n",
              " tensor([0, 0, 0,  ..., 0, 0, 1], dtype=torch.uint8),\n",
              " tensor([0, 0, 0,  ..., 0, 0, 1], dtype=torch.uint8),\n",
              " tensor([0, 0, 0,  ..., 0, 0, 1], dtype=torch.uint8),\n",
              " tensor([0, 0, 0,  ..., 0, 0, 1], dtype=torch.uint8),\n",
              " tensor([0, 0, 0,  ..., 0, 0, 1], dtype=torch.uint8),\n",
              " tensor([0, 0, 0,  ..., 0, 0, 1], dtype=torch.uint8),\n",
              " tensor([0, 0, 0,  ..., 0, 0, 1], dtype=torch.uint8),\n",
              " tensor([0, 0, 0,  ..., 0, 0, 1], dtype=torch.uint8),\n",
              " tensor([0, 0, 0,  ..., 0, 0, 1], dtype=torch.uint8),\n",
              " tensor([0, 0, 0,  ..., 0, 0, 1], dtype=torch.uint8),\n",
              " tensor([0, 0, 0,  ..., 0, 0, 1], dtype=torch.uint8),\n",
              " tensor([0, 0, 0,  ..., 0, 0, 1], dtype=torch.uint8),\n",
              " tensor([0, 0, 0,  ..., 0, 0, 1], dtype=torch.uint8),\n",
              " tensor([0, 0, 0,  ..., 0, 0, 1], dtype=torch.uint8),\n",
              " tensor([0, 0, 0,  ..., 0, 0, 1], dtype=torch.uint8),\n",
              " tensor([0, 0, 0,  ..., 0, 0, 1], dtype=torch.uint8),\n",
              " tensor([0, 0, 0,  ..., 0, 0, 1], dtype=torch.uint8),\n",
              " tensor([0, 0, 0,  ..., 0, 0, 1], dtype=torch.uint8),\n",
              " tensor([0, 0, 0,  ..., 0, 0, 1], dtype=torch.uint8),\n",
              " tensor([0, 0, 0,  ..., 0, 0, 1], dtype=torch.uint8),\n",
              " tensor([0, 0, 0,  ..., 0, 0, 1], dtype=torch.uint8),\n",
              " tensor([0, 0, 0,  ..., 0, 0, 1], dtype=torch.uint8),\n",
              " tensor([0, 0, 0,  ..., 0, 0, 1], dtype=torch.uint8),\n",
              " tensor([0, 0, 0,  ..., 0, 0, 1], dtype=torch.uint8),\n",
              " tensor([0, 0, 0,  ..., 0, 0, 1], dtype=torch.uint8),\n",
              " tensor([0, 0, 0,  ..., 0, 0, 1], dtype=torch.uint8),\n",
              " tensor([0, 0, 0,  ..., 0, 0, 1], dtype=torch.uint8),\n",
              " tensor([0, 0, 0,  ..., 0, 0, 1], dtype=torch.uint8),\n",
              " tensor([0, 0, 0,  ..., 0, 0, 1], dtype=torch.uint8),\n",
              " tensor([0, 0, 0,  ..., 0, 0, 1], dtype=torch.uint8),\n",
              " tensor([0, 0, 0,  ..., 0, 0, 1], dtype=torch.uint8),\n",
              " tensor([0, 0, 0,  ..., 0, 0, 1], dtype=torch.uint8),\n",
              " tensor([0, 0, 0,  ..., 0, 0, 1], dtype=torch.uint8),\n",
              " tensor([0, 0, 0,  ..., 0, 0, 1], dtype=torch.uint8),\n",
              " tensor([0, 0, 0,  ..., 0, 0, 1], dtype=torch.uint8),\n",
              " tensor([0, 0, 0,  ..., 0, 0, 1], dtype=torch.uint8),\n",
              " tensor([0, 0, 0,  ..., 0, 0, 1], dtype=torch.uint8),\n",
              " tensor([0, 0, 0,  ..., 0, 0, 1], dtype=torch.uint8),\n",
              " tensor([0, 0, 0,  ..., 0, 0, 1], dtype=torch.uint8),\n",
              " tensor([0, 0, 0,  ..., 0, 0, 1], dtype=torch.uint8),\n",
              " tensor([0, 0, 0,  ..., 0, 0, 1], dtype=torch.uint8),\n",
              " tensor([0, 0, 0,  ..., 0, 0, 1], dtype=torch.uint8),\n",
              " tensor([0, 0, 0,  ..., 0, 0, 1], dtype=torch.uint8),\n",
              " tensor([0, 0, 0,  ..., 0, 0, 1], dtype=torch.uint8),\n",
              " tensor([0, 0, 0,  ..., 0, 0, 1], dtype=torch.uint8),\n",
              " tensor([0, 0, 0,  ..., 0, 0, 1], dtype=torch.uint8),\n",
              " tensor([0, 0, 0,  ..., 0, 0, 1], dtype=torch.uint8),\n",
              " tensor([0, 0, 0,  ..., 0, 0, 1], dtype=torch.uint8),\n",
              " tensor([0, 0, 0,  ..., 0, 0, 1], dtype=torch.uint8),\n",
              " tensor([0, 0, 0,  ..., 0, 0, 1], dtype=torch.uint8),\n",
              " tensor([0, 0, 0,  ..., 0, 0, 1], dtype=torch.uint8),\n",
              " tensor([0, 0, 0,  ..., 0, 0, 1], dtype=torch.uint8),\n",
              " tensor([0, 0, 0,  ..., 0, 0, 1], dtype=torch.uint8),\n",
              " tensor([0, 0, 0,  ..., 0, 0, 1], dtype=torch.uint8),\n",
              " tensor([0, 0, 0,  ..., 0, 0, 1], dtype=torch.uint8),\n",
              " tensor([0, 0, 0,  ..., 0, 0, 1], dtype=torch.uint8),\n",
              " tensor([0, 0, 0,  ..., 0, 0, 1], dtype=torch.uint8),\n",
              " tensor([0, 0, 0,  ..., 0, 0, 1], dtype=torch.uint8),\n",
              " tensor([0, 0, 0,  ..., 0, 0, 1], dtype=torch.uint8),\n",
              " tensor([0, 0, 0,  ..., 0, 0, 1], dtype=torch.uint8),\n",
              " tensor([0, 0, 0,  ..., 0, 0, 1], dtype=torch.uint8),\n",
              " tensor([0, 0, 0,  ..., 0, 0, 1], dtype=torch.uint8),\n",
              " tensor([0, 0, 0,  ..., 0, 0, 1], dtype=torch.uint8),\n",
              " tensor([0, 0, 0,  ..., 0, 0, 1], dtype=torch.uint8),\n",
              " tensor([0, 0, 0,  ..., 0, 0, 1], dtype=torch.uint8),\n",
              " tensor([0, 0, 0,  ..., 0, 0, 1], dtype=torch.uint8),\n",
              " tensor([0, 0, 0,  ..., 0, 0, 1], dtype=torch.uint8),\n",
              " tensor([0, 0, 0,  ..., 0, 0, 1], dtype=torch.uint8),\n",
              " tensor([0, 0, 0,  ..., 0, 0, 1], dtype=torch.uint8),\n",
              " tensor([0, 0, 0,  ..., 0, 0, 1], dtype=torch.uint8),\n",
              " tensor([0, 0, 0,  ..., 0, 0, 1], dtype=torch.uint8),\n",
              " tensor([0, 0, 0,  ..., 0, 0, 1], dtype=torch.uint8),\n",
              " tensor([0, 0, 0,  ..., 0, 0, 1], dtype=torch.uint8),\n",
              " tensor([0, 0, 0,  ..., 0, 0, 1], dtype=torch.uint8),\n",
              " tensor([0, 0, 0,  ..., 0, 0, 1], dtype=torch.uint8),\n",
              " tensor([0, 0, 0,  ..., 0, 0, 1], dtype=torch.uint8),\n",
              " tensor([0, 0, 0,  ..., 0, 0, 1], dtype=torch.uint8),\n",
              " tensor([0, 0, 0,  ..., 0, 0, 1], dtype=torch.uint8),\n",
              " tensor([0, 0, 0,  ..., 0, 0, 1], dtype=torch.uint8),\n",
              " tensor([0, 0, 0,  ..., 0, 0, 1], dtype=torch.uint8),\n",
              " tensor([0, 0, 0,  ..., 0, 0, 1], dtype=torch.uint8),\n",
              " tensor([0, 0, 0,  ..., 0, 0, 1], dtype=torch.uint8),\n",
              " tensor([0, 0, 0,  ..., 0, 0, 1], dtype=torch.uint8),\n",
              " tensor([0, 0, 0,  ..., 0, 0, 1], dtype=torch.uint8),\n",
              " tensor([0, 0, 0,  ..., 0, 0, 1], dtype=torch.uint8),\n",
              " tensor([0, 0, 0,  ..., 0, 0, 1], dtype=torch.uint8),\n",
              " tensor([0, 0, 0,  ..., 0, 0, 1], dtype=torch.uint8),\n",
              " tensor([0, 0, 0,  ..., 0, 0, 1], dtype=torch.uint8),\n",
              " tensor([0, 0, 0,  ..., 0, 0, 1], dtype=torch.uint8),\n",
              " tensor([0, 0, 0,  ..., 0, 0, 1], dtype=torch.uint8),\n",
              " tensor([0, 0, 0,  ..., 0, 0, 1], dtype=torch.uint8),\n",
              " tensor([0, 0, 0,  ..., 0, 0, 1], dtype=torch.uint8),\n",
              " tensor([0, 0, 0,  ..., 0, 0, 1], dtype=torch.uint8),\n",
              " tensor([0, 0, 0,  ..., 0, 0, 1], dtype=torch.uint8),\n",
              " tensor([0, 0, 0,  ..., 0, 0, 1], dtype=torch.uint8),\n",
              " tensor([0, 0, 0,  ..., 0, 0, 1], dtype=torch.uint8),\n",
              " tensor([0, 0, 0,  ..., 0, 0, 1], dtype=torch.uint8),\n",
              " tensor([0, 0, 0,  ..., 0, 0, 1], dtype=torch.uint8),\n",
              " tensor([0, 0, 0,  ..., 0, 0, 1], dtype=torch.uint8),\n",
              " tensor([0, 0, 0,  ..., 0, 0, 1], dtype=torch.uint8),\n",
              " tensor([0, 0, 0,  ..., 0, 0, 1], dtype=torch.uint8),\n",
              " tensor([0, 0, 0,  ..., 0, 0, 1], dtype=torch.uint8),\n",
              " tensor([0, 0, 0,  ..., 0, 0, 1], dtype=torch.uint8),\n",
              " tensor([0, 0, 0,  ..., 0, 0, 1], dtype=torch.uint8),\n",
              " tensor([0, 0, 0,  ..., 0, 0, 1], dtype=torch.uint8),\n",
              " tensor([0, 0, 0,  ..., 0, 0, 1], dtype=torch.uint8),\n",
              " tensor([0, 0, 0,  ..., 0, 0, 1], dtype=torch.uint8),\n",
              " tensor([0, 0, 0,  ..., 0, 0, 1], dtype=torch.uint8),\n",
              " tensor([0, 0, 0,  ..., 0, 0, 1], dtype=torch.uint8),\n",
              " tensor([0, 0, 0,  ..., 0, 0, 1], dtype=torch.uint8),\n",
              " tensor([0, 0, 0,  ..., 0, 0, 1], dtype=torch.uint8),\n",
              " tensor([0, 0, 0,  ..., 0, 0, 1], dtype=torch.uint8),\n",
              " tensor([0, 0, 0,  ..., 0, 0, 1], dtype=torch.uint8),\n",
              " tensor([0, 0, 0,  ..., 0, 0, 1], dtype=torch.uint8),\n",
              " tensor([0, 0, 0,  ..., 0, 0, 1], dtype=torch.uint8),\n",
              " tensor([0, 0, 0,  ..., 0, 0, 1], dtype=torch.uint8),\n",
              " tensor([0, 0, 0,  ..., 0, 0, 1], dtype=torch.uint8),\n",
              " tensor([0, 0, 0,  ..., 0, 0, 1], dtype=torch.uint8),\n",
              " tensor([0, 0, 0,  ..., 0, 0, 1], dtype=torch.uint8),\n",
              " tensor([0, 0, 0,  ..., 0, 0, 1], dtype=torch.uint8),\n",
              " tensor([0, 0, 0,  ..., 0, 0, 1], dtype=torch.uint8),\n",
              " tensor([0, 0, 0,  ..., 0, 0, 1], dtype=torch.uint8),\n",
              " tensor([0, 0, 0,  ..., 0, 0, 1], dtype=torch.uint8),\n",
              " tensor([0, 0, 0,  ..., 0, 0, 1], dtype=torch.uint8),\n",
              " tensor([0, 0, 0,  ..., 0, 0, 1], dtype=torch.uint8),\n",
              " tensor([0, 0, 0,  ..., 0, 0, 1], dtype=torch.uint8),\n",
              " tensor([0, 0, 0,  ..., 0, 0, 1], dtype=torch.uint8),\n",
              " tensor([0, 0, 0,  ..., 0, 0, 1], dtype=torch.uint8),\n",
              " tensor([0, 0, 0,  ..., 0, 0, 1], dtype=torch.uint8),\n",
              " tensor([0, 0, 0,  ..., 0, 0, 1], dtype=torch.uint8),\n",
              " tensor([0, 0, 0,  ..., 0, 0, 1], dtype=torch.uint8),\n",
              " tensor([0, 0, 0,  ..., 0, 0, 1], dtype=torch.uint8),\n",
              " tensor([0, 0, 0,  ..., 0, 0, 1], dtype=torch.uint8),\n",
              " tensor([0, 0, 0,  ..., 0, 0, 1], dtype=torch.uint8),\n",
              " tensor([0, 0, 0,  ..., 0, 0, 1], dtype=torch.uint8),\n",
              " tensor([0, 0, 0,  ..., 0, 0, 1], dtype=torch.uint8),\n",
              " tensor([0, 0, 0,  ..., 0, 0, 1], dtype=torch.uint8),\n",
              " tensor([0, 0, 0,  ..., 0, 0, 1], dtype=torch.uint8),\n",
              " tensor([0, 0, 0,  ..., 0, 0, 1], dtype=torch.uint8),\n",
              " tensor([0, 0, 0,  ..., 0, 0, 1], dtype=torch.uint8),\n",
              " tensor([0, 0, 0,  ..., 0, 0, 1], dtype=torch.uint8),\n",
              " tensor([0, 0, 0,  ..., 0, 0, 1], dtype=torch.uint8),\n",
              " tensor([0, 0, 0,  ..., 0, 0, 1], dtype=torch.uint8),\n",
              " tensor([0, 0, 0,  ..., 0, 0, 1], dtype=torch.uint8),\n",
              " tensor([0, 0, 0,  ..., 0, 0, 1], dtype=torch.uint8),\n",
              " tensor([0, 0, 0,  ..., 0, 0, 1], dtype=torch.uint8),\n",
              " tensor([0, 0, 0,  ..., 0, 0, 1], dtype=torch.uint8),\n",
              " tensor([0, 0, 0,  ..., 0, 0, 1], dtype=torch.uint8),\n",
              " tensor([0, 0, 0,  ..., 0, 0, 1], dtype=torch.uint8),\n",
              " tensor([0, 0, 0,  ..., 0, 0, 1], dtype=torch.uint8),\n",
              " tensor([0, 0, 0,  ..., 0, 0, 1], dtype=torch.uint8),\n",
              " tensor([0, 0, 0,  ..., 0, 0, 1], dtype=torch.uint8),\n",
              " tensor([0, 0, 0,  ..., 0, 0, 1], dtype=torch.uint8),\n",
              " tensor([0, 0, 0,  ..., 0, 0, 1], dtype=torch.uint8),\n",
              " tensor([0, 0, 0,  ..., 0, 0, 1], dtype=torch.uint8),\n",
              " tensor([0, 0, 0,  ..., 0, 0, 1], dtype=torch.uint8),\n",
              " tensor([0, 0, 0,  ..., 0, 0, 1], dtype=torch.uint8),\n",
              " tensor([0, 0, 0,  ..., 0, 0, 1], dtype=torch.uint8),\n",
              " tensor([0, 0, 0,  ..., 0, 0, 1], dtype=torch.uint8),\n",
              " tensor([0, 0, 0,  ..., 0, 0, 1], dtype=torch.uint8),\n",
              " tensor([0, 0, 0,  ..., 0, 0, 1], dtype=torch.uint8),\n",
              " tensor([0, 0, 0,  ..., 0, 0, 1], dtype=torch.uint8),\n",
              " tensor([0, 0, 0,  ..., 0, 0, 1], dtype=torch.uint8),\n",
              " tensor([0, 0, 0,  ..., 0, 0, 1], dtype=torch.uint8),\n",
              " tensor([0, 0, 0,  ..., 0, 0, 1], dtype=torch.uint8),\n",
              " tensor([0, 0, 0,  ..., 0, 0, 1], dtype=torch.uint8),\n",
              " tensor([0, 0, 0,  ..., 0, 0, 1], dtype=torch.uint8),\n",
              " tensor([0, 0, 0,  ..., 0, 0, 1], dtype=torch.uint8),\n",
              " tensor([0, 0, 0,  ..., 0, 0, 1], dtype=torch.uint8),\n",
              " ...]"
            ]
          },
          "metadata": {
            "tags": []
          },
          "execution_count": 27
        }
      ]
    },
    {
      "cell_type": "code",
      "metadata": {
        "id": "n4RDiO5gG-VL",
        "colab_type": "code",
        "colab": {}
      },
      "source": [
        ""
      ],
      "execution_count": 0,
      "outputs": []
    }
  ]
}