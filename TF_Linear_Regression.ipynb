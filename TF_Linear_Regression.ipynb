{
 "cells": [
  {
   "cell_type": "markdown",
   "metadata": {
    "toc": true
   },
   "source": [
    "<h1>Table of Contents<span class=\"tocSkip\"></span></h1>\n",
    "<div class=\"toc\"><ul class=\"toc-item\"><li><span><a href=\"#Linear-Regression\" data-toc-modified-id=\"Linear-Regression-1\"><span class=\"toc-item-num\">1&nbsp;&nbsp;</span>Linear Regression</a></span></li><li><span><a href=\"#Overview\" data-toc-modified-id=\"Overview-2\"><span class=\"toc-item-num\">2&nbsp;&nbsp;</span>Overview</a></span></li><li><span><a href=\"#Generate-data\" data-toc-modified-id=\"Generate-data-3\"><span class=\"toc-item-num\">3&nbsp;&nbsp;</span>Generate data</a></span></li><li><span><a href=\"#NumPy\" data-toc-modified-id=\"NumPy-4\"><span class=\"toc-item-num\">4&nbsp;&nbsp;</span>NumPy</a></span><ul class=\"toc-item\"><li><span><a href=\"#Split-data\" data-toc-modified-id=\"Split-data-4.1\"><span class=\"toc-item-num\">4.1&nbsp;&nbsp;</span>Split data</a></span></li><li><span><a href=\"#Standardize-data\" data-toc-modified-id=\"Standardize-data-4.2\"><span class=\"toc-item-num\">4.2&nbsp;&nbsp;</span>Standardize data</a></span></li><li><span><a href=\"#Weights\" data-toc-modified-id=\"Weights-4.3\"><span class=\"toc-item-num\">4.3&nbsp;&nbsp;</span>Weights</a></span></li><li><span><a href=\"#Model\" data-toc-modified-id=\"Model-4.4\"><span class=\"toc-item-num\">4.4&nbsp;&nbsp;</span>Model</a></span></li><li><span><a href=\"#Loss\" data-toc-modified-id=\"Loss-4.5\"><span class=\"toc-item-num\">4.5&nbsp;&nbsp;</span>Loss</a></span></li><li><span><a href=\"#Gradients\" data-toc-modified-id=\"Gradients-4.6\"><span class=\"toc-item-num\">4.6&nbsp;&nbsp;</span>Gradients</a></span></li><li><span><a href=\"#Update-weights\" data-toc-modified-id=\"Update-weights-4.7\"><span class=\"toc-item-num\">4.7&nbsp;&nbsp;</span>Update weights</a></span></li><li><span><a href=\"#Training\" data-toc-modified-id=\"Training-4.8\"><span class=\"toc-item-num\">4.8&nbsp;&nbsp;</span>Training</a></span></li><li><span><a href=\"#Evaluation\" data-toc-modified-id=\"Evaluation-4.9\"><span class=\"toc-item-num\">4.9&nbsp;&nbsp;</span>Evaluation</a></span></li><li><span><a href=\"#Interpretability\" data-toc-modified-id=\"Interpretability-4.10\"><span class=\"toc-item-num\">4.10&nbsp;&nbsp;</span>Interpretability</a></span></li></ul></li><li><span><a href=\"#TensorFlow\" data-toc-modified-id=\"TensorFlow-5\"><span class=\"toc-item-num\">5&nbsp;&nbsp;</span>TensorFlow</a></span><ul class=\"toc-item\"><li><span><a href=\"#Split-data\" data-toc-modified-id=\"Split-data-5.1\"><span class=\"toc-item-num\">5.1&nbsp;&nbsp;</span>Split data</a></span></li><li><span><a href=\"#Standardize-data\" data-toc-modified-id=\"Standardize-data-5.2\"><span class=\"toc-item-num\">5.2&nbsp;&nbsp;</span>Standardize data</a></span></li><li><span><a href=\"#Weights\" data-toc-modified-id=\"Weights-5.3\"><span class=\"toc-item-num\">5.3&nbsp;&nbsp;</span>Weights</a></span></li><li><span><a href=\"#Model\" data-toc-modified-id=\"Model-5.4\"><span class=\"toc-item-num\">5.4&nbsp;&nbsp;</span>Model</a></span></li><li><span><a href=\"#Loss\" data-toc-modified-id=\"Loss-5.5\"><span class=\"toc-item-num\">5.5&nbsp;&nbsp;</span>Loss</a></span></li><li><span><a href=\"#Training\" data-toc-modified-id=\"Training-5.6\"><span class=\"toc-item-num\">5.6&nbsp;&nbsp;</span>Training</a></span></li><li><span><a href=\"#Evaluation\" data-toc-modified-id=\"Evaluation-5.7\"><span class=\"toc-item-num\">5.7&nbsp;&nbsp;</span>Evaluation</a></span></li><li><span><a href=\"#Interpretability\" data-toc-modified-id=\"Interpretability-5.8\"><span class=\"toc-item-num\">5.8&nbsp;&nbsp;</span>Interpretability</a></span></li></ul></li><li><span><a href=\"#TensorFlow-+-Keras\" data-toc-modified-id=\"TensorFlow-+-Keras-6\"><span class=\"toc-item-num\">6&nbsp;&nbsp;</span>TensorFlow + Keras</a></span><ul class=\"toc-item\"><li><span><a href=\"#Weights\" data-toc-modified-id=\"Weights-6.1\"><span class=\"toc-item-num\">6.1&nbsp;&nbsp;</span>Weights</a></span></li><li><span><a href=\"#Model\" data-toc-modified-id=\"Model-6.2\"><span class=\"toc-item-num\">6.2&nbsp;&nbsp;</span>Model</a></span></li><li><span><a href=\"#Loss\" data-toc-modified-id=\"Loss-6.3\"><span class=\"toc-item-num\">6.3&nbsp;&nbsp;</span>Loss</a></span></li><li><span><a href=\"#Metrics\" data-toc-modified-id=\"Metrics-6.4\"><span class=\"toc-item-num\">6.4&nbsp;&nbsp;</span>Metrics</a></span></li><li><span><a href=\"#Optimizer\" data-toc-modified-id=\"Optimizer-6.5\"><span class=\"toc-item-num\">6.5&nbsp;&nbsp;</span>Optimizer</a></span></li><li><span><a href=\"#Training\" data-toc-modified-id=\"Training-6.6\"><span class=\"toc-item-num\">6.6&nbsp;&nbsp;</span>Training</a></span></li><li><span><a href=\"#Evaluation\" data-toc-modified-id=\"Evaluation-6.7\"><span class=\"toc-item-num\">6.7&nbsp;&nbsp;</span>Evaluation</a></span></li><li><span><a href=\"#Inference\" data-toc-modified-id=\"Inference-6.8\"><span class=\"toc-item-num\">6.8&nbsp;&nbsp;</span>Inference</a></span></li><li><span><a href=\"#Interpretability\" data-toc-modified-id=\"Interpretability-6.9\"><span class=\"toc-item-num\">6.9&nbsp;&nbsp;</span>Interpretability</a></span></li></ul></li><li><span><a href=\"#Regularization\" data-toc-modified-id=\"Regularization-7\"><span class=\"toc-item-num\">7&nbsp;&nbsp;</span>Regularization</a></span></li></ul></div>"
   ]
  },
  {
   "cell_type": "markdown",
   "metadata": {
    "colab_type": "text",
    "id": "7nDdR3N2R2PJ"
   },
   "source": [
    "# Linear Regression\n",
    "\n",
    "In this lesson we will learn about linear regression. We will understand the basic math behind it, implement it in just NumPy and then in native [TensorFlow](https://www.tensorflow.org/install) and then with Keras."
   ]
  },
  {
   "cell_type": "markdown",
   "metadata": {
    "colab_type": "text",
    "id": "Izx6GIn_SETR"
   },
   "source": [
    "<div align=\"left\">\n",
    "<a href=\"https://github.com/madewithml/basics/blob/master/notebooks/07_Linear_Regression/07_TF_Linear_Regression.ipynb\" role=\"button\"><img class=\"notebook-badge-image\" src=\"https://img.shields.io/static/v1?label=&amp;message=View%20On%20GitHub&amp;color=586069&amp;logo=github&amp;labelColor=2f363d\"></a>&nbsp;\n",
    "<a href=\"https://colab.research.google.com/github/madewithml/basics/blob/master/notebooks/07_Linear_Regression/07_TF_Linear_Regression.ipynb\"><img class=\"notebook-badge-image\" src=\"https://colab.research.google.com/assets/colab-badge.svg\" alt=\"Open In Colab\"></a>\n",
    "</div>"
   ]
  },
  {
   "cell_type": "markdown",
   "metadata": {
    "colab_type": "text",
    "id": "NGE2LxIQuSRa"
   },
   "source": [
    "# Overview"
   ]
  },
  {
   "cell_type": "markdown",
   "metadata": {
    "colab_type": "text",
    "id": "Hi-KdxD_uSln"
   },
   "source": [
    "Our goal is to learn a linear model $\\hat{y}$ that models $y$ given $X$. \n",
    "\n",
    "$\\hat{y} = XW + b$\n",
    "* $\\hat{y}$ = predictions | $\\in \\mathbb{R}^{NX1}$ ($N$ is the number of samples)\n",
    "* $X$ = inputs | $\\in \\mathbb{R}^{NXD}$ ($D$ is the number of features)\n",
    "* $W$ = weights | $\\in \\mathbb{R}^{DX1}$ \n",
    "* $b$ = bias | $\\in \\mathbb{R}^{1}$ "
   ]
  },
  {
   "cell_type": "markdown",
   "metadata": {
    "colab_type": "text",
    "id": "DxOri3K3uSsB"
   },
   "source": [
    "* **Objective:**  Use inputs $X$ to predict the output $\\hat{y}$ using a linear model. The model will be a line of best fit that minimizes the distance between the predicted (model's output) and target (ground truth) values. Training data $(X, y)$ is used to train the model and learn the weights $W$ using gradient descent.\n",
    "* **Advantages:**\n",
    "  * Computationally simple.\n",
    "  * Highly interpretable.\n",
    "  * Can account for continuous and categorical features.\n",
    "* **Disadvantages:**\n",
    "  * The model will perform well only when the data is linearly separable (for classification).\n",
    "  * Usually not used for classification and only for regression.\n",
    "* **Miscellaneous:** You can also use linear regression for binary classification tasks where if the predicted continuous value is above a threshold, it belongs to a certain class. But we will cover better techniques for classification in future lessons and will focus on linear regression for continuous regression tasks only.\n"
   ]
  },
  {
   "cell_type": "markdown",
   "metadata": {
    "colab_type": "text",
    "id": "G8EkjWiKd68P"
   },
   "source": [
    "# Generate data"
   ]
  },
  {
   "cell_type": "markdown",
   "metadata": {
    "colab_type": "text",
    "id": "2u0wnvwWgjmT"
   },
   "source": [
    "We're going to create some simple dummy data to apply linear regression on. It's going to create roughly linear data (`y = 3.5X + noise`); the random noise is added to create realistic data that doesn't perfectly align in a line. Our goal is to have the model converge to a similar linear equation (there will be slight variance since we added some noise)."
   ]
  },
  {
   "cell_type": "code",
   "execution_count": 2,
   "metadata": {
    "colab": {},
    "colab_type": "code",
    "id": "a39zl86Fg1CL"
   },
   "outputs": [],
   "source": [
    "import numpy as np\n",
    "import pandas as pd\n",
    "import matplotlib.pyplot as plt"
   ]
  },
  {
   "cell_type": "code",
   "execution_count": 3,
   "metadata": {
    "colab": {},
    "colab_type": "code",
    "id": "9rUjxlhvhzIR"
   },
   "outputs": [],
   "source": [
    "SEED = 42\n",
    "NUM_SAMPLES = 100"
   ]
  },
  {
   "cell_type": "code",
   "execution_count": 4,
   "metadata": {
    "colab": {},
    "colab_type": "code",
    "id": "OOT0wOiZX9eJ"
   },
   "outputs": [],
   "source": [
    "# Set seed for reproducibility\n",
    "np.random.seed(SEED)"
   ]
  },
  {
   "cell_type": "code",
   "execution_count": 9,
   "metadata": {
    "colab": {},
    "colab_type": "code",
    "id": "vCcF_QkYdozl"
   },
   "outputs": [],
   "source": [
    "# Generate synthetic data\n",
    "def generate_data(num_samples):\n",
    "    \"\"\"Generate dummy data for linear regression.\"\"\"\n",
    "    X = np.array(range(num_samples))\n",
    "    random_noise = np.random.normal(0, 50, size=num_samples)\n",
    "    y = 3.5 * X + random_noise # add some noise\n",
    "    return X, y"
   ]
  },
  {
   "cell_type": "code",
   "execution_count": 10,
   "metadata": {
    "colab": {
     "base_uri": "https://localhost:8080/",
     "height": 102
    },
    "colab_type": "code",
    "executionInfo": {
     "elapsed": 1272,
     "status": "ok",
     "timestamp": 1583941044634,
     "user": {
      "displayName": "Goku Mohandas",
      "photoUrl": "https://lh3.googleusercontent.com/a-/AOh14GjMIOf3R_zwS_zZx4ZyPMtQe0lOkGpPOEUEKWpM7g=s64",
      "userId": "00378334517810298963"
     },
     "user_tz": 420
    },
    "id": "kzSANn29g36a",
    "outputId": "673ac2b9-ce37-48e1-f96f-49b5b0ae9b3d"
   },
   "outputs": [
    {
     "name": "stdout",
     "output_type": "stream",
     "text": [
      "[[  0.         -70.7685371 ]\n",
      " [  1.         -17.53226614]\n",
      " [  2.         -10.13572583]\n",
      " [  3.         -29.61386346]\n",
      " [  4.           5.93571442]]\n"
     ]
    }
   ],
   "source": [
    "# Generate random (linear) data\n",
    "X, y = generate_data(num_samples=NUM_SAMPLES)\n",
    "data = np.vstack([X, y]).T\n",
    "print (data[:5])"
   ]
  },
  {
   "cell_type": "code",
   "execution_count": 11,
   "metadata": {
    "colab": {
     "base_uri": "https://localhost:8080/",
     "height": 204
    },
    "colab_type": "code",
    "executionInfo": {
     "elapsed": 816,
     "status": "ok",
     "timestamp": 1583941044634,
     "user": {
      "displayName": "Goku Mohandas",
      "photoUrl": "https://lh3.googleusercontent.com/a-/AOh14GjMIOf3R_zwS_zZx4ZyPMtQe0lOkGpPOEUEKWpM7g=s64",
      "userId": "00378334517810298963"
     },
     "user_tz": 420
    },
    "id": "4ckWsUsKhCDC",
    "outputId": "241ced6f-f885-4e1e-8944-eecea65e5367"
   },
   "outputs": [
    {
     "data": {
      "text/html": [
       "<div>\n",
       "<style scoped>\n",
       "    .dataframe tbody tr th:only-of-type {\n",
       "        vertical-align: middle;\n",
       "    }\n",
       "\n",
       "    .dataframe tbody tr th {\n",
       "        vertical-align: top;\n",
       "    }\n",
       "\n",
       "    .dataframe thead th {\n",
       "        text-align: right;\n",
       "    }\n",
       "</style>\n",
       "<table border=\"1\" class=\"dataframe\">\n",
       "  <thead>\n",
       "    <tr style=\"text-align: right;\">\n",
       "      <th></th>\n",
       "      <th>X</th>\n",
       "      <th>y</th>\n",
       "    </tr>\n",
       "  </thead>\n",
       "  <tbody>\n",
       "    <tr>\n",
       "      <th>0</th>\n",
       "      <td>0.0</td>\n",
       "      <td>-70.768537</td>\n",
       "    </tr>\n",
       "    <tr>\n",
       "      <th>1</th>\n",
       "      <td>1.0</td>\n",
       "      <td>-17.532266</td>\n",
       "    </tr>\n",
       "    <tr>\n",
       "      <th>2</th>\n",
       "      <td>2.0</td>\n",
       "      <td>-10.135726</td>\n",
       "    </tr>\n",
       "    <tr>\n",
       "      <th>3</th>\n",
       "      <td>3.0</td>\n",
       "      <td>-29.613863</td>\n",
       "    </tr>\n",
       "    <tr>\n",
       "      <th>4</th>\n",
       "      <td>4.0</td>\n",
       "      <td>5.935714</td>\n",
       "    </tr>\n",
       "  </tbody>\n",
       "</table>\n",
       "</div>"
      ],
      "text/plain": [
       "     X          y\n",
       "0  0.0 -70.768537\n",
       "1  1.0 -17.532266\n",
       "2  2.0 -10.135726\n",
       "3  3.0 -29.613863\n",
       "4  4.0   5.935714"
      ]
     },
     "execution_count": 11,
     "metadata": {},
     "output_type": "execute_result"
    }
   ],
   "source": [
    "# Load into a Pandas DataFrame\n",
    "df = pd.DataFrame(data, columns=['X', 'y'])\n",
    "X = df[['X']].values\n",
    "y = df[['y']].values\n",
    "df.head()"
   ]
  },
  {
   "cell_type": "code",
   "execution_count": 12,
   "metadata": {
    "colab": {
     "base_uri": "https://localhost:8080/",
     "height": 281
    },
    "colab_type": "code",
    "executionInfo": {
     "elapsed": 1424,
     "status": "ok",
     "timestamp": 1583941045727,
     "user": {
      "displayName": "Goku Mohandas",
      "photoUrl": "https://lh3.googleusercontent.com/a-/AOh14GjMIOf3R_zwS_zZx4ZyPMtQe0lOkGpPOEUEKWpM7g=s64",
      "userId": "00378334517810298963"
     },
     "user_tz": 420
    },
    "id": "qh3z65QXhCj5",
    "outputId": "0623b0a1-d729-4784-9238-d2f2471c92b3"
   },
   "outputs": [
    {
     "data": {
      "image/png": "[encoded data removed]",
      "text/plain": [
       "<Figure size 432x288 with 1 Axes>"
      ]
     },
     "metadata": {
      "needs_background": "light"
     },
     "output_type": "display_data"
    }
   ],
   "source": [
    "# Scatter plot\n",
    "plt.title(\"Generated data\")\n",
    "plt.scatter(x=df['X'], y=df['y'])\n",
    "plt.grid()\n",
    "plt.show()"
   ]
  },
  {
   "cell_type": "markdown",
   "metadata": {
    "colab_type": "text",
    "id": "Myxvm0YWlppI"
   },
   "source": [
    "# NumPy"
   ]
  },
  {
   "cell_type": "markdown",
   "metadata": {
    "colab_type": "text",
    "id": "aHhypQvalsTd"
   },
   "source": [
    "Now that we have our data prepared, we'll first implement linear regression using just NumPy. This will let us really understand the underlying operations."
   ]
  },
  {
   "cell_type": "markdown",
   "metadata": {
    "colab_type": "text",
    "id": "kzjHPncuQpuE"
   },
   "source": [
    "## Split data"
   ]
  },
  {
   "cell_type": "markdown",
   "metadata": {
    "colab_type": "text",
    "id": "ElbTBdP8Q6k5"
   },
   "source": [
    "Since our task is a regression task, we will randomly split our dataset into **three** sets: train, validation and test data splits.\n",
    "\n",
    "* train: used to train our model.\n",
    "* val : used to validate our model's performance during training.\n",
    "* test: used to do an evaluation of our fully trained model."
   ]
  },
  {
   "cell_type": "code",
   "execution_count": 13,
   "metadata": {
    "colab": {},
    "colab_type": "code",
    "id": "rrTd9wP9Qv2_"
   },
   "outputs": [],
   "source": [
    "TRAIN_SIZE = 0.7\n",
    "VAL_SIZE = 0.15\n",
    "TEST_SIZE = 0.15\n",
    "SHUFFLE = True"
   ]
  },
  {
   "cell_type": "code",
   "execution_count": 14,
   "metadata": {
    "colab": {},
    "colab_type": "code",
    "id": "w3cWO_EwRC72"
   },
   "outputs": [],
   "source": [
    "# Shuffle data\n",
    "if SHUFFLE:\n",
    "    indices = list(range(NUM_SAMPLES))\n",
    "    np.random.shuffle(indices)\n",
    "    X = X[indices]\n",
    "    y = y[indices]"
   ]
  },
  {
   "cell_type": "markdown",
   "metadata": {
    "colab_type": "text",
    "id": "mhnoMWg_gZme"
   },
   "source": [
    "**NOTE**: Be careful not to shuffle X and y separately because then the inputs won't correspond to the outputs!"
   ]
  },
  {
   "cell_type": "code",
   "execution_count": 15,
   "metadata": {
    "colab": {},
    "colab_type": "code",
    "id": "CfmqoOyIRUop"
   },
   "outputs": [],
   "source": [
    "# Split indices\n",
    "train_start = 0\n",
    "train_end = int(0.7*NUM_SAMPLES)\n",
    "val_start = train_end\n",
    "val_end = int((TRAIN_SIZE+VAL_SIZE)*NUM_SAMPLES)\n",
    "test_start = val_end"
   ]
  },
  {
   "cell_type": "code",
   "execution_count": 16,
   "metadata": {
    "colab": {
     "base_uri": "https://localhost:8080/",
     "height": 68
    },
    "colab_type": "code",
    "executionInfo": {
     "elapsed": 551,
     "status": "ok",
     "timestamp": 1583941051045,
     "user": {
      "displayName": "Goku Mohandas",
      "photoUrl": "https://lh3.googleusercontent.com/a-/AOh14GjMIOf3R_zwS_zZx4ZyPMtQe0lOkGpPOEUEKWpM7g=s64",
      "userId": "00378334517810298963"
     },
     "user_tz": 420
    },
    "id": "F8JKSPgXSBf6",
    "outputId": "d2d9263c-0df1-459a-e368-20b1e94ce6de"
   },
   "outputs": [
    {
     "name": "stdout",
     "output_type": "stream",
     "text": [
      "X_train: (70, 1), y_train: (70, 1)\n",
      "X_val: (15, 1), y_test: (15, 1)\n",
      "X_test: (15, 1), y_test: (15, 1)\n"
     ]
    }
   ],
   "source": [
    "# Split data\n",
    "X_train = X[train_start:train_end]\n",
    "y_train = y[train_start:train_end]\n",
    "X_val = X[val_start:val_end]\n",
    "y_val = y[val_start:val_end]\n",
    "X_test = X[test_start:]\n",
    "y_test = y[test_start:]\n",
    "print (f\"X_train: {X_train.shape}, y_train: {y_train.shape}\")\n",
    "print (f\"X_val: {X_val.shape}, y_test: {y_val.shape}\")\n",
    "print (f\"X_test: {X_test.shape}, y_test: {y_test.shape}\")"
   ]
  },
  {
   "cell_type": "markdown",
   "metadata": {
    "colab_type": "text",
    "id": "ok62daFIQv9x"
   },
   "source": [
    "## Standardize data"
   ]
  },
  {
   "cell_type": "markdown",
   "metadata": {
    "colab_type": "text",
    "id": "0pQweIQuUTpl"
   },
   "source": [
    "We need to standardize our data (zero mean and unit variance) or our models can optimize quickly when we are training.\n",
    "\\begin{eqnarray*}\n",
    "z = \\frac{x_i - \\mu}{\\sigma}\n",
    "\\end{eqnarray*}\n",
    "* $z$ = standardized value\n",
    "* $x_i$ = inputs\n",
    "* $\\mu$ = mean\n",
    "* $\\sigma$ = standard deviation"
   ]
  },
  {
   "cell_type": "code",
   "execution_count": 17,
   "metadata": {
    "colab": {},
    "colab_type": "code",
    "id": "pM1h8CrbQyTG"
   },
   "outputs": [],
   "source": [
    "def standardize_data(data, mean, std):\n",
    "    return (data - mean)/std"
   ]
  },
  {
   "cell_type": "code",
   "execution_count": 18,
   "metadata": {
    "colab": {},
    "colab_type": "code",
    "id": "HWvKMt2-Ui3G"
   },
   "outputs": [],
   "source": [
    "# Determine means and stds\n",
    "X_mean = np.mean(X_train)\n",
    "X_std = np.std(X_train)\n",
    "y_mean = np.mean(y_train)\n",
    "y_std = np.std(y_train)"
   ]
  },
  {
   "cell_type": "markdown",
   "metadata": {
    "colab_type": "text",
    "id": "XM1EXQFeU3cL"
   },
   "source": [
    "We need to treat the validation and test sets as if they were hidden datasets. So we only use the train set to determine the mean and std to avoid biasing our training process."
   ]
  },
  {
   "cell_type": "code",
   "execution_count": 19,
   "metadata": {
    "colab": {},
    "colab_type": "code",
    "id": "csHkTwpyUvt4"
   },
   "outputs": [],
   "source": [
    "# Standardize\n",
    "X_train = standardize_data(X_train, X_mean, X_std)\n",
    "y_train = standardize_data(y_train, y_mean, y_std)\n",
    "X_val = standardize_data(X_val, X_mean, X_std)\n",
    "y_val = standardize_data(y_val, y_mean, y_std)\n",
    "X_test = standardize_data(X_test, X_mean, X_std)\n",
    "y_test = standardize_data(y_test, y_mean, y_std)"
   ]
  },
  {
   "cell_type": "code",
   "execution_count": 20,
   "metadata": {
    "colab": {
     "base_uri": "https://localhost:8080/",
     "height": 119
    },
    "colab_type": "code",
    "executionInfo": {
     "elapsed": 433,
     "status": "ok",
     "timestamp": 1583941054197,
     "user": {
      "displayName": "Goku Mohandas",
      "photoUrl": "https://lh3.googleusercontent.com/a-/AOh14GjMIOf3R_zwS_zZx4ZyPMtQe0lOkGpPOEUEKWpM7g=s64",
      "userId": "00378334517810298963"
     },
     "user_tz": 420
    },
    "id": "qKkTM0n1V8SN",
    "outputId": "9c23d591-13cb-4746-c99c-e618d9596425"
   },
   "outputs": [
    {
     "name": "stdout",
     "output_type": "stream",
     "text": [
      "X_train: mean: -0.0, std: 1.0\n",
      "y_train: mean: 0.0, std: 1.0\n",
      "X_val: mean: -0.6, std: 0.8\n",
      "y_val: mean: -0.1, std: 0.8\n",
      "X_test: mean: -0.7, std: 0.7\n",
      "y_test: mean: -0.6, std: 0.7\n"
     ]
    }
   ],
   "source": [
    "# Check (means should be ~0 and std should be ~1)\n",
    "print (f\"X_train: mean: {np.mean(X_train, axis=0)[0]:.1f}, std: {np.std(X_train, axis=0)[0]:.1f}\")\n",
    "print (f\"y_train: mean: {np.mean(y_train, axis=0)[0]:.1f}, std: {np.std(y_train, axis=0)[0]:.1f}\")\n",
    "print (f\"X_val: mean: {np.mean(X_val, axis=0)[0]:.1f}, std: {np.std(X_val, axis=0)[0]:.1f}\")\n",
    "print (f\"y_val: mean: {np.mean(y_val, axis=0)[0]:.1f}, std: {np.std(y_val, axis=0)[0]:.1f}\")\n",
    "print (f\"X_test: mean: {np.mean(X_test, axis=0)[0]:.1f}, std: {np.std(X_test, axis=0)[0]:.1f}\")\n",
    "print (f\"y_test: mean: {np.mean(y_test, axis=0)[0]:.1f}, std: {np.std(y_test, axis=0)[0]:.1f}\")"
   ]
  },
  {
   "cell_type": "markdown",
   "metadata": {
    "colab_type": "text",
    "id": "jyqSl8jyQzKz"
   },
   "source": [
    "## Weights"
   ]
  },
  {
   "cell_type": "markdown",
   "metadata": {
    "colab_type": "text",
    "id": "3xQZ0Hbln6TR"
   },
   "source": [
    "Our goal is to learn a linear model $\\hat{y}$ that models $y$ given $X$. \n",
    "\n",
    "$\\hat{y} = XW + b$\n",
    "* $\\hat{y}$ = predictions | $\\in \\mathbb{R}^{NX1}$ ($N$ is the number of samples)\n",
    "* $X$ = inputs | $\\in \\mathbb{R}^{NXD}$ ($D$ is the number of features)\n",
    "* $W$ = weights | $\\in \\mathbb{R}^{DX1}$ \n",
    "* $b$ = bias | $\\in \\mathbb{R}^{1}$ "
   ]
  },
  {
   "cell_type": "markdown",
   "metadata": {
    "colab_type": "text",
    "id": "Baph5j7xn9XE"
   },
   "source": [
    "1. Randomly initialize the model's weights $W$."
   ]
  },
  {
   "cell_type": "code",
   "execution_count": 21,
   "metadata": {
    "colab": {},
    "colab_type": "code",
    "id": "aAOAboM0oFbV"
   },
   "outputs": [],
   "source": [
    "INPUT_DIM = X_train.shape[1] # X is 1-dimensional\n",
    "OUTPUT_DIM = y_train.shape[1] # y is 1-dimensional"
   ]
  },
  {
   "cell_type": "code",
   "execution_count": 22,
   "metadata": {
    "colab": {
     "base_uri": "https://localhost:8080/",
     "height": 51
    },
    "colab_type": "code",
    "executionInfo": {
     "elapsed": 582,
     "status": "ok",
     "timestamp": 1583941057187,
     "user": {
      "displayName": "Goku Mohandas",
      "photoUrl": "https://lh3.googleusercontent.com/a-/AOh14GjMIOf3R_zwS_zZx4ZyPMtQe0lOkGpPOEUEKWpM7g=s64",
      "userId": "00378334517810298963"
     },
     "user_tz": 420
    },
    "id": "chU5n3IgkVci",
    "outputId": "b92e6078-5f46-44d0-8f5b-8609285c5f71"
   },
   "outputs": [
    {
     "name": "stdout",
     "output_type": "stream",
     "text": [
      "W: (1, 1)\n",
      "b: (1, 1)\n"
     ]
    }
   ],
   "source": [
    "# Initialize random weights\n",
    "W = 0.01 * np.random.randn(INPUT_DIM, OUTPUT_DIM)\n",
    "b = np.zeros((1, 1))\n",
    "print (f\"W: {W.shape}\")\n",
    "print (f\"b: {b.shape}\")"
   ]
  },
  {
   "cell_type": "markdown",
   "metadata": {
    "colab_type": "text",
    "id": "_QjDXSXfWv7Y"
   },
   "source": [
    "## Model"
   ]
  },
  {
   "cell_type": "markdown",
   "metadata": {
    "colab_type": "text",
    "id": "tOqP0jrBoMMd"
   },
   "source": [
    "2. Feed inputs $X$ into the model to receive the predictions $\\hat{y}$.\n",
    "  * $\\hat{y} = XW + b$"
   ]
  },
  {
   "cell_type": "code",
   "execution_count": 23,
   "metadata": {
    "colab": {
     "base_uri": "https://localhost:8080/",
     "height": 34
    },
    "colab_type": "code",
    "executionInfo": {
     "elapsed": 413,
     "status": "ok",
     "timestamp": 1583941058638,
     "user": {
      "displayName": "Goku Mohandas",
      "photoUrl": "https://lh3.googleusercontent.com/a-/AOh14GjMIOf3R_zwS_zZx4ZyPMtQe0lOkGpPOEUEKWpM7g=s64",
      "userId": "00378334517810298963"
     },
     "user_tz": 420
    },
    "id": "-TBnfN4mkVa6",
    "outputId": "a9cfb411-3832-4837-ec3d-4da3de82e86b"
   },
   "outputs": [
    {
     "name": "stdout",
     "output_type": "stream",
     "text": [
      "y_pred: (70, 1)\n"
     ]
    }
   ],
   "source": [
    "# Forward pass [NX1] · [1X1] = [NX1]\n",
    "y_pred = np.dot(X_train, W) + b\n",
    "print (f\"y_pred: {y_pred.shape}\")"
   ]
  },
  {
   "cell_type": "markdown",
   "metadata": {
    "colab_type": "text",
    "id": "hcvVc7UkWyMx"
   },
   "source": [
    "## Loss"
   ]
  },
  {
   "cell_type": "markdown",
   "metadata": {
    "colab_type": "text",
    "id": "8EbP8eWUoRqo"
   },
   "source": [
    "3. Compare the predictions $\\hat{y}$ with the actual target values $y$ using the objective (cost) function to determine the loss $J$. A common objective function for linear regression is mean squarred error (MSE). This function calculates the difference between the predicted and target values and squares it.\n",
    "\n",
    "  * $J(\\theta) = MSE = \\frac{1}{N} \\sum_{i-1}^{N} (y_i - \\hat{y}_i)^2 $\n",
    "    * ${y}$ = ground truth | $\\in \\mathbb{R}^{NX1}$\n",
    "    * $\\hat{y}$ = predictions | $\\in \\mathbb{R}^{NX1}$"
   ]
  },
  {
   "cell_type": "code",
   "execution_count": 24,
   "metadata": {
    "colab": {
     "base_uri": "https://localhost:8080/",
     "height": 34
    },
    "colab_type": "code",
    "executionInfo": {
     "elapsed": 495,
     "status": "ok",
     "timestamp": 1583941061922,
     "user": {
      "displayName": "Goku Mohandas",
      "photoUrl": "https://lh3.googleusercontent.com/a-/AOh14GjMIOf3R_zwS_zZx4ZyPMtQe0lOkGpPOEUEKWpM7g=s64",
      "userId": "00378334517810298963"
     },
     "user_tz": 420
    },
    "id": "h30Y6v5FoPBL",
    "outputId": "3b8a3bb4-098b-4faf-cb05-2f5a9ae8b685"
   },
   "outputs": [
    {
     "name": "stdout",
     "output_type": "stream",
     "text": [
      "loss: 1.00\n"
     ]
    }
   ],
   "source": [
    "# Loss\n",
    "N = len(y_train)\n",
    "loss = (1/N) * np.sum((y_train - y_pred)**2)\n",
    "print (f\"loss: {loss:.2f}\")"
   ]
  },
  {
   "cell_type": "markdown",
   "metadata": {
    "colab_type": "text",
    "id": "BbzZqCXLWzuJ"
   },
   "source": [
    "## Gradients"
   ]
  },
  {
   "cell_type": "markdown",
   "metadata": {
    "colab_type": "text",
    "id": "yBdMI-Xxoazo"
   },
   "source": [
    "4. Calculate the gradient of loss $J(\\theta)$ w.r.t to the model weights.\n",
    "  * $J(\\theta) = \\frac{1}{N} \\sum_i (y_i - \\hat{y}_i)^2  = \\frac{1}{N}\\sum_i (y_i - X_iW)^2 $\n",
    "    * $\\frac{\\partial{J}}{\\partial{W}} = -\\frac{2}{N} \\sum_i (y_i - X_iW) X_i = -\\frac{2}{N} \\sum_i (y_i - \\hat{y}_i) X_i$\n",
    "    * $\\frac{\\partial{J}}{\\partial{b}} = -\\frac{2}{N} \\sum_i (y_i - X_iW)1 = -\\frac{2}{N} \\sum_i (y_i - \\hat{y}_i)1$"
   ]
  },
  {
   "cell_type": "code",
   "execution_count": 25,
   "metadata": {
    "colab": {},
    "colab_type": "code",
    "id": "U5zrZ2j4oPYX"
   },
   "outputs": [],
   "source": [
    "# Backpropagation\n",
    "dW = -(2/N) * np.sum((y_train - y_pred) * X_train)\n",
    "db = -(2/N) * np.sum((y_train - y_pred) * 1)"
   ]
  },
  {
   "cell_type": "markdown",
   "metadata": {
    "colab_type": "text",
    "id": "_sIznBOQrFtw"
   },
   "source": [
    "**NOTE**: The gradient is the derivative, or the rate of change of a function. It's a vector that points in the direction of greatest increase of a function. For example the gradient of our loss function ($J$) with respect to our weights ($W$) will tell us how to change W so we can maximize $J$. However, we want to minimize our loss so we subtract the gradient from $W$. "
   ]
  },
  {
   "cell_type": "markdown",
   "metadata": {
    "colab_type": "text",
    "id": "zKyRWE7BXKku"
   },
   "source": [
    "## Update weights"
   ]
  },
  {
   "cell_type": "markdown",
   "metadata": {
    "colab_type": "text",
    "id": "4Hs2ikYNpSSd"
   },
   "source": [
    "5. Update the weights $W$ using a small learning rate $\\alpha$.\n",
    "  * $W = W - \\alpha\\frac{\\partial{J}}{\\partial{W}}$\n",
    "  * $b = b - \\alpha\\frac{\\partial{J}}{\\partial{b}}$"
   ]
  },
  {
   "cell_type": "code",
   "execution_count": 26,
   "metadata": {
    "colab": {},
    "colab_type": "code",
    "id": "rKuOCcjep3ND"
   },
   "outputs": [],
   "source": [
    "LEARNING_RATE = 1e-1"
   ]
  },
  {
   "cell_type": "code",
   "execution_count": 27,
   "metadata": {
    "colab": {},
    "colab_type": "code",
    "id": "v9E7zB0IoPd0"
   },
   "outputs": [],
   "source": [
    "# Update weights\n",
    "W += -LEARNING_RATE * dW\n",
    "b += -LEARNING_RATE * db"
   ]
  },
  {
   "cell_type": "markdown",
   "metadata": {
    "colab_type": "text",
    "id": "hYijMGqvpigf"
   },
   "source": [
    "**NOTE**: The learning rate $\\alpha$ is a way to control how much we update the weights by. If we choose a small learning rate, it may take a long time for our model to train. However, if we choose a large learning rate, we may overshoot and our training will never converge. The specific learning rate depends on our data and the type of models we use but it's typically good to explore in the range of $[10^{-8}, 10^{-1}]$. We'll explore learning rate update stratagies in later lessons."
   ]
  },
  {
   "cell_type": "markdown",
   "metadata": {
    "colab_type": "text",
    "id": "rRiMWUARXBM4"
   },
   "source": [
    "## Training"
   ]
  },
  {
   "cell_type": "markdown",
   "metadata": {
    "colab_type": "text",
    "id": "745G2w_rrBZl"
   },
   "source": [
    "6. Repeat steps 2 - 5 to minimize the loss and train the model."
   ]
  },
  {
   "cell_type": "code",
   "execution_count": 28,
   "metadata": {
    "colab": {},
    "colab_type": "code",
    "id": "-QpmeHBhrIQI"
   },
   "outputs": [],
   "source": [
    "NUM_EPOCHS = 50"
   ]
  },
  {
   "cell_type": "code",
   "execution_count": 29,
   "metadata": {
    "colab": {
     "base_uri": "https://localhost:8080/",
     "height": 102
    },
    "colab_type": "code",
    "executionInfo": {
     "elapsed": 528,
     "status": "ok",
     "timestamp": 1583941076742,
     "user": {
      "displayName": "Goku Mohandas",
      "photoUrl": "https://lh3.googleusercontent.com/a-/AOh14GjMIOf3R_zwS_zZx4ZyPMtQe0lOkGpPOEUEKWpM7g=s64",
      "userId": "00378334517810298963"
     },
     "user_tz": 420
    },
    "id": "89vkuOZdoPcK",
    "outputId": "ef9e2465-ee8a-4a88-a1fd-5ca9101957bc"
   },
   "outputs": [
    {
     "name": "stdout",
     "output_type": "stream",
     "text": [
      "Epoch: 0, loss: 0.965\n",
      "Epoch: 5, loss: 0.219\n",
      "Epoch: 10, loss: 0.139\n",
      "Epoch: 15, loss: 0.130\n",
      "Epoch: 20, loss: 0.129\n",
      "Epoch: 25, loss: 0.129\n",
      "Epoch: 30, loss: 0.129\n",
      "Epoch: 35, loss: 0.129\n",
      "Epoch: 40, loss: 0.129\n",
      "Epoch: 45, loss: 0.129\n"
     ]
    }
   ],
   "source": [
    "# Initialize random weights\n",
    "W = 0.01 * np.random.randn(INPUT_DIM, OUTPUT_DIM)\n",
    "b = np.zeros((1, ))\n",
    "\n",
    "# Training loop\n",
    "for epoch_num in range(NUM_EPOCHS):\n",
    "\n",
    "    # Forward pass [NX1] · [1X1] = [NX1]\n",
    "    y_pred = np.dot(X_train, W) + b\n",
    "\n",
    "    # Loss\n",
    "    loss = (1/len(y_train)) * np.sum((y_train - y_pred)**2)\n",
    "\n",
    "    # show progress\n",
    "    if epoch_num%5 == 0:\n",
    "        print (f\"Epoch: {epoch_num}, loss: {loss:.3f}\")\n",
    "\n",
    "    # Backpropagation\n",
    "    dW = -(2/N) * np.sum((y_train - y_pred) * X_train)\n",
    "    db = -(2/N) * np.sum((y_train - y_pred) * 1)\n",
    "\n",
    "    # Update weights\n",
    "    W += -LEARNING_RATE * dW\n",
    "    b += -LEARNING_RATE * db"
   ]
  },
  {
   "cell_type": "markdown",
   "metadata": {
    "colab_type": "text",
    "id": "emgsY5TJXZ7R"
   },
   "source": [
    "## Evaluation"
   ]
  },
  {
   "cell_type": "code",
   "execution_count": 30,
   "metadata": {
    "colab": {},
    "colab_type": "code",
    "id": "cNV_o2_arQNU"
   },
   "outputs": [],
   "source": [
    "# Predictions \n",
    "pred_train = W*X_train + b\n",
    "pred_test = W*X_test + b"
   ]
  },
  {
   "cell_type": "code",
   "execution_count": 31,
   "metadata": {
    "colab": {
     "base_uri": "https://localhost:8080/",
     "height": 34
    },
    "colab_type": "code",
    "executionInfo": {
     "elapsed": 766,
     "status": "ok",
     "timestamp": 1583941079574,
     "user": {
      "displayName": "Goku Mohandas",
      "photoUrl": "https://lh3.googleusercontent.com/a-/AOh14GjMIOf3R_zwS_zZx4ZyPMtQe0lOkGpPOEUEKWpM7g=s64",
      "userId": "00378334517810298963"
     },
     "user_tz": 420
    },
    "id": "KMj2xv1xrXb5",
    "outputId": "e2a06e43-7fa2-4115-eeec-dc09975479aa"
   },
   "outputs": [
    {
     "name": "stdout",
     "output_type": "stream",
     "text": [
      "train_MSE: 0.13, test_MSE: 0.23\n"
     ]
    }
   ],
   "source": [
    "# Train and test MSE\n",
    "train_mse = np.mean((y_train - pred_train) ** 2)\n",
    "test_mse = np.mean((y_test - pred_test) ** 2)\n",
    "print (f\"train_MSE: {train_mse:.2f}, test_MSE: {test_mse:.2f}\")"
   ]
  },
  {
   "cell_type": "code",
   "execution_count": 32,
   "metadata": {
    "colab": {
     "base_uri": "https://localhost:8080/",
     "height": 336
    },
    "colab_type": "code",
    "executionInfo": {
     "elapsed": 1758,
     "status": "ok",
     "timestamp": 1583941081212,
     "user": {
      "displayName": "Goku Mohandas",
      "photoUrl": "https://lh3.googleusercontent.com/a-/AOh14GjMIOf3R_zwS_zZx4ZyPMtQe0lOkGpPOEUEKWpM7g=s64",
      "userId": "00378334517810298963"
     },
     "user_tz": 420
    },
    "id": "59OcpgFArYw_",
    "outputId": "67b03206-5ac5-48d2-d925-14ac8d1dd9f1"
   },
   "outputs": [
    {
     "data": {
      "image/png": "[encoded data removed]",
      "text/plain": [
       "<Figure size 1080x360 with 2 Axes>"
      ]
     },
     "metadata": {
      "needs_background": "light"
     },
     "output_type": "display_data"
    }
   ],
   "source": [
    "# Figure size\n",
    "plt.figure(figsize=(15,5))\n",
    "\n",
    "# Plot train data\n",
    "plt.subplot(1, 2, 1)\n",
    "plt.title(\"Train\")\n",
    "plt.scatter(X_train, y_train, label='y_train')\n",
    "plt.plot(X_train, pred_train, color='red', linewidth=1, linestyle='-', label='model')\n",
    "plt.grid()\n",
    "plt.legend(loc='lower right')\n",
    "\n",
    "# Plot test data\n",
    "plt.subplot(1, 2, 2)\n",
    "plt.title(\"Test\")\n",
    "plt.scatter(X_test, y_test, label='y_test')\n",
    "plt.plot(X_test, pred_test, color='red', linewidth=1, linestyle='-', label='model')\n",
    "plt.grid()\n",
    "plt.legend(loc='lower right')\n",
    "\n",
    "# Show plots\n",
    "plt.show()"
   ]
  },
  {
   "cell_type": "markdown",
   "metadata": {
    "colab_type": "text",
    "id": "a2oKRRjlXoDA"
   },
   "source": [
    "## Interpretability"
   ]
  },
  {
   "cell_type": "markdown",
   "metadata": {
    "colab_type": "text",
    "id": "83DaPyLrrqmE"
   },
   "source": [
    "Since we standardized our inputs and outputs, our weights were fit to those standardized values. So we need to unstandardize our weights so we can compare it to our true weight (3.5).\n",
    "\n",
    "Note that both X and y were standardized.\n",
    "\\begin{eqnarray*}\n",
    "\\hat{y}_{scaled} = b_{scaled} + \\sum_{j=1}^{k}W_{{scaled}_j}x_{{scaled}_j}\n",
    "\\end{eqnarray*}\n",
    "\n",
    "\\begin{eqnarray*}\n",
    "y_{scaled} = \\frac{\\hat{y} - \\bar{y}}{\\sigma_y}\n",
    "\\end{eqnarray*}\n",
    "\\begin{eqnarray*}\n",
    "x_{scaled} = \\frac{x_j - \\bar{x}_j}{\\sigma_j}\n",
    "\\end{eqnarray*}\n",
    "\n",
    "\\begin{eqnarray*}\n",
    "\\frac{\\hat{y} - \\bar{y}}{\\sigma_y} = b_{scaled} + \\sum_{j=1}^{k}W_{{scaled}_j}\\frac{x_j - \\bar{x}_j}{\\sigma_j}\n",
    "\\end{eqnarray*}\n",
    "\\begin{eqnarray*}\n",
    "\\hat{y}_{scaled} = \\frac{\\hat{y}_{unscaled} - \\bar{y}}{\\sigma_y} = {b_{scaled}} + \\sum_{j=1}^{k} {W}_{{scaled}_j} (\\frac{x_j - \\bar{x}_j}{\\sigma_j}) \n",
    "\\end{eqnarray*}\n",
    "\\begin{eqnarray*}\n",
    "\\hat{y}_{unscaled} = b_{scaled}\\sigma_y + \\bar{y} - \\sum_{j=1}^{k} {W}_{{scaled}_j}(\\frac{\\sigma_y}{\\sigma_j})\\bar{x}_j + \\sum_{j=1}^{k}{W}_{{scaled}_j}(\\frac{\\sigma_y}{\\sigma_j})x_j \n",
    "\\end{eqnarray*}\n",
    "\n",
    "In the expression above, we can see the expression $\\hat{y}_{unscaled} = W_{unscaled}x + b_{unscaled} $ where\n",
    "\n",
    "* $W_{unscaled} = \\sum_{j=1}^{k}{W}_j(\\frac{\\sigma_y}{\\sigma_j}) $\n",
    "\n",
    "* $b_{unscaled} = b_{scaled}\\sigma_y + \\bar{y} - \\sum_{j=1}^{k} {W}_j(\\frac{\\sigma_y}{\\sigma_j})\\bar{x}_j$"
   ]
  },
  {
   "cell_type": "code",
   "execution_count": 33,
   "metadata": {
    "colab": {
     "base_uri": "https://localhost:8080/",
     "height": 51
    },
    "colab_type": "code",
    "executionInfo": {
     "elapsed": 214,
     "status": "ok",
     "timestamp": 1583941081822,
     "user": {
      "displayName": "Goku Mohandas",
      "photoUrl": "https://lh3.googleusercontent.com/a-/AOh14GjMIOf3R_zwS_zZx4ZyPMtQe0lOkGpPOEUEKWpM7g=s64",
      "userId": "00378334517810298963"
     },
     "user_tz": 420
    },
    "id": "uROsFZxYrZYu",
    "outputId": "66e94761-f8dc-486f-85d8-94cce3344dad"
   },
   "outputs": [
    {
     "name": "stdout",
     "output_type": "stream",
     "text": [
      "[actual] y = 3.5 X + noise\n",
      "[model] y_hat = 3.8 X + -20.6\n"
     ]
    }
   ],
   "source": [
    "# Unscaled weights\n",
    "W_unscaled = W * (y_std/X_std)\n",
    "b_unscaled = b * y_std + y_mean - np.sum(W_unscaled*X_mean)\n",
    "print (\"[actual] y = 3.5 X + noise\")\n",
    "print (f\"[model] y_hat = {W_unscaled[0][0]:.1f} X + {b_unscaled[0]:.1f}\") "
   ]
  },
  {
   "cell_type": "markdown",
   "metadata": {
    "colab_type": "text",
    "id": "rB7rsEQUDHNc"
   },
   "source": [
    "# TensorFlow"
   ]
  },
  {
   "cell_type": "markdown",
   "metadata": {
    "colab_type": "text",
    "id": "KZi6yi9-DJH6"
   },
   "source": [
    "We will first implement linear regression using native TensorFlow without the ease of Keras. This will help us understand the hidden operations and also appreciate all the work that Keras does for us."
   ]
  },
  {
   "cell_type": "code",
   "execution_count": 34,
   "metadata": {
    "colab": {},
    "colab_type": "code",
    "id": "GUrPPwm4Gq68"
   },
   "outputs": [],
   "source": [
    "#%tensorflow_version 2.x\n",
    "import tensorflow as tf"
   ]
  },
  {
   "cell_type": "code",
   "execution_count": 35,
   "metadata": {
    "colab": {},
    "colab_type": "code",
    "id": "t-MqkgJ3Gq3x"
   },
   "outputs": [],
   "source": [
    "# Set seed for reproducibility\n",
    "tf.random.set_seed(SEED)"
   ]
  },
  {
   "cell_type": "markdown",
   "metadata": {
    "colab_type": "text",
    "id": "zNJFgUY0hcDZ"
   },
   "source": [
    "## Split data"
   ]
  },
  {
   "cell_type": "markdown",
   "metadata": {
    "colab_type": "text",
    "id": "ASzn8LT2Xwb2"
   },
   "source": [
    "When we're working with TensorFlow we normally use the scikit learn's [splitting functions](https://scikit-learn.org/stable/modules/classes.html#module-sklearn.model_selection) to split our data."
   ]
  },
  {
   "cell_type": "code",
   "execution_count": 36,
   "metadata": {
    "colab": {},
    "colab_type": "code",
    "id": "WqcmdgEChtXI"
   },
   "outputs": [],
   "source": [
    "from sklearn.model_selection import train_test_split"
   ]
  },
  {
   "cell_type": "code",
   "execution_count": 37,
   "metadata": {
    "colab": {},
    "colab_type": "code",
    "id": "mU9AYWbzh4JQ"
   },
   "outputs": [],
   "source": [
    "TRAIN_SIZE = 0.7\n",
    "VAL_SIZE = 0.15\n",
    "TEST_SIZE = 0.15\n",
    "SHUFFLE = True"
   ]
  },
  {
   "cell_type": "code",
   "execution_count": 38,
   "metadata": {
    "colab": {},
    "colab_type": "code",
    "id": "xtLx53hQhCp7"
   },
   "outputs": [],
   "source": [
    "def train_val_test_split(X, y, val_size, test_size, shuffle):\n",
    "    \"\"\"Split data into train/val/test datasets.\n",
    "    \"\"\"\n",
    "    X_train, X_test, y_train, y_test = train_test_split(\n",
    "        X, y, test_size=test_size, shuffle=shuffle)\n",
    "    X_train, X_val, y_train, y_val = train_test_split(\n",
    "        X_train, y_train, test_size=val_size, shuffle=shuffle)\n",
    "    return X_train, X_val, X_test, y_train, y_val, y_test"
   ]
  },
  {
   "cell_type": "markdown",
   "metadata": {
    "colab_type": "text",
    "id": "VZJMdevAO8Cg"
   },
   "source": [
    "The `train_val_test_split` function essentially splits our data twice. First, we separate out the test set. And then we separate the remaining other set into train and validation sets. "
   ]
  },
  {
   "cell_type": "code",
   "execution_count": 39,
   "metadata": {
    "colab": {
     "base_uri": "https://localhost:8080/",
     "height": 68
    },
    "colab_type": "code",
    "executionInfo": {
     "elapsed": 596,
     "status": "ok",
     "timestamp": 1583941088702,
     "user": {
      "displayName": "Goku Mohandas",
      "photoUrl": "https://lh3.googleusercontent.com/a-/AOh14GjMIOf3R_zwS_zZx4ZyPMtQe0lOkGpPOEUEKWpM7g=s64",
      "userId": "00378334517810298963"
     },
     "user_tz": 420
    },
    "id": "hu0t5R7lhCnU",
    "outputId": "a2547970-5fb5-4199-aeca-e0547cb1b9f4"
   },
   "outputs": [
    {
     "name": "stdout",
     "output_type": "stream",
     "text": [
      "X_train: (72, 1), y_train: (72, 1)\n",
      "X_val: (13, 1), y_test: (13, 1)\n",
      "X_test: (15, 1), y_test: (15, 1)\n"
     ]
    }
   ],
   "source": [
    "# Create data splits\n",
    "X_train, X_val, X_test, y_train, y_val, y_test = train_val_test_split(\n",
    "    X, y, val_size=VAL_SIZE, test_size=TEST_SIZE, shuffle=SHUFFLE)\n",
    "print (f\"X_train: {X_train.shape}, y_train: {y_train.shape}\")\n",
    "print (f\"X_val: {X_val.shape}, y_test: {y_val.shape}\")\n",
    "print (f\"X_test: {X_test.shape}, y_test: {y_test.shape}\")"
   ]
  },
  {
   "cell_type": "markdown",
   "metadata": {
    "colab_type": "text",
    "id": "8LSpLJkgkVRn"
   },
   "source": [
    "## Standardize data"
   ]
  },
  {
   "cell_type": "markdown",
   "metadata": {
    "colab_type": "text",
    "id": "mM9C5xIeT5C8"
   },
   "source": [
    "We can also use scikit learn to do [preprocessing and normalization](https://scikit-learn.org/stable/modules/classes.html#module-sklearn.preprocessing). "
   ]
  },
  {
   "cell_type": "code",
   "execution_count": 40,
   "metadata": {
    "colab": {},
    "colab_type": "code",
    "id": "o-8Ii-JwkVWC"
   },
   "outputs": [],
   "source": [
    "from sklearn.preprocessing import StandardScaler"
   ]
  },
  {
   "cell_type": "code",
   "execution_count": 41,
   "metadata": {
    "colab": {},
    "colab_type": "code",
    "id": "M9FOu9-kkVeh"
   },
   "outputs": [],
   "source": [
    "# Standardize the data (mean=0, std=1) using training data\n",
    "X_scaler = StandardScaler().fit(X_train)\n",
    "y_scaler = StandardScaler().fit(y_train)"
   ]
  },
  {
   "cell_type": "code",
   "execution_count": 42,
   "metadata": {
    "colab": {},
    "colab_type": "code",
    "id": "YNWqEGsYkViI"
   },
   "outputs": [],
   "source": [
    "# Apply scaler on training and test data\n",
    "X_train = X_scaler.transform(X_train)\n",
    "y_train = y_scaler.transform(y_train).ravel().reshape(-1, 1)\n",
    "X_val = X_scaler.transform(X_val)\n",
    "y_val = y_scaler.transform(y_val).ravel().reshape(-1, 1)\n",
    "X_test = X_scaler.transform(X_test)\n",
    "y_test = y_scaler.transform(y_test).ravel().reshape(-1, 1)"
   ]
  },
  {
   "cell_type": "code",
   "execution_count": 43,
   "metadata": {
    "colab": {
     "base_uri": "https://localhost:8080/",
     "height": 119
    },
    "colab_type": "code",
    "executionInfo": {
     "elapsed": 1037,
     "status": "ok",
     "timestamp": 1583941091375,
     "user": {
      "displayName": "Goku Mohandas",
      "photoUrl": "https://lh3.googleusercontent.com/a-/AOh14GjMIOf3R_zwS_zZx4ZyPMtQe0lOkGpPOEUEKWpM7g=s64",
      "userId": "00378334517810298963"
     },
     "user_tz": 420
    },
    "id": "aSAH9M4UnDAm",
    "outputId": "58951c19-8852-4d61-b508-2dbbb59a6120"
   },
   "outputs": [
    {
     "name": "stdout",
     "output_type": "stream",
     "text": [
      "X_train: mean: 0.0, std: 1.0\n",
      "y_train: mean: -0.0, std: 1.0\n",
      "X_val: mean: -0.0, std: 0.9\n",
      "y_val: mean: -0.3, std: 1.0\n",
      "X_test: mean: -0.6, std: 0.7\n",
      "y_test: mean: -0.6, std: 0.8\n"
     ]
    }
   ],
   "source": [
    "# Check (means should be ~0 and std should be ~1)\n",
    "print (f\"X_train: mean: {np.mean(X_train, axis=0)[0]:.1f}, std: {np.std(X_train, axis=0)[0]:.1f}\")\n",
    "print (f\"y_train: mean: {np.mean(y_train, axis=0)[0]:.1f}, std: {np.std(y_train, axis=0)[0]:.1f}\")\n",
    "print (f\"X_val: mean: {np.mean(X_val, axis=0)[0]:.1f}, std: {np.std(X_val, axis=0)[0]:.1f}\")\n",
    "print (f\"y_val: mean: {np.mean(y_val, axis=0)[0]:.1f}, std: {np.std(y_val, axis=0)[0]:.1f}\")\n",
    "print (f\"X_test: mean: {np.mean(X_test, axis=0)[0]:.1f}, std: {np.std(X_test, axis=0)[0]:.1f}\")\n",
    "print (f\"y_test: mean: {np.mean(y_test, axis=0)[0]:.1f}, std: {np.std(y_test, axis=0)[0]:.1f}\")"
   ]
  },
  {
   "cell_type": "markdown",
   "metadata": {
    "colab_type": "text",
    "id": "wshepN4XGoMc"
   },
   "source": [
    "## Weights"
   ]
  },
  {
   "cell_type": "code",
   "execution_count": 44,
   "metadata": {
    "colab": {},
    "colab_type": "code",
    "id": "ygovkkxfDSaI"
   },
   "outputs": [],
   "source": [
    "# Weights\n",
    "W = tf.Variable(0.)\n",
    "b = tf.Variable(0.)"
   ]
  },
  {
   "cell_type": "markdown",
   "metadata": {
    "colab_type": "text",
    "id": "XeMjtijnHdTa"
   },
   "source": [
    "## Model"
   ]
  },
  {
   "cell_type": "code",
   "execution_count": 45,
   "metadata": {
    "colab": {},
    "colab_type": "code",
    "id": "PRQZtvGhDVlo"
   },
   "outputs": [],
   "source": [
    "# Model\n",
    "def model(x):\n",
    "    return x*W + b"
   ]
  },
  {
   "cell_type": "code",
   "execution_count": 46,
   "metadata": {
    "colab": {
     "base_uri": "https://localhost:8080/",
     "height": 51
    },
    "colab_type": "code",
    "executionInfo": {
     "elapsed": 269,
     "status": "ok",
     "timestamp": 1583941093236,
     "user": {
      "displayName": "Goku Mohandas",
      "photoUrl": "https://lh3.googleusercontent.com/a-/AOh14GjMIOf3R_zwS_zZx4ZyPMtQe0lOkGpPOEUEKWpM7g=s64",
      "userId": "00378334517810298963"
     },
     "user_tz": 420
    },
    "id": "pwYrU1yBDV4G",
    "outputId": "8309b7d7-a115-44cf-87eb-8f14295725ff"
   },
   "outputs": [
    {
     "name": "stdout",
     "output_type": "stream",
     "text": [
      "[1.04526441]\n",
      "tf.Tensor([0.], shape=(1,), dtype=float32)\n"
     ]
    }
   ],
   "source": [
    "# Forward pass\n",
    "print (X_train[0])\n",
    "print (model(X_train[0]))"
   ]
  },
  {
   "cell_type": "markdown",
   "metadata": {
    "colab_type": "text",
    "id": "Ht0lvKkiHetb"
   },
   "source": [
    "## Loss"
   ]
  },
  {
   "cell_type": "code",
   "execution_count": 47,
   "metadata": {
    "colab": {},
    "colab_type": "code",
    "id": "4E08hXZFDV1i"
   },
   "outputs": [],
   "source": [
    "# Loss\n",
    "def mean_squared_error(y_pred, y_true):\n",
    "    return tf.reduce_mean(tf.square(y_pred-y_true))"
   ]
  },
  {
   "cell_type": "code",
   "execution_count": 48,
   "metadata": {
    "colab": {
     "base_uri": "https://localhost:8080/",
     "height": 34
    },
    "colab_type": "code",
    "executionInfo": {
     "elapsed": 666,
     "status": "ok",
     "timestamp": 1583941095258,
     "user": {
      "displayName": "Goku Mohandas",
      "photoUrl": "https://lh3.googleusercontent.com/a-/AOh14GjMIOf3R_zwS_zZx4ZyPMtQe0lOkGpPOEUEKWpM7g=s64",
      "userId": "00378334517810298963"
     },
     "user_tz": 420
    },
    "id": "2YBN9uZ4DVit",
    "outputId": "890d5323-9587-42a0-d4b8-be55b4bc9563"
   },
   "outputs": [
    {
     "name": "stdout",
     "output_type": "stream",
     "text": [
      "loss: 1.0\n"
     ]
    }
   ],
   "source": [
    "# Sample loss\n",
    "print (f\"loss: {mean_squared_error(model(X_train), y_train)}\")"
   ]
  },
  {
   "cell_type": "markdown",
   "metadata": {
    "colab_type": "text",
    "id": "r3Ht5Fe0Hhft"
   },
   "source": [
    "## Training"
   ]
  },
  {
   "cell_type": "code",
   "execution_count": 49,
   "metadata": {
    "colab": {
     "base_uri": "https://localhost:8080/",
     "height": 187
    },
    "colab_type": "code",
    "executionInfo": {
     "elapsed": 808,
     "status": "ok",
     "timestamp": 1583941096720,
     "user": {
      "displayName": "Goku Mohandas",
      "photoUrl": "https://lh3.googleusercontent.com/a-/AOh14GjMIOf3R_zwS_zZx4ZyPMtQe0lOkGpPOEUEKWpM7g=s64",
      "userId": "00378334517810298963"
     },
     "user_tz": 420
    },
    "id": "ec48EbnnH0n4",
    "outputId": "a7f97aca-43c4-4a3f-af07-30b9618fbf5d"
   },
   "outputs": [
    {
     "name": "stdout",
     "output_type": "stream",
     "text": [
      "Epoch: 0 | train_loss: 1.00\n",
      "Epoch: 5 | train_loss: 0.28\n",
      "Epoch: 10 | train_loss: 0.21\n",
      "Epoch: 15 | train_loss: 0.20\n",
      "Epoch: 20 | train_loss: 0.20\n",
      "Epoch: 25 | train_loss: 0.20\n",
      "Epoch: 30 | train_loss: 0.20\n",
      "Epoch: 35 | train_loss: 0.20\n",
      "Epoch: 40 | train_loss: 0.20\n",
      "Epoch: 45 | train_loss: 0.20\n"
     ]
    }
   ],
   "source": [
    "for epoch in range(NUM_EPOCHS):\n",
    "    with tf.GradientTape() as tape:\n",
    "        # Forward pass\n",
    "        y_pred = model(X_train)\n",
    "\n",
    "        # Loss\n",
    "        train_loss = mean_squared_error(y_pred=y_pred, y_true=y_train)\n",
    "    \n",
    "    # Gradients\n",
    "    gradients = tape.gradient(train_loss, [W, b])\n",
    "\n",
    "    # Update weights\n",
    "    W.assign_sub(gradients[0] * LEARNING_RATE)\n",
    "    b.assign_sub(gradients[1] * LEARNING_RATE)\n",
    "\n",
    "    # Metrics\n",
    "    if (epoch%5) == 0:\n",
    "        print (f\"Epoch: {epoch} | train_loss: {train_loss.numpy():.2f}\")"
   ]
  },
  {
   "cell_type": "markdown",
   "metadata": {
    "colab_type": "text",
    "id": "zQeIW-cNHliM"
   },
   "source": [
    "## Evaluation"
   ]
  },
  {
   "cell_type": "code",
   "execution_count": 50,
   "metadata": {
    "colab": {},
    "colab_type": "code",
    "id": "DeNmcBWcHlcu"
   },
   "outputs": [],
   "source": [
    "# Predictions \n",
    "pred_train = W*X_train + b\n",
    "pred_test = W*X_test + b"
   ]
  },
  {
   "cell_type": "code",
   "execution_count": 51,
   "metadata": {
    "colab": {
     "base_uri": "https://localhost:8080/",
     "height": 34
    },
    "colab_type": "code",
    "executionInfo": {
     "elapsed": 275,
     "status": "ok",
     "timestamp": 1583941098020,
     "user": {
      "displayName": "Goku Mohandas",
      "photoUrl": "https://lh3.googleusercontent.com/a-/AOh14GjMIOf3R_zwS_zZx4ZyPMtQe0lOkGpPOEUEKWpM7g=s64",
      "userId": "00378334517810298963"
     },
     "user_tz": 420
    },
    "id": "yescrXo2KIoR",
    "outputId": "06ad2fd8-4ea5-4d9f-af78-c8cbf29eaf5b"
   },
   "outputs": [
    {
     "name": "stdout",
     "output_type": "stream",
     "text": [
      "train_MSE: 0.20, test_MSE: 0.12\n"
     ]
    }
   ],
   "source": [
    "# Train and test MSE\n",
    "train_mse = np.mean((y_train - pred_train) ** 2)\n",
    "test_mse = np.mean((y_test - pred_test) ** 2)\n",
    "print (f\"train_MSE: {train_mse:.2f}, test_MSE: {test_mse:.2f}\")"
   ]
  },
  {
   "cell_type": "code",
   "execution_count": 52,
   "metadata": {
    "colab": {
     "base_uri": "https://localhost:8080/",
     "height": 336
    },
    "colab_type": "code",
    "executionInfo": {
     "elapsed": 885,
     "status": "ok",
     "timestamp": 1583941099303,
     "user": {
      "displayName": "Goku Mohandas",
      "photoUrl": "https://lh3.googleusercontent.com/a-/AOh14GjMIOf3R_zwS_zZx4ZyPMtQe0lOkGpPOEUEKWpM7g=s64",
      "userId": "00378334517810298963"
     },
     "user_tz": 420
    },
    "id": "mJin5A8UKIiI",
    "outputId": "6269f3d8-00f5-4b27-c9c7-256f49d71ba8"
   },
   "outputs": [
    {
     "data": {
      "image/png": "[encoded data removed]",
      "text/plain": [
       "<Figure size 1080x360 with 2 Axes>"
      ]
     },
     "metadata": {
      "needs_background": "light"
     },
     "output_type": "display_data"
    }
   ],
   "source": [
    "# Figure size\n",
    "plt.figure(figsize=(15,5))\n",
    "\n",
    "# Plot train data\n",
    "plt.subplot(1, 2, 1)\n",
    "plt.title(\"Train\")\n",
    "plt.scatter(X_train, y_train, label='y_train')\n",
    "plt.plot(X_train, model(X_train), color='red', linewidth=1, linestyle='-', label='model')\n",
    "plt.grid()\n",
    "plt.legend(loc='lower right')\n",
    "\n",
    "# Plot test data\n",
    "plt.subplot(1, 2, 2)\n",
    "plt.title(\"Test\")\n",
    "plt.scatter(X_test, y_test, label='y_test')\n",
    "plt.plot(X_test, model(X_test), color='red', linewidth=1, linestyle='-', label='model')\n",
    "plt.grid()\n",
    "plt.legend(loc='lower right')\n",
    "\n",
    "# Show plots\n",
    "plt.show()"
   ]
  },
  {
   "cell_type": "markdown",
   "metadata": {
    "colab_type": "text",
    "id": "62hMRBHIHr5m"
   },
   "source": [
    "## Interpretability"
   ]
  },
  {
   "cell_type": "code",
   "execution_count": 53,
   "metadata": {
    "colab": {
     "base_uri": "https://localhost:8080/",
     "height": 51
    },
    "colab_type": "code",
    "executionInfo": {
     "elapsed": 458,
     "status": "ok",
     "timestamp": 1583941101022,
     "user": {
      "displayName": "Goku Mohandas",
      "photoUrl": "https://lh3.googleusercontent.com/a-/AOh14GjMIOf3R_zwS_zZx4ZyPMtQe0lOkGpPOEUEKWpM7g=s64",
      "userId": "00378334517810298963"
     },
     "user_tz": 420
    },
    "id": "YIsj9yiRHthX",
    "outputId": "1581af40-96a5-4ada-e5d2-da5a4d7a6a1c"
   },
   "outputs": [
    {
     "name": "stdout",
     "output_type": "stream",
     "text": [
      "[actual] y = 3.5 X + noise\n",
      "[model] y_hat = 3.6 X + -12.3\n"
     ]
    }
   ],
   "source": [
    "# Unscaled weights\n",
    "W_unscaled = W.numpy() * (y_std/X_std)\n",
    "b_unscaled = b.numpy() * y_std + y_mean - np.sum(W_unscaled*X_mean)\n",
    "print (\"[actual] y = 3.5 X + noise\")\n",
    "print (f\"[model] y_hat = {W_unscaled:.1f} X + {b_unscaled:.1f}\") "
   ]
  },
  {
   "cell_type": "markdown",
   "metadata": {
    "colab_type": "text",
    "id": "6nAJqYIwrxLW"
   },
   "source": [
    "# TensorFlow + Keras"
   ]
  },
  {
   "cell_type": "markdown",
   "metadata": {
    "colab_type": "text",
    "id": "FP6JKnmtrzIK"
   },
   "source": [
    "Now that we've implemented linear regression with Numpy and native TensorFlow, let's do the same with TensorFlow + Keras."
   ]
  },
  {
   "cell_type": "markdown",
   "metadata": {
    "colab_type": "text",
    "id": "X3u7SbMfbqd9"
   },
   "source": [
    "## Weights"
   ]
  },
  {
   "cell_type": "markdown",
   "metadata": {
    "colab_type": "text",
    "id": "S7FufaY1bzZA"
   },
   "source": [
    "We will be using [Dense layers](https://www.tensorflow.org/versions/r2.0/api_docs/python/tf/keras/layers/Dense) in our MLP implementation. The layer applies an activation function on the dot product of the layer's inputs and its weights.\n",
    "\n",
    "$ z = \\text{activation}(XW)$ "
   ]
  },
  {
   "cell_type": "code",
   "execution_count": 54,
   "metadata": {
    "colab": {},
    "colab_type": "code",
    "id": "WLyU8Y5ZrZl5"
   },
   "outputs": [],
   "source": [
    "from tensorflow.keras.layers import Dense\n",
    "from tensorflow.keras.layers import Input"
   ]
  },
  {
   "cell_type": "code",
   "execution_count": 55,
   "metadata": {
    "colab": {
     "base_uri": "https://localhost:8080/",
     "height": 34
    },
    "colab_type": "code",
    "executionInfo": {
     "elapsed": 392,
     "status": "ok",
     "timestamp": 1583941108261,
     "user": {
      "displayName": "Goku Mohandas",
      "photoUrl": "https://lh3.googleusercontent.com/a-/AOh14GjMIOf3R_zwS_zZx4ZyPMtQe0lOkGpPOEUEKWpM7g=s64",
      "userId": "00378334517810298963"
     },
     "user_tz": 420
    },
    "id": "7c-gJ6BgrZjk",
    "outputId": "54312021-f56b-4bd4-c39e-ab6ce411f4b7"
   },
   "outputs": [
    {
     "name": "stdout",
     "output_type": "stream",
     "text": [
      "z (None, 1) = x (None, 1) · W (1, 1) + b (1,)\n"
     ]
    }
   ],
   "source": [
    "x = Input(shape=(INPUT_DIM,))\n",
    "fc = Dense(units=OUTPUT_DIM, activation='linear')\n",
    "z = fc(x)\n",
    "W, b = fc.weights\n",
    "print (f\"z {z.shape} = x {x.shape} · W {W.shape} + b {b.shape}\")"
   ]
  },
  {
   "cell_type": "markdown",
   "metadata": {
    "colab_type": "text",
    "id": "t2j5_5SopsRF"
   },
   "source": [
    "## Model"
   ]
  },
  {
   "cell_type": "markdown",
   "metadata": {
    "colab_type": "text",
    "id": "phjJCXREb5hG"
   },
   "source": [
    "Our goal is to learn a linear model $\\hat{y}$ that models $y$ given $X$. \n",
    "\n",
    "$\\hat{y} = XW + b$\n",
    "* $\\hat{y}$ = predictions | $\\in \\mathbb{R}^{NX1}$ ($N$ is the number of samples)\n",
    "* $X$ = inputs | $\\in \\mathbb{R}^{NXD}$ ($D$ is the number of features)\n",
    "* $W$ = weights | $\\in \\mathbb{R}^{DX1}$ \n",
    "* $b$ = bias | $\\in \\mathbb{R}^{1}$ "
   ]
  },
  {
   "cell_type": "code",
   "execution_count": 56,
   "metadata": {
    "colab": {},
    "colab_type": "code",
    "id": "cBQtSQIorZiB"
   },
   "outputs": [],
   "source": [
    "from tensorflow.keras.models import Model\n",
    "from tensorflow.keras.utils import plot_model"
   ]
  },
  {
   "cell_type": "code",
   "execution_count": 57,
   "metadata": {
    "colab": {},
    "colab_type": "code",
    "id": "ywbqbZwOVGgf"
   },
   "outputs": [],
   "source": [
    "class LinearRegression(Model):\n",
    "    def __init__(self, output_dim):\n",
    "        super(LinearRegression, self).__init__(name='linear_regression')\n",
    "        self.fc1 = Dense(units=output_dim, activation='linear', name='W')\n",
    "    \n",
    "    def call(self, x_in, training=False):\n",
    "        y_pred = self.fc1(x_in)\n",
    "        return y_pred\n",
    "    \n",
    "    def summary(self, input_shape):\n",
    "        x_in = Input(shape=input_shape, name='X')\n",
    "        summary = Model(inputs=x_in, outputs=self.call(x_in), name=self.name)\n",
    "        return plot_model(summary, show_shapes=True) # forward pass"
   ]
  },
  {
   "cell_type": "code",
   "execution_count": 58,
   "metadata": {
    "colab": {
     "base_uri": "https://localhost:8080/",
     "height": 201
    },
    "colab_type": "code",
    "executionInfo": {
     "elapsed": 544,
     "status": "ok",
     "timestamp": 1583941112893,
     "user": {
      "displayName": "Goku Mohandas",
      "photoUrl": "https://lh3.googleusercontent.com/a-/AOh14GjMIOf3R_zwS_zZx4ZyPMtQe0lOkGpPOEUEKWpM7g=s64",
      "userId": "00378334517810298963"
     },
     "user_tz": 420
    },
    "id": "0U7wD5a6VSZ8",
    "outputId": "eae68266-aadb-47e7-c16d-9e554f43a910"
   },
   "outputs": [
    {
     "data": {
      "image/png": "[encoded data removed]",
      "text/plain": [
       "<IPython.core.display.Image object>"
      ]
     },
     "execution_count": 58,
     "metadata": {},
     "output_type": "execute_result"
    }
   ],
   "source": [
    "# Initialize model\n",
    "model = LinearRegression(output_dim=OUTPUT_DIM)\n",
    "model.summary(input_shape=(INPUT_DIM,))"
   ]
  },
  {
   "cell_type": "markdown",
   "metadata": {
    "colab_type": "text",
    "id": "pYKh54SKoma8"
   },
   "source": [
    "## Loss"
   ]
  },
  {
   "cell_type": "code",
   "execution_count": 59,
   "metadata": {
    "colab": {},
    "colab_type": "code",
    "id": "1aNcIvmiow7Q"
   },
   "outputs": [],
   "source": [
    "from tensorflow.keras.losses import MeanSquaredError"
   ]
  },
  {
   "cell_type": "code",
   "execution_count": 60,
   "metadata": {
    "colab": {
     "base_uri": "https://localhost:8080/",
     "height": 34
    },
    "colab_type": "code",
    "executionInfo": {
     "elapsed": 354,
     "status": "ok",
     "timestamp": 1583941114386,
     "user": {
      "displayName": "Goku Mohandas",
      "photoUrl": "https://lh3.googleusercontent.com/a-/AOh14GjMIOf3R_zwS_zZx4ZyPMtQe0lOkGpPOEUEKWpM7g=s64",
      "userId": "00378334517810298963"
     },
     "user_tz": 420
    },
    "id": "gesdrs3Vo0nq",
    "outputId": "1abbe82e-5bc5-46e7-969a-55cd6a351457"
   },
   "outputs": [
    {
     "name": "stdout",
     "output_type": "stream",
     "text": [
      "Loss:  0.75\n"
     ]
    }
   ],
   "source": [
    "mse = MeanSquaredError()\n",
    "loss = mse([0., 0., 1., 1.], [1., 1., 1., 0.])\n",
    "print('Loss: ', loss.numpy()) "
   ]
  },
  {
   "cell_type": "markdown",
   "metadata": {
    "colab_type": "text",
    "id": "ptfC0g-dxckr"
   },
   "source": [
    "## Metrics"
   ]
  },
  {
   "cell_type": "code",
   "execution_count": 61,
   "metadata": {
    "colab": {},
    "colab_type": "code",
    "id": "Lm3Am3Gqxeda"
   },
   "outputs": [],
   "source": [
    "from tensorflow.keras.metrics import MeanAbsolutePercentageError"
   ]
  },
  {
   "cell_type": "code",
   "execution_count": 62,
   "metadata": {
    "colab": {
     "base_uri": "https://localhost:8080/",
     "height": 34
    },
    "colab_type": "code",
    "executionInfo": {
     "elapsed": 749,
     "status": "ok",
     "timestamp": 1583941116377,
     "user": {
      "displayName": "Goku Mohandas",
      "photoUrl": "https://lh3.googleusercontent.com/a-/AOh14GjMIOf3R_zwS_zZx4ZyPMtQe0lOkGpPOEUEKWpM7g=s64",
      "userId": "00378334517810298963"
     },
     "user_tz": 420
    },
    "id": "9WMcuAkKiH09",
    "outputId": "a90163d3-0444-41e5-b0cd-0e68831d66ad"
   },
   "outputs": [
    {
     "name": "stdout",
     "output_type": "stream",
     "text": [
      "Final result:  50.0\n"
     ]
    }
   ],
   "source": [
    "metric = MeanAbsolutePercentageError()\n",
    "metric.update_state([0.5, 0.5, 1., 1.], [0.5, 1., 1., 0.])\n",
    "print('Final result: ', metric.result().numpy())"
   ]
  },
  {
   "cell_type": "markdown",
   "metadata": {
    "colab_type": "text",
    "id": "mctyzTveoegu"
   },
   "source": [
    "## Optimizer"
   ]
  },
  {
   "cell_type": "markdown",
   "metadata": {
    "colab_type": "text",
    "id": "PZ6IZ5pYcl1a"
   },
   "source": [
    "When we implemented linear regression with just NumPy, we used batch gradient descent to update our weights. But there are actually many different [gradient descent optimization algorithms](https://ruder.io/optimizing-gradient-descent/) to choose from and it depends on the situation. However, the [ADAM optimizer](https://ruder.io/optimizing-gradient-descent/index.html#gradientdescentoptimizationalgorithms/#adam) has become a standard algorithm for most cases. "
   ]
  },
  {
   "cell_type": "code",
   "execution_count": 63,
   "metadata": {
    "colab": {},
    "colab_type": "code",
    "id": "ViOE7L5RdRgX"
   },
   "outputs": [],
   "source": [
    "from tensorflow.keras.optimizers import Adam"
   ]
  },
  {
   "cell_type": "code",
   "execution_count": 64,
   "metadata": {
    "colab": {},
    "colab_type": "code",
    "id": "8EviGS0ldLvN"
   },
   "outputs": [],
   "source": [
    "# Optimizer\n",
    "optimizer = Adam(lr=LEARNING_RATE)"
   ]
  },
  {
   "cell_type": "markdown",
   "metadata": {
    "colab_type": "text",
    "id": "nXbZVkMAyIpL"
   },
   "source": [
    "## Training"
   ]
  },
  {
   "cell_type": "markdown",
   "metadata": {
    "colab_type": "text",
    "id": "fDhb7qGZrxGS"
   },
   "source": [
    "Here are the full list of options for [optimizer](https://www.tensorflow.org/versions/r2.0/api_docs/python/tf/keras/optimizers), [loss](https://www.tensorflow.org/versions/r2.0/api_docs/python/tf/keras/losses) and [metrics](https://www.tensorflow.org/versions/r2.0/api_docs/python/tf/keras/metrics)."
   ]
  },
  {
   "cell_type": "code",
   "execution_count": 65,
   "metadata": {
    "colab": {},
    "colab_type": "code",
    "id": "1xwV9WvBhVaF"
   },
   "outputs": [],
   "source": [
    "# Compile\n",
    "model.compile(optimizer=Adam(lr=LEARNING_RATE),\n",
    "              loss=MeanSquaredError(),\n",
    "              metrics=[MeanAbsolutePercentageError()])"
   ]
  },
  {
   "cell_type": "markdown",
   "metadata": {
    "colab_type": "text",
    "id": "7UBMYJJpr2T-"
   },
   "source": [
    "When we implemented linear regression from scratch, we used batch gradient descent to update our weights. This means that we calculated the gradients using the entire training dataset. We also could've updated our weights using stochastic gradient descent (SGD) where we pass in one training example one at a time. The current standard is mini-batch gradient descent, which strikes a balance between batch and stochastic GD, where we update the weights using a mini-batch of n (`BATCH_SIZE`) samples."
   ]
  },
  {
   "cell_type": "code",
   "execution_count": 66,
   "metadata": {
    "colab": {},
    "colab_type": "code",
    "id": "BcaPyVixsCS0"
   },
   "outputs": [],
   "source": [
    "BATCH_SIZE = 10"
   ]
  },
  {
   "cell_type": "code",
   "execution_count": 67,
   "metadata": {
    "colab": {
     "base_uri": "https://localhost:8080/",
     "height": 1000
    },
    "colab_type": "code",
    "executionInfo": {
     "elapsed": 1651,
     "status": "ok",
     "timestamp": 1583941122453,
     "user": {
      "displayName": "Goku Mohandas",
      "photoUrl": "https://lh3.googleusercontent.com/a-/AOh14GjMIOf3R_zwS_zZx4ZyPMtQe0lOkGpPOEUEKWpM7g=s64",
      "userId": "00378334517810298963"
     },
     "user_tz": 420
    },
    "id": "PeGmesCXcSqm",
    "outputId": "888002b6-b063-4f4a-c94f-e2d887b20ac3"
   },
   "outputs": [
    {
     "name": "stdout",
     "output_type": "stream",
     "text": [
      "Train on 72 samples, validate on 13 samples\n",
      "Epoch 1/50\n",
      "72/72 [==============================] - 1s 9ms/sample - loss: 0.2356 - mean_absolute_percentage_error: 89.9772 - val_loss: 0.1884 - val_mean_absolute_percentage_error: 175.6558\n",
      "Epoch 2/50\n",
      "72/72 [==============================] - 0s 346us/sample - loss: 0.2020 - mean_absolute_percentage_error: 88.3966 - val_loss: 0.1748 - val_mean_absolute_percentage_error: 200.5353\n",
      "Epoch 3/50\n",
      "72/72 [==============================] - 0s 374us/sample - loss: 0.2360 - mean_absolute_percentage_error: 89.3680 - val_loss: 0.1999 - val_mean_absolute_percentage_error: 173.6401\n",
      "Epoch 4/50\n",
      "72/72 [==============================] - 0s 360us/sample - loss: 0.2160 - mean_absolute_percentage_error: 83.9313 - val_loss: 0.1900 - val_mean_absolute_percentage_error: 162.4811\n",
      "Epoch 5/50\n",
      "72/72 [==============================] - 0s 388us/sample - loss: 0.2017 - mean_absolute_percentage_error: 84.9209 - val_loss: 0.1666 - val_mean_absolute_percentage_error: 183.1638\n",
      "Epoch 6/50\n",
      "72/72 [==============================] - 0s 388us/sample - loss: 0.2062 - mean_absolute_percentage_error: 88.4389 - val_loss: 0.1687 - val_mean_absolute_percentage_error: 186.8995\n",
      "Epoch 7/50\n",
      "72/72 [==============================] - 0s 332us/sample - loss: 0.2100 - mean_absolute_percentage_error: 87.1578 - val_loss: 0.1807 - val_mean_absolute_percentage_error: 174.5761\n",
      "Epoch 8/50\n",
      "72/72 [==============================] - 0s 388us/sample - loss: 0.2069 - mean_absolute_percentage_error: 85.1806 - val_loss: 0.1802 - val_mean_absolute_percentage_error: 173.2741\n",
      "Epoch 9/50\n",
      "72/72 [==============================] - 0s 360us/sample - loss: 0.2062 - mean_absolute_percentage_error: 86.0827 - val_loss: 0.1737 - val_mean_absolute_percentage_error: 179.6806\n",
      "Epoch 10/50\n",
      "72/72 [==============================] - 0s 416us/sample - loss: 0.2074 - mean_absolute_percentage_error: 87.0478 - val_loss: 0.1739 - val_mean_absolute_percentage_error: 179.8534\n",
      "Epoch 11/50\n",
      "72/72 [==============================] - 0s 374us/sample - loss: 0.2072 - mean_absolute_percentage_error: 86.5204 - val_loss: 0.1769 - val_mean_absolute_percentage_error: 176.8354\n",
      "Epoch 12/50\n",
      "72/72 [==============================] - 0s 374us/sample - loss: 0.2068 - mean_absolute_percentage_error: 86.1181 - val_loss: 0.1768 - val_mean_absolute_percentage_error: 176.9811\n",
      "Epoch 13/50\n",
      "72/72 [==============================] - 0s 374us/sample - loss: 0.2071 - mean_absolute_percentage_error: 86.4010 - val_loss: 0.1755 - val_mean_absolute_percentage_error: 178.2533\n",
      "Epoch 14/50\n",
      "72/72 [==============================] - 0s 429us/sample - loss: 0.2072 - mean_absolute_percentage_error: 86.5544 - val_loss: 0.1756 - val_mean_absolute_percentage_error: 178.0750\n",
      "Epoch 15/50\n",
      "72/72 [==============================] - 0s 513us/sample - loss: 0.2070 - mean_absolute_percentage_error: 86.4251 - val_loss: 0.1761 - val_mean_absolute_percentage_error: 177.5820\n",
      "Epoch 16/50\n",
      "72/72 [==============================] - 0s 319us/sample - loss: 0.2070 - mean_absolute_percentage_error: 86.3804 - val_loss: 0.1761 - val_mean_absolute_percentage_error: 177.6882\n",
      "Epoch 17/50\n",
      "72/72 [==============================] - 0s 388us/sample - loss: 0.2071 - mean_absolute_percentage_error: 86.4381 - val_loss: 0.1759 - val_mean_absolute_percentage_error: 177.8471\n",
      "Epoch 18/50\n",
      "72/72 [==============================] - 0s 443us/sample - loss: 0.2071 - mean_absolute_percentage_error: 86.4508 - val_loss: 0.1759 - val_mean_absolute_percentage_error: 177.7903\n",
      "Epoch 19/50\n",
      "72/72 [==============================] - 0s 457us/sample - loss: 0.2071 - mean_absolute_percentage_error: 86.4320 - val_loss: 0.1760 - val_mean_absolute_percentage_error: 177.7437\n",
      "Epoch 20/50\n",
      "72/72 [==============================] - 0s 429us/sample - loss: 0.2071 - mean_absolute_percentage_error: 86.4326 - val_loss: 0.1760 - val_mean_absolute_percentage_error: 177.7608\n",
      "Epoch 21/50\n",
      "72/72 [==============================] - 0s 346us/sample - loss: 0.2071 - mean_absolute_percentage_error: 86.4399 - val_loss: 0.1760 - val_mean_absolute_percentage_error: 177.7650\n",
      "Epoch 22/50\n",
      "72/72 [==============================] - 0s 374us/sample - loss: 0.2071 - mean_absolute_percentage_error: 86.4403 - val_loss: 0.1760 - val_mean_absolute_percentage_error: 177.7582\n",
      "Epoch 23/50\n",
      "72/72 [==============================] - 0s 346us/sample - loss: 0.2071 - mean_absolute_percentage_error: 86.4403 - val_loss: 0.1760 - val_mean_absolute_percentage_error: 177.7581\n",
      "Epoch 24/50\n",
      "72/72 [==============================] - 0s 416us/sample - loss: 0.2071 - mean_absolute_percentage_error: 86.4419 - val_loss: 0.1760 - val_mean_absolute_percentage_error: 177.7554\n",
      "Epoch 25/50\n",
      "72/72 [==============================] - 0s 346us/sample - loss: 0.2071 - mean_absolute_percentage_error: 86.4425 - val_loss: 0.1760 - val_mean_absolute_percentage_error: 177.7514\n",
      "Epoch 26/50\n",
      "72/72 [==============================] - 0s 471us/sample - loss: 0.2071 - mean_absolute_percentage_error: 86.4432 - val_loss: 0.1760 - val_mean_absolute_percentage_error: 177.7517\n",
      "Epoch 27/50\n",
      "72/72 [==============================] - 0s 374us/sample - loss: 0.2072 - mean_absolute_percentage_error: 86.4444 - val_loss: 0.1760 - val_mean_absolute_percentage_error: 177.7515\n",
      "Epoch 28/50\n",
      "72/72 [==============================] - 0s 388us/sample - loss: 0.2072 - mean_absolute_percentage_error: 86.4451 - val_loss: 0.1760 - val_mean_absolute_percentage_error: 177.7487\n",
      "Epoch 29/50\n",
      "72/72 [==============================] - 0s 374us/sample - loss: 0.2072 - mean_absolute_percentage_error: 86.4455 - val_loss: 0.1760 - val_mean_absolute_percentage_error: 177.7469\n",
      "Epoch 30/50\n",
      "72/72 [==============================] - 0s 402us/sample - loss: 0.2072 - mean_absolute_percentage_error: 86.4462 - val_loss: 0.1760 - val_mean_absolute_percentage_error: 177.7466\n",
      "Epoch 31/50\n",
      "72/72 [==============================] - 0s 374us/sample - loss: 0.2072 - mean_absolute_percentage_error: 86.4470 - val_loss: 0.1760 - val_mean_absolute_percentage_error: 177.7456\n",
      "Epoch 32/50\n",
      "72/72 [==============================] - 0s 443us/sample - loss: 0.2072 - mean_absolute_percentage_error: 86.4475 - val_loss: 0.1760 - val_mean_absolute_percentage_error: 177.7442\n",
      "Epoch 33/50\n",
      "72/72 [==============================] - 0s 374us/sample - loss: 0.2072 - mean_absolute_percentage_error: 86.4479 - val_loss: 0.1760 - val_mean_absolute_percentage_error: 177.7432\n",
      "Epoch 34/50\n",
      "72/72 [==============================] - 0s 429us/sample - loss: 0.2072 - mean_absolute_percentage_error: 86.4484 - val_loss: 0.1760 - val_mean_absolute_percentage_error: 177.7425\n",
      "Epoch 35/50\n",
      "72/72 [==============================] - 0s 457us/sample - loss: 0.2072 - mean_absolute_percentage_error: 86.4489 - val_loss: 0.1760 - val_mean_absolute_percentage_error: 177.7416\n",
      "Epoch 36/50\n",
      "72/72 [==============================] - 0s 471us/sample - loss: 0.2072 - mean_absolute_percentage_error: 86.4493 - val_loss: 0.1760 - val_mean_absolute_percentage_error: 177.7407\n",
      "Epoch 37/50\n",
      "72/72 [==============================] - 0s 402us/sample - loss: 0.2072 - mean_absolute_percentage_error: 86.4497 - val_loss: 0.1760 - val_mean_absolute_percentage_error: 177.7400\n",
      "Epoch 38/50\n",
      "72/72 [==============================] - 0s 415us/sample - loss: 0.2072 - mean_absolute_percentage_error: 86.4501 - val_loss: 0.1760 - val_mean_absolute_percentage_error: 177.7393\n",
      "Epoch 39/50\n",
      "72/72 [==============================] - 0s 416us/sample - loss: 0.2072 - mean_absolute_percentage_error: 86.4505 - val_loss: 0.1760 - val_mean_absolute_percentage_error: 177.7386\n",
      "Epoch 40/50\n",
      "72/72 [==============================] - 0s 388us/sample - loss: 0.2072 - mean_absolute_percentage_error: 86.4509 - val_loss: 0.1760 - val_mean_absolute_percentage_error: 177.7379\n",
      "Epoch 41/50\n",
      "72/72 [==============================] - 0s 485us/sample - loss: 0.2072 - mean_absolute_percentage_error: 86.4512 - val_loss: 0.1760 - val_mean_absolute_percentage_error: 177.7373\n",
      "Epoch 42/50\n",
      "72/72 [==============================] - 0s 416us/sample - loss: 0.2072 - mean_absolute_percentage_error: 86.4515 - val_loss: 0.1760 - val_mean_absolute_percentage_error: 177.7367\n",
      "Epoch 43/50\n"
     ]
    },
    {
     "name": "stdout",
     "output_type": "stream",
     "text": [
      "72/72 [==============================] - 0s 416us/sample - loss: 0.2072 - mean_absolute_percentage_error: 86.4518 - val_loss: 0.1760 - val_mean_absolute_percentage_error: 177.7362\n",
      "Epoch 44/50\n",
      "72/72 [==============================] - 0s 457us/sample - loss: 0.2072 - mean_absolute_percentage_error: 86.4521 - val_loss: 0.1760 - val_mean_absolute_percentage_error: 177.7356\n",
      "Epoch 45/50\n",
      "72/72 [==============================] - 0s 388us/sample - loss: 0.2072 - mean_absolute_percentage_error: 86.4524 - val_loss: 0.1760 - val_mean_absolute_percentage_error: 177.7351\n",
      "Epoch 46/50\n",
      "72/72 [==============================] - 0s 402us/sample - loss: 0.2072 - mean_absolute_percentage_error: 86.4526 - val_loss: 0.1760 - val_mean_absolute_percentage_error: 177.7346\n",
      "Epoch 47/50\n",
      "72/72 [==============================] - 0s 443us/sample - loss: 0.2072 - mean_absolute_percentage_error: 86.4529 - val_loss: 0.1760 - val_mean_absolute_percentage_error: 177.7342\n",
      "Epoch 48/50\n",
      "72/72 [==============================] - 0s 346us/sample - loss: 0.2072 - mean_absolute_percentage_error: 86.4531 - val_loss: 0.1760 - val_mean_absolute_percentage_error: 177.7337\n",
      "Epoch 49/50\n",
      "72/72 [==============================] - 0s 526us/sample - loss: 0.2072 - mean_absolute_percentage_error: 86.4533 - val_loss: 0.1760 - val_mean_absolute_percentage_error: 177.7333\n",
      "Epoch 50/50\n",
      "72/72 [==============================] - 0s 485us/sample - loss: 0.2072 - mean_absolute_percentage_error: 86.4536 - val_loss: 0.1760 - val_mean_absolute_percentage_error: 177.7329\n"
     ]
    }
   ],
   "source": [
    "# Training\n",
    "history = model.fit(x=X_train, \n",
    "                    y=y_train,\n",
    "                    validation_data=(X_val, y_val),\n",
    "                    epochs=NUM_EPOCHS,\n",
    "                    batch_size=BATCH_SIZE,\n",
    "                    shuffle=False,\n",
    "                    verbose=1)"
   ]
  },
  {
   "cell_type": "code",
   "execution_count": 68,
   "metadata": {
    "colab": {
     "base_uri": "https://localhost:8080/",
     "height": 51
    },
    "colab_type": "code",
    "executionInfo": {
     "elapsed": 468,
     "status": "ok",
     "timestamp": 1583941122456,
     "user": {
      "displayName": "Goku Mohandas",
      "photoUrl": "https://lh3.googleusercontent.com/a-/AOh14GjMIOf3R_zwS_zZx4ZyPMtQe0lOkGpPOEUEKWpM7g=s64",
      "userId": "00378334517810298963"
     },
     "user_tz": 420
    },
    "id": "Bk-sCSPxA5eS",
    "outputId": "7b3da21e-6190-4dc1-beb8-50ec4b478195"
   },
   "outputs": [
    {
     "name": "stdout",
     "output_type": "stream",
     "text": [
      "metrics: ['loss', 'mean_absolute_percentage_error', 'val_loss', 'val_mean_absolute_percentage_error']\n",
      "final val_loss: 0.18\n"
     ]
    }
   ],
   "source": [
    "# Training metrics\n",
    "print (f\"metrics: {list(history.history.keys())}\")\n",
    "print (f\"final val_loss: {history.history['val_loss'][-1]:.2f}\")"
   ]
  },
  {
   "cell_type": "markdown",
   "metadata": {
    "colab_type": "text",
    "id": "vj7cpeCsi6tf"
   },
   "source": [
    "## Evaluation"
   ]
  },
  {
   "cell_type": "code",
   "execution_count": 69,
   "metadata": {
    "colab": {},
    "colab_type": "code",
    "id": "LeQm-H2vi6A7"
   },
   "outputs": [],
   "source": [
    "# Predictions\n",
    "pred_train = model.predict(X_train)\n",
    "pred_test = model.predict(X_test)"
   ]
  },
  {
   "cell_type": "code",
   "execution_count": 70,
   "metadata": {
    "colab": {
     "base_uri": "https://localhost:8080/",
     "height": 34
    },
    "colab_type": "code",
    "executionInfo": {
     "elapsed": 230,
     "status": "ok",
     "timestamp": 1583941127580,
     "user": {
      "displayName": "Goku Mohandas",
      "photoUrl": "https://lh3.googleusercontent.com/a-/AOh14GjMIOf3R_zwS_zZx4ZyPMtQe0lOkGpPOEUEKWpM7g=s64",
      "userId": "00378334517810298963"
     },
     "user_tz": 420
    },
    "id": "dnW9b7ZQkA2l",
    "outputId": "c49e63e8-71c0-425c-f9d3-ee03a81e16be"
   },
   "outputs": [
    {
     "name": "stdout",
     "output_type": "stream",
     "text": [
      "train_mse:  0.20\n"
     ]
    }
   ],
   "source": [
    "# Train metrics\n",
    "train_mse = tf.keras.metrics.MeanSquaredError()\n",
    "train_mse.update_state(y_train, pred_train)\n",
    "print(f'train_mse: {train_mse.result().numpy(): .2f}')"
   ]
  },
  {
   "cell_type": "code",
   "execution_count": 71,
   "metadata": {
    "colab": {
     "base_uri": "https://localhost:8080/",
     "height": 34
    },
    "colab_type": "code",
    "executionInfo": {
     "elapsed": 411,
     "status": "ok",
     "timestamp": 1583941128292,
     "user": {
      "displayName": "Goku Mohandas",
      "photoUrl": "https://lh3.googleusercontent.com/a-/AOh14GjMIOf3R_zwS_zZx4ZyPMtQe0lOkGpPOEUEKWpM7g=s64",
      "userId": "00378334517810298963"
     },
     "user_tz": 420
    },
    "id": "TGV3-zwXlJEU",
    "outputId": "01b67a11-6af8-4a62-860a-b74c9583ca61"
   },
   "outputs": [
    {
     "name": "stdout",
     "output_type": "stream",
     "text": [
      "test_mse:  0.13\n"
     ]
    }
   ],
   "source": [
    "# Test metrics\n",
    "test_mse = tf.keras.metrics.MeanSquaredError()\n",
    "test_mse.update_state(y_test, pred_test)\n",
    "print(f'test_mse: {test_mse.result().numpy(): .2f}')"
   ]
  },
  {
   "cell_type": "markdown",
   "metadata": {
    "colab_type": "text",
    "id": "HdNCjH4ZjnRu"
   },
   "source": [
    "Since we only have one feature, it's easy to visually inspect the model."
   ]
  },
  {
   "cell_type": "code",
   "execution_count": 72,
   "metadata": {
    "colab": {
     "base_uri": "https://localhost:8080/",
     "height": 336
    },
    "colab_type": "code",
    "executionInfo": {
     "elapsed": 818,
     "status": "ok",
     "timestamp": 1583941129797,
     "user": {
      "displayName": "Goku Mohandas",
      "photoUrl": "https://lh3.googleusercontent.com/a-/AOh14GjMIOf3R_zwS_zZx4ZyPMtQe0lOkGpPOEUEKWpM7g=s64",
      "userId": "00378334517810298963"
     },
     "user_tz": 420
    },
    "id": "h0a-iUi4i6Iy",
    "outputId": "6ea9c1c4-e59c-478f-a326-50a1282a3e71"
   },
   "outputs": [
    {
     "data": {
      "image/png": "[encoded data removed]",
      "text/plain": [
       "<Figure size 1080x360 with 2 Axes>"
      ]
     },
     "metadata": {
      "needs_background": "light"
     },
     "output_type": "display_data"
    }
   ],
   "source": [
    "# Figure size\n",
    "plt.figure(figsize=(15,5))\n",
    "\n",
    "# Plot train data\n",
    "plt.subplot(1, 2, 1)\n",
    "plt.title(\"Train\")\n",
    "plt.scatter(X_train, y_train, label='y_train')\n",
    "plt.plot(X_train, pred_train, color='red', linewidth=1, linestyle='-', label='model')\n",
    "plt.grid()\n",
    "plt.legend(loc='lower right')\n",
    "\n",
    "# Plot test data\n",
    "plt.subplot(1, 2, 2)\n",
    "plt.title(\"Test\")\n",
    "plt.scatter(X_test, y_test, label='y_test')\n",
    "plt.plot(X_test, pred_test, color='red', linewidth=1, linestyle='-', label='model')\n",
    "plt.legend(loc='lower right')\n",
    "\n",
    "# Show plots\n",
    "plt.show()"
   ]
  },
  {
   "cell_type": "markdown",
   "metadata": {
    "colab_type": "text",
    "id": "e9ppP7yDmAq7"
   },
   "source": [
    "## Inference"
   ]
  },
  {
   "cell_type": "markdown",
   "metadata": {
    "colab_type": "text",
    "id": "x1EeMpH8mD3f"
   },
   "source": [
    "After training a model, we can use it to predict on new data."
   ]
  },
  {
   "cell_type": "code",
   "execution_count": 73,
   "metadata": {
    "colab": {},
    "colab_type": "code",
    "id": "gyGJ3ossi6Gm"
   },
   "outputs": [],
   "source": [
    "# Feed in your own inputs\n",
    "sample_indices = [10, 15, 25]\n",
    "X_infer = np.array(sample_indices, dtype=np.float32)\n",
    "X_infer = X_scaler.transform(X_infer.reshape(-1, 1))"
   ]
  },
  {
   "cell_type": "markdown",
   "metadata": {
    "colab_type": "text",
    "id": "9PuOcgwlmMST"
   },
   "source": [
    "Recall that we need to unstandardize our predictions.\n",
    "\n",
    "$ \\hat{y}_{scaled} = \\frac{\\hat{y} - \\mu_{\\hat{y}}}{\\sigma_{\\hat{y}}} $\n",
    "\n",
    "$ \\hat{y} = \\hat{y}_{scaled} * \\sigma_{\\hat{y}} + \\mu_{\\hat{y}} $"
   ]
  },
  {
   "cell_type": "code",
   "execution_count": 74,
   "metadata": {
    "colab": {
     "base_uri": "https://localhost:8080/",
     "height": 68
    },
    "colab_type": "code",
    "executionInfo": {
     "elapsed": 555,
     "status": "ok",
     "timestamp": 1583941135121,
     "user": {
      "displayName": "Goku Mohandas",
      "photoUrl": "https://lh3.googleusercontent.com/a-/AOh14GjMIOf3R_zwS_zZx4ZyPMtQe0lOkGpPOEUEKWpM7g=s64",
      "userId": "00378334517810298963"
     },
     "user_tz": 420
    },
    "id": "j0uQOCzai5-G",
    "outputId": "7ce41969-17ea-4200-9e55-12876ce5fbb0"
   },
   "outputs": [
    {
     "name": "stdout",
     "output_type": "stream",
     "text": [
      "-60.94 (actual) → 50.50 (predicted)\n",
      "67.58 (actual) → 66.15 (predicted)\n",
      "197.02 (actual) → 97.44 (predicted)\n"
     ]
    }
   ],
   "source": [
    "# Unstandardize predictions\n",
    "pred_infer = model.predict(X_infer) * np.sqrt(y_scaler.var_) + y_scaler.mean_\n",
    "for i, index in enumerate(sample_indices):\n",
    "    print (f\"{df.iloc[index]['y']:.2f} (actual) → {pred_infer[i][0]:.2f} (predicted)\")"
   ]
  },
  {
   "cell_type": "markdown",
   "metadata": {
    "colab_type": "text",
    "id": "1TMS8GvcmWZ0"
   },
   "source": [
    "## Interpretability"
   ]
  },
  {
   "cell_type": "markdown",
   "metadata": {
    "colab_type": "text",
    "id": "jd_eIgQBmYzm"
   },
   "source": [
    "Linear regression offers the great advantage of being highly interpretable. Each feature has a coefficient which signifies its importance/impact on the output variable y. We can interpret our coefficient as follows: by increasing X by 1 unit, we increase y by $W$ (~3.65) units. "
   ]
  },
  {
   "cell_type": "code",
   "execution_count": 75,
   "metadata": {
    "colab": {
     "base_uri": "https://localhost:8080/",
     "height": 51
    },
    "colab_type": "code",
    "executionInfo": {
     "elapsed": 356,
     "status": "ok",
     "timestamp": 1583941140253,
     "user": {
      "displayName": "Goku Mohandas",
      "photoUrl": "https://lh3.googleusercontent.com/a-/AOh14GjMIOf3R_zwS_zZx4ZyPMtQe0lOkGpPOEUEKWpM7g=s64",
      "userId": "00378334517810298963"
     },
     "user_tz": 420
    },
    "id": "YvIKQ6sVmV-A",
    "outputId": "1416196c-c052-4fa3-90bb-408650c1b5ce"
   },
   "outputs": [
    {
     "name": "stdout",
     "output_type": "stream",
     "text": [
      "[actual] y = 3.5X + noise\n",
      "[model] y_hat = 3.1X + 19.2\n"
     ]
    }
   ],
   "source": [
    "# Unstandardize coefficients \n",
    "W = model.layers[0].get_weights()[0][0][0]\n",
    "b = model.layers[0].get_weights()[1][0]\n",
    "W_unscaled = W * (y_scaler.scale_/X_scaler.scale_)\n",
    "b_unscaled = b * y_scaler.scale_ + y_scaler.mean_ - np.sum(W_unscaled*X_scaler.mean_)\n",
    "print (\"[actual] y = 3.5X + noise\")\n",
    "print (f\"[model] y_hat = {W_unscaled[0]:.1f}X + {b_unscaled[0]:.1f}\") "
   ]
  },
  {
   "cell_type": "markdown",
   "metadata": {
    "colab_type": "text",
    "id": "7-BrAEsOsj3g"
   },
   "source": [
    "# Regularization"
   ]
  },
  {
   "cell_type": "markdown",
   "metadata": {
    "colab_type": "text",
    "id": "rCEbjZARsmBc"
   },
   "source": [
    "Regularization helps decrease overfitting. Below is L2 regularization (ridge regression). There are many forms of regularization but they all work to reduce overfitting in our models. With L2 regularization, we are penalizing the weights with large magnitudes by decaying them. Having certain weights with high magnitudes will lead to preferential bias with the inputs and we want the model to work with all the inputs and not just a select few. There are also other types of regularization like L1 (lasso regression) which is useful for creating sparse models where some feature cofficients are zeroed out, or elastic which combines L1 and L2 penalties. \n",
    "\n",
    "**Note**: Regularization is not just for linear regression. You can use it to regularize any model's weights including the ones we will look at in future lessons."
   ]
  },
  {
   "cell_type": "markdown",
   "metadata": {
    "colab_type": "text",
    "id": "QfVSaAQfspyk"
   },
   "source": [
    "$ J(\\theta) = = \\frac{1}{2}\\sum_{i}(X_iW - y_i)^2 + \\frac{\\lambda}{2}W^TW$\n",
    "\n",
    "$ \\frac{\\partial{J}}{\\partial{W}}  = X (\\hat{y} - y) + \\lambda W $\n",
    "\n",
    "$W = W- \\alpha\\frac{\\partial{J}}{\\partial{W}}$\n",
    "* $\\lambda$ is the regularzation coefficient"
   ]
  },
  {
   "cell_type": "code",
   "execution_count": 76,
   "metadata": {
    "colab": {},
    "colab_type": "code",
    "id": "83jtd_u2sli1"
   },
   "outputs": [],
   "source": [
    "from tensorflow.keras.regularizers import l2"
   ]
  },
  {
   "cell_type": "code",
   "execution_count": 77,
   "metadata": {
    "colab": {},
    "colab_type": "code",
    "id": "E-KcdfC1slrn"
   },
   "outputs": [],
   "source": [
    "L2_LAMBDA = 1e-2"
   ]
  },
  {
   "cell_type": "code",
   "execution_count": 78,
   "metadata": {
    "colab": {},
    "colab_type": "code",
    "id": "QjvyB0_vaGHw"
   },
   "outputs": [],
   "source": [
    "class L2LinearRegression(Model):\n",
    "    def __init__(self, l2_lambda, output_dim):\n",
    "        super(L2LinearRegression, self).__init__(name='l2_linear_regression')\n",
    "        self.fc1 = Dense(units=output_dim, activation='linear', \n",
    "                         kernel_regularizer=l2(l=l2_lambda), name='W')\n",
    "        \n",
    "    def call(self, x_in, training=False):\n",
    "        y_pred = self.fc1(x_in)\n",
    "        return y_pred\n",
    "    \n",
    "    def summary(self, input_shape):\n",
    "        x_in = Input(shape=input_shape, name='X')\n",
    "        summary = Model(inputs=x_in, outputs=self.call(x_in), name=self.name)\n",
    "        return plot_model(summary, show_shapes=True) # forward pass"
   ]
  },
  {
   "cell_type": "code",
   "execution_count": 79,
   "metadata": {
    "colab": {
     "base_uri": "https://localhost:8080/",
     "height": 201
    },
    "colab_type": "code",
    "executionInfo": {
     "elapsed": 1012,
     "status": "ok",
     "timestamp": 1583941144835,
     "user": {
      "displayName": "Goku Mohandas",
      "photoUrl": "https://lh3.googleusercontent.com/a-/AOh14GjMIOf3R_zwS_zZx4ZyPMtQe0lOkGpPOEUEKWpM7g=s64",
      "userId": "00378334517810298963"
     },
     "user_tz": 420
    },
    "id": "-yBiOgL-slpy",
    "outputId": "053615a1-4d16-458b-ed67-d97901a4379a"
   },
   "outputs": [
    {
     "data": {
      "image/png": "[encoded data removed]",
      "text/plain": [
       "<IPython.core.display.Image object>"
      ]
     },
     "execution_count": 79,
     "metadata": {},
     "output_type": "execute_result"
    }
   ],
   "source": [
    "# Initialize model\n",
    "model = L2LinearRegression(l2_lambda=L2_LAMBDA, output_dim=OUTPUT_DIM)\n",
    "model.summary(input_shape=(INPUT_DIM,))"
   ]
  },
  {
   "cell_type": "code",
   "execution_count": 80,
   "metadata": {
    "colab": {},
    "colab_type": "code",
    "id": "l7WatvzFtINs"
   },
   "outputs": [],
   "source": [
    "# Compile\n",
    "model.compile(optimizer=Adam(lr=LEARNING_RATE),\n",
    "              loss=MeanSquaredError(),\n",
    "              metrics=[MeanAbsolutePercentageError()])"
   ]
  },
  {
   "cell_type": "code",
   "execution_count": 81,
   "metadata": {
    "colab": {
     "base_uri": "https://localhost:8080/",
     "height": 1000
    },
    "colab_type": "code",
    "executionInfo": {
     "elapsed": 1598,
     "status": "ok",
     "timestamp": 1583941147100,
     "user": {
      "displayName": "Goku Mohandas",
      "photoUrl": "https://lh3.googleusercontent.com/a-/AOh14GjMIOf3R_zwS_zZx4ZyPMtQe0lOkGpPOEUEKWpM7g=s64",
      "userId": "00378334517810298963"
     },
     "user_tz": 420
    },
    "id": "3K7lVyQStILO",
    "outputId": "095306cc-a43a-44a0-e44d-e2c2c319b3db"
   },
   "outputs": [
    {
     "name": "stdout",
     "output_type": "stream",
     "text": [
      "Train on 72 samples, validate on 13 samples\n",
      "Epoch 1/50\n",
      "72/72 [==============================] - 1s 7ms/sample - loss: 0.2288 - mean_absolute_percentage_error: 91.8329 - val_loss: 0.1618 - val_mean_absolute_percentage_error: 193.5277\n",
      "Epoch 2/50\n",
      "72/72 [==============================] - 0s 374us/sample - loss: 0.2077 - mean_absolute_percentage_error: 86.5663 - val_loss: 0.1983 - val_mean_absolute_percentage_error: 161.6245\n",
      "Epoch 3/50\n",
      "72/72 [==============================] - 0s 388us/sample - loss: 0.2086 - mean_absolute_percentage_error: 83.6696 - val_loss: 0.1803 - val_mean_absolute_percentage_error: 179.1657\n",
      "Epoch 4/50\n",
      "72/72 [==============================] - 0s 374us/sample - loss: 0.2160 - mean_absolute_percentage_error: 88.5453 - val_loss: 0.1704 - val_mean_absolute_percentage_error: 184.6858\n",
      "Epoch 5/50\n",
      "72/72 [==============================] - 0s 360us/sample - loss: 0.2098 - mean_absolute_percentage_error: 87.5156 - val_loss: 0.1729 - val_mean_absolute_percentage_error: 181.6206\n",
      "Epoch 6/50\n",
      "72/72 [==============================] - 0s 374us/sample - loss: 0.2145 - mean_absolute_percentage_error: 90.1363 - val_loss: 0.1823 - val_mean_absolute_percentage_error: 173.6553\n",
      "Epoch 7/50\n",
      "72/72 [==============================] - 0s 388us/sample - loss: 0.2496 - mean_absolute_percentage_error: 83.1612 - val_loss: 0.2466 - val_mean_absolute_percentage_error: 131.4542\n",
      "Epoch 8/50\n",
      "72/72 [==============================] - 0s 388us/sample - loss: 0.2285 - mean_absolute_percentage_error: 95.6197 - val_loss: 0.1220 - val_mean_absolute_percentage_error: 262.1106\n",
      "Epoch 9/50\n",
      "72/72 [==============================] - 0s 346us/sample - loss: 0.2432 - mean_absolute_percentage_error: 95.5498 - val_loss: 0.2221 - val_mean_absolute_percentage_error: 145.2986\n",
      "Epoch 10/50\n",
      "72/72 [==============================] - 0s 360us/sample - loss: 0.2224 - mean_absolute_percentage_error: 78.7316 - val_loss: 0.2202 - val_mean_absolute_percentage_error: 148.0671\n",
      "Epoch 11/50\n",
      "72/72 [==============================] - 0s 429us/sample - loss: 0.2105 - mean_absolute_percentage_error: 76.9715 - val_loss: 0.2201 - val_mean_absolute_percentage_error: 150.7602\n",
      "Epoch 12/50\n",
      "72/72 [==============================] - 0s 374us/sample - loss: 0.2113 - mean_absolute_percentage_error: 84.0027 - val_loss: 0.1495 - val_mean_absolute_percentage_error: 206.3609\n",
      "Epoch 13/50\n",
      "72/72 [==============================] - 0s 332us/sample - loss: 0.2202 - mean_absolute_percentage_error: 96.6684 - val_loss: 0.1588 - val_mean_absolute_percentage_error: 196.2410\n",
      "Epoch 14/50\n",
      "72/72 [==============================] - 0s 360us/sample - loss: 0.2154 - mean_absolute_percentage_error: 83.6111 - val_loss: 0.2344 - val_mean_absolute_percentage_error: 137.9584\n",
      "Epoch 15/50\n",
      "72/72 [==============================] - 0s 374us/sample - loss: 0.2170 - mean_absolute_percentage_error: 81.2331 - val_loss: 0.1920 - val_mean_absolute_percentage_error: 165.8083\n",
      "Epoch 16/50\n",
      "72/72 [==============================] - 0s 429us/sample - loss: 0.2077 - mean_absolute_percentage_error: 81.9887 - val_loss: 0.2039 - val_mean_absolute_percentage_error: 156.5448\n",
      "Epoch 17/50\n",
      "72/72 [==============================] - 0s 388us/sample - loss: 0.2103 - mean_absolute_percentage_error: 87.2836 - val_loss: 0.1722 - val_mean_absolute_percentage_error: 183.1179\n",
      "Epoch 18/50\n",
      "72/72 [==============================] - 0s 360us/sample - loss: 0.2067 - mean_absolute_percentage_error: 86.0091 - val_loss: 0.1913 - val_mean_absolute_percentage_error: 167.5471\n",
      "Epoch 19/50\n",
      "72/72 [==============================] - 0s 360us/sample - loss: 0.2148 - mean_absolute_percentage_error: 84.6914 - val_loss: 0.2048 - val_mean_absolute_percentage_error: 158.1355\n",
      "Epoch 20/50\n",
      "72/72 [==============================] - 0s 319us/sample - loss: 0.2101 - mean_absolute_percentage_error: 83.0425 - val_loss: 0.1758 - val_mean_absolute_percentage_error: 186.4348\n",
      "Epoch 21/50\n",
      "72/72 [==============================] - 0s 443us/sample - loss: 0.2109 - mean_absolute_percentage_error: 87.1595 - val_loss: 0.1624 - val_mean_absolute_percentage_error: 191.9830\n",
      "Epoch 22/50\n",
      "72/72 [==============================] - 0s 388us/sample - loss: 0.2145 - mean_absolute_percentage_error: 88.8634 - val_loss: 0.1693 - val_mean_absolute_percentage_error: 186.5007\n",
      "Epoch 23/50\n",
      "72/72 [==============================] - 0s 429us/sample - loss: 0.2095 - mean_absolute_percentage_error: 88.9384 - val_loss: 0.1904 - val_mean_absolute_percentage_error: 166.8812\n",
      "Epoch 24/50\n",
      "72/72 [==============================] - 0s 402us/sample - loss: 0.2423 - mean_absolute_percentage_error: 74.0255 - val_loss: 0.3120 - val_mean_absolute_percentage_error: 164.5610\n",
      "Epoch 25/50\n",
      "72/72 [==============================] - 0s 374us/sample - loss: 0.2525 - mean_absolute_percentage_error: 85.4136 - val_loss: 0.2458 - val_mean_absolute_percentage_error: 185.4004\n",
      "Epoch 26/50\n",
      "72/72 [==============================] - 0s 443us/sample - loss: 0.2162 - mean_absolute_percentage_error: 84.3663 - val_loss: 0.1974 - val_mean_absolute_percentage_error: 163.7751\n",
      "Epoch 27/50\n",
      "72/72 [==============================] - 0s 332us/sample - loss: 0.2240 - mean_absolute_percentage_error: 85.7275 - val_loss: 0.1661 - val_mean_absolute_percentage_error: 192.0023\n",
      "Epoch 28/50\n",
      "72/72 [==============================] - 0s 402us/sample - loss: 0.2163 - mean_absolute_percentage_error: 93.7694 - val_loss: 0.1436 - val_mean_absolute_percentage_error: 225.3397\n",
      "Epoch 29/50\n",
      "72/72 [==============================] - 0s 332us/sample - loss: 0.2249 - mean_absolute_percentage_error: 93.2936 - val_loss: 0.2121 - val_mean_absolute_percentage_error: 152.6295\n",
      "Epoch 30/50\n",
      "72/72 [==============================] - 0s 374us/sample - loss: 0.2270 - mean_absolute_percentage_error: 82.4601 - val_loss: 0.2494 - val_mean_absolute_percentage_error: 166.0780\n",
      "Epoch 31/50\n",
      "72/72 [==============================] - 0s 443us/sample - loss: 0.2141 - mean_absolute_percentage_error: 78.6435 - val_loss: 0.1741 - val_mean_absolute_percentage_error: 184.3436\n",
      "Epoch 32/50\n",
      "72/72 [==============================] - 0s 346us/sample - loss: 0.2092 - mean_absolute_percentage_error: 87.0138 - val_loss: 0.1712 - val_mean_absolute_percentage_error: 183.2491\n",
      "Epoch 33/50\n",
      "72/72 [==============================] - 0s 374us/sample - loss: 0.2087 - mean_absolute_percentage_error: 85.6574 - val_loss: 0.2011 - val_mean_absolute_percentage_error: 162.4853\n",
      "Epoch 34/50\n",
      "72/72 [==============================] - 0s 416us/sample - loss: 0.2112 - mean_absolute_percentage_error: 81.5740 - val_loss: 0.1861 - val_mean_absolute_percentage_error: 171.5124\n",
      "Epoch 35/50\n",
      "72/72 [==============================] - 0s 374us/sample - loss: 0.2318 - mean_absolute_percentage_error: 90.8504 - val_loss: 0.1805 - val_mean_absolute_percentage_error: 205.8616\n",
      "Epoch 36/50\n",
      "72/72 [==============================] - 0s 416us/sample - loss: 0.2281 - mean_absolute_percentage_error: 88.7483 - val_loss: 0.1912 - val_mean_absolute_percentage_error: 166.1609\n",
      "Epoch 37/50\n",
      "72/72 [==============================] - 0s 374us/sample - loss: 0.2148 - mean_absolute_percentage_error: 79.9189 - val_loss: 0.2251 - val_mean_absolute_percentage_error: 143.0580\n",
      "Epoch 38/50\n",
      "72/72 [==============================] - 0s 388us/sample - loss: 0.2065 - mean_absolute_percentage_error: 82.1166 - val_loss: 0.1641 - val_mean_absolute_percentage_error: 191.6175\n",
      "Epoch 39/50\n",
      "72/72 [==============================] - 0s 360us/sample - loss: 0.2237 - mean_absolute_percentage_error: 96.8756 - val_loss: 0.1445 - val_mean_absolute_percentage_error: 213.0431\n",
      "Epoch 40/50\n",
      "72/72 [==============================] - 0s 416us/sample - loss: 0.2067 - mean_absolute_percentage_error: 86.2909 - val_loss: 0.2268 - val_mean_absolute_percentage_error: 142.2398\n",
      "Epoch 41/50\n",
      "72/72 [==============================] - 0s 416us/sample - loss: 0.2236 - mean_absolute_percentage_error: 76.9291 - val_loss: 0.2046 - val_mean_absolute_percentage_error: 158.3123\n",
      "Epoch 42/50\n",
      "72/72 [==============================] - 0s 388us/sample - loss: 0.2090 - mean_absolute_percentage_error: 86.6693 - val_loss: 0.1431 - val_mean_absolute_percentage_error: 224.9933\n",
      "Epoch 43/50\n"
     ]
    },
    {
     "name": "stdout",
     "output_type": "stream",
     "text": [
      "72/72 [==============================] - 0s 457us/sample - loss: 0.2352 - mean_absolute_percentage_error: 100.8420 - val_loss: 0.1428 - val_mean_absolute_percentage_error: 215.3514\n",
      "Epoch 44/50\n",
      "72/72 [==============================] - 0s 499us/sample - loss: 0.2129 - mean_absolute_percentage_error: 87.0617 - val_loss: 0.2062 - val_mean_absolute_percentage_error: 154.9181\n",
      "Epoch 45/50\n",
      "72/72 [==============================] - 0s 457us/sample - loss: 0.2188 - mean_absolute_percentage_error: 84.8063 - val_loss: 0.1850 - val_mean_absolute_percentage_error: 172.5570\n",
      "Epoch 46/50\n",
      "72/72 [==============================] - 0s 499us/sample - loss: 0.2049 - mean_absolute_percentage_error: 83.7818 - val_loss: 0.1922 - val_mean_absolute_percentage_error: 169.6530\n",
      "Epoch 47/50\n",
      "72/72 [==============================] - 0s 346us/sample - loss: 0.2074 - mean_absolute_percentage_error: 83.1159 - val_loss: 0.1915 - val_mean_absolute_percentage_error: 166.5098\n",
      "Epoch 48/50\n",
      "72/72 [==============================] - 0s 513us/sample - loss: 0.2101 - mean_absolute_percentage_error: 82.2633 - val_loss: 0.1889 - val_mean_absolute_percentage_error: 169.6366\n",
      "Epoch 49/50\n",
      "72/72 [==============================] - 0s 429us/sample - loss: 0.2069 - mean_absolute_percentage_error: 90.5451 - val_loss: 0.1673 - val_mean_absolute_percentage_error: 189.0737\n",
      "Epoch 50/50\n",
      "72/72 [==============================] - 0s 457us/sample - loss: 0.2201 - mean_absolute_percentage_error: 78.1691 - val_loss: 0.2538 - val_mean_absolute_percentage_error: 129.1161\n"
     ]
    },
    {
     "data": {
      "text/plain": [
       "<tensorflow.python.keras.callbacks.History at 0x249b65b8390>"
      ]
     },
     "execution_count": 81,
     "metadata": {},
     "output_type": "execute_result"
    }
   ],
   "source": [
    "# Training\n",
    "model.fit(x=X_train, \n",
    "          y=y_train,\n",
    "          validation_data=(X_val, y_val),\n",
    "          epochs=NUM_EPOCHS,\n",
    "          batch_size=BATCH_SIZE,\n",
    "          shuffle=SHUFFLE,\n",
    "          verbose=1)"
   ]
  },
  {
   "cell_type": "code",
   "execution_count": 85,
   "metadata": {
    "colab": {},
    "colab_type": "code",
    "id": "khfs3lDztn8W"
   },
   "outputs": [],
   "source": [
    "# Predictions\n",
    "pred_train = model.predict(X_train)\n",
    "pred_test = model.predict(X_test)"
   ]
  },
  {
   "cell_type": "code",
   "execution_count": 86,
   "metadata": {
    "colab": {
     "base_uri": "https://localhost:8080/",
     "height": 34
    },
    "colab_type": "code",
    "executionInfo": {
     "elapsed": 513,
     "status": "ok",
     "timestamp": 1583941147249,
     "user": {
      "displayName": "Goku Mohandas",
      "photoUrl": "https://lh3.googleusercontent.com/a-/AOh14GjMIOf3R_zwS_zZx4ZyPMtQe0lOkGpPOEUEKWpM7g=s64",
      "userId": "00378334517810298963"
     },
     "user_tz": 420
    },
    "id": "Tr2MPdIOtoIT",
    "outputId": "63d9f4ba-c2b8-47fa-a7de-e42c2c5345bd"
   },
   "outputs": [
    {
     "name": "stdout",
     "output_type": "stream",
     "text": [
      "train_mse:  0.21\n"
     ]
    }
   ],
   "source": [
    "# Train metrics\n",
    "train_mse = tf.keras.metrics.MeanSquaredError()\n",
    "train_mse.update_state(y_train, pred_train)\n",
    "print(f'train_mse: {train_mse.result().numpy(): .2f}')"
   ]
  },
  {
   "cell_type": "code",
   "execution_count": 87,
   "metadata": {
    "colab": {
     "base_uri": "https://localhost:8080/",
     "height": 34
    },
    "colab_type": "code",
    "executionInfo": {
     "elapsed": 576,
     "status": "ok",
     "timestamp": 1583941148049,
     "user": {
      "displayName": "Goku Mohandas",
      "photoUrl": "https://lh3.googleusercontent.com/a-/AOh14GjMIOf3R_zwS_zZx4ZyPMtQe0lOkGpPOEUEKWpM7g=s64",
      "userId": "00378334517810298963"
     },
     "user_tz": 420
    },
    "id": "CL4h0blqtoER",
    "outputId": "b828f072-6b0c-4c37-82fb-5657ff290e71"
   },
   "outputs": [
    {
     "name": "stdout",
     "output_type": "stream",
     "text": [
      "test_mse:  0.17\n"
     ]
    }
   ],
   "source": [
    "# Test metrics\n",
    "test_mse = tf.keras.metrics.MeanSquaredError()\n",
    "test_mse.update_state(y_test, pred_test)\n",
    "print(f'test_mse: {test_mse.result().numpy(): .2f}')"
   ]
  },
  {
   "cell_type": "markdown",
   "metadata": {
    "colab_type": "text",
    "id": "zbT59j1otfV4"
   },
   "source": [
    "Regularization didn't make a difference in performance with this specific example because our data is generated from a perfect linear equation but for large realistic data, regularization can help our model generalize well."
   ]
  },
  {
   "cell_type": "markdown",
   "metadata": {
    "colab_type": "text",
    "id": "XwSZgi_pCb3Q"
   },
   "source": [
    "---\n",
    "Share and discover ML projects at <a href=\"https://madewithml.com/\">Made With ML</a>.\n",
    "\n",
    "<div align=\"left\">\n",
    "<a class=\"ai-header-badge\" target=\"_blank\" href=\"https://github.com/madewithml/basics\"><img src=\"https://img.shields.io/github/stars/madewithml/basics.svg?style=social&label=Star\"></a>&nbsp;\n",
    "<a class=\"ai-header-badge\" target=\"_blank\" href=\"https://www.linkedin.com/company/madewithml\"><img src=\"https://img.shields.io/badge/style--5eba00.svg?label=LinkedIn&logo=linkedin&style=social\"></a>&nbsp;\n",
    "<a class=\"ai-header-badge\" target=\"_blank\" href=\"https://twitter.com/madewithml\"><img src=\"https://img.shields.io/twitter/follow/madewithml.svg?label=Follow&style=social\"></a>\n",
    "</div>\n",
    "             "
   ]
  }
 ],
 "metadata": {
  "colab": {
   "collapsed_sections": [],
   "name": "07_TF_Linear_Regression",
   "provenance": [
    {
     "file_id": "https://github.com/madewithml/basics/blob/master/notebooks/07_Linear_Regression.ipynb",
     "timestamp": 1582568936460
    }
   ],
   "toc_visible": true
  },
  "kernelspec": {
   "display_name": "Python 3",
   "language": "python",
   "name": "python3"
  },
  "language_info": {
   "codemirror_mode": {
    "name": "ipython",
    "version": 3
   },
   "file_extension": ".py",
   "mimetype": "text/x-python",
   "name": "python",
   "nbconvert_exporter": "python",
   "pygments_lexer": "ipython3",
   "version": "3.6.9"
  },
  "latex_envs": {
   "LaTeX_envs_menu_present": true,
   "autoclose": false,
   "autocomplete": true,
   "bibliofile": "biblio.bib",
   "cite_by": "apalike",
   "current_citInitial": 1,
   "eqLabelWithNumbers": true,
   "eqNumInitial": 1,
   "hotkeys": {
    "equation": "Ctrl-E",
    "itemize": "Ctrl-I"
   },
   "labels_anchors": false,
   "latex_user_defs": false,
   "report_style_numbering": false,
   "user_envs_cfg": false
  },
  "nbTranslate": {
   "displayLangs": [
    "*"
   ],
   "hotkey": "alt-t",
   "langInMainMenu": true,
   "sourceLang": "en",
   "targetLang": "fr",
   "useGoogleTranslate": true
  },
  "toc": {
   "base_numbering": 1,
   "nav_menu": {},
   "number_sections": true,
   "sideBar": true,
   "skip_h1_title": false,
   "title_cell": "Table of Contents",
   "title_sidebar": "Contents",
   "toc_cell": true,
   "toc_position": {},
   "toc_section_display": true,
   "toc_window_display": false
  }
 },
 "nbformat": 4,
 "nbformat_minor": 1
}
